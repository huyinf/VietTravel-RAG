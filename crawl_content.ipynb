{
 "cells": [
  {
   "cell_type": "code",
   "execution_count": 2,
   "metadata": {},
   "outputs": [],
   "source": [
    "import os\n",
    "import shutil\n",
    "import re\n",
    "import chardet\n",
    "import pandas as pd\n",
    "import requests\n",
    "from bs4 import BeautifulSoup\n",
    "from googlesearch import search\n",
    "from unidecode import unidecode"
   ]
  },
  {
   "cell_type": "code",
   "execution_count": 3,
   "metadata": {},
   "outputs": [],
   "source": [
    "data_dir = \"C:/Users/Admin/Documents/NLP/text_mining/seminar/data\"\n",
    "\n",
    "food_urls = os.path.join(data_dir, \"food_url.csv\")\n",
    "travel_urls = os.path.join(data_dir, \"TRAVEL_url.csv\")"
   ]
  },
  {
   "cell_type": "code",
   "execution_count": 4,
   "metadata": {},
   "outputs": [],
   "source": [
    "def is_valid_url(url):\n",
    "    try:\n",
    "        response = requests.get(url, timeout=5)\n",
    "        return response.status_code == 200  # True if URL is reachable\n",
    "    except requests.RequestException:\n",
    "        return False  # URL is broken or unreachable"
   ]
  },
  {
   "cell_type": "code",
   "execution_count": 5,
   "metadata": {},
   "outputs": [],
   "source": [
    "# num_results = 100  # Number of links to fetch\n",
    "\n",
    "\n",
    "def crawl_url(query, num_results):\n",
    "    links = [url for url in search(query, num_results=num_results)]\n",
    "\n",
    "    valid_links = [url for url in links if is_valid_url(url)]\n",
    "\n",
    "    return valid_links"
   ]
  },
  {
   "cell_type": "code",
   "execution_count": 6,
   "metadata": {},
   "outputs": [],
   "source": [
    "place = \"TỈNH HẬU GIANG\"\n",
    "query = \"du lịch \" + place\n",
    "hau_giang_20 = crawl_url(query, 20)"
   ]
  },
  {
   "cell_type": "code",
   "execution_count": 7,
   "metadata": {},
   "outputs": [],
   "source": [
    "hau_giang_20_df = pd.DataFrame(\n",
    "    {\n",
    "        \"STT\": \"20\",\n",
    "        \"Tỉnh thành phố\": \"TỈNH HẬU GIANG\",\n",
    "        \"Nguồn\": hau_giang_20,\n",
    "        \"Title\": None,\n",
    "        \"Description\": None,\n",
    "    }\n",
    ")"
   ]
  },
  {
   "cell_type": "code",
   "execution_count": 8,
   "metadata": {},
   "outputs": [],
   "source": [
    "# hau_giang_20_df.to_csv('a.csv')"
   ]
  },
  {
   "cell_type": "code",
   "execution_count": 9,
   "metadata": {},
   "outputs": [],
   "source": [
    "hau_giang_20_df = hau_giang_20_df.rename(\n",
    "    columns={\"Tỉnh thành phố\": \"Location\", \"Nguồn\": \"Source\"}\n",
    ")\n",
    "hau_giang_20_df[\"Location_norm\"] = hau_giang_20_df[\"Location\"].apply(\n",
    "    lambda x: unidecode(x).lower().replace(\" \", \"_\")\n",
    ")\n",
    "hau_giang_20_df[\"STT\"] = hau_giang_20_df[\"STT\"].astype(str)"
   ]
  },
  {
   "cell_type": "code",
   "execution_count": 10,
   "metadata": {},
   "outputs": [
    {
     "data": {
      "text/plain": [
       "0    20_tinh_hau_giang_0.txt\n",
       "1    20_tinh_hau_giang_1.txt\n",
       "2    20_tinh_hau_giang_2.txt\n",
       "3    20_tinh_hau_giang_3.txt\n",
       "4    20_tinh_hau_giang_4.txt\n",
       "Name: fname, dtype: object"
      ]
     },
     "execution_count": 10,
     "metadata": {},
     "output_type": "execute_result"
    }
   ],
   "source": [
    "hau_giang_20_df[\"fname\"] = (\n",
    "    hau_giang_20_df[[\"STT\", \"Location_norm\"]].agg(\"_\".join, axis=1)\n",
    "    + \"_\"\n",
    "    + hau_giang_20_df.index.astype(str)\n",
    "    + \".txt\"\n",
    ")\n",
    "hau_giang_20_df[\"fname\"].head()"
   ]
  },
  {
   "cell_type": "code",
   "execution_count": 11,
   "metadata": {},
   "outputs": [],
   "source": [
    "travel_df = pd.read_csv(travel_urls)\n",
    "food_df = pd.read_csv(food_urls)"
   ]
  },
  {
   "cell_type": "code",
   "execution_count": 12,
   "metadata": {},
   "outputs": [],
   "source": [
    "def normalize_vietnamese_text(text):\n",
    "    return unidecode(text)\n",
    "\n",
    "\n",
    "# # Example usage\n",
    "# vietnamese_text = \"Chào mừng bạn đến với Hà Nội\"\n",
    "# normalized_text = normalize_vietnamese_text(vietnamese_text)\n",
    "# print(normalized_text)  # Output: \"Chao mung ban den voi Ha Noi\""
   ]
  },
  {
   "cell_type": "code",
   "execution_count": 13,
   "metadata": {},
   "outputs": [
    {
     "data": {
      "application/vnd.microsoft.datawrangler.viewer.v0+json": {
       "columns": [
        {
         "name": "index",
         "rawType": "int64",
         "type": "integer"
        },
        {
         "name": "STT",
         "rawType": "int64",
         "type": "integer"
        },
        {
         "name": "Tỉnh thành phố",
         "rawType": "object",
         "type": "string"
        },
        {
         "name": "Nguồn",
         "rawType": "object",
         "type": "string"
        },
        {
         "name": "Title",
         "rawType": "object",
         "type": "string"
        },
        {
         "name": "Description",
         "rawType": "object",
         "type": "unknown"
        }
       ],
       "conversionMethod": "pd.DataFrame",
       "ref": "d1431f8c-0298-4172-aae1-17cb52d56683",
       "rows": [
        [
         "0",
         "1",
         "THÀNH PHỐ HÀ NỘI",
         "https://www.vietnamairlines.com/vn/vi/useful-information/travel-guide/du-lich-ha-noi",
         "15++ Địa điểm du lịch Hà Nội hấp dẫn không thể bỏ qua",
         "Thủ đô ngàn năm văn hiến là điểm đến thu hút nhiều du khách trong và ngoài nước bởi vẻ đẹp cổ kính pha lẫn hiện đại. Hãy cùng Vietnam Airlines khám phá 15 địa điểm du lịch Hà Nội đáng dừng chân nhất trong bài viết dưới đây nhé!"
        ],
        [
         "1",
         "1",
         "THÀNH PHỐ HÀ NỘI",
         "https://www.klook.com/vi/blog/dia-diem-du-lich-ha-noi/",
         "30 Địa Điểm Du Lịch Hà Nội Nổi Tiếng Cập Nhật Mới Nhất - Klook ...",
         "Hà Nội có gì chơi? Bỏ túi ngay các địa điểm du lịch Hà Nội nổi tiếng để hành trình khám phá thủ đô thêm hào hứng nhé."
        ],
        [
         "2",
         "1",
         "THÀNH PHỐ HÀ NỘI",
         "https://www.vntrip.vn/cam-nang/dia-diem-du-lich-ha-noi-10681",
         "23 địa điểm tham quan du lịch ở Hà Nội hấp dẫn nhất - Vntrip.vn",
         "Hà Nội có rất nhiều địa điểm đẹp & nổi tiếng. Cùng Vntrip điểm qua 23 điểm du lịch Hà Nội thú vị và hấp dẫn nhất dịp cuối tuần nhé!"
        ],
        [
         "3",
         "1",
         "THÀNH PHỐ HÀ NỘI",
         "https://vinwonders.com/vi/wonderpedia/news/top-31-dia-diem-du-lich-ha-noi/",
         "Địa điểm du lịch Hà Nội | TOP 31+ tọa độ ăn chơi HOT 2025",
         "Địa điểm du lịch Hà Nội mang một nét đặc trưng khó nơi nào có được, vừa có chút xưa cũ, trầm buồn nhưng lại không thiếu đi sự sôi động, nhộn nhịp của hiện đại."
        ],
        [
         "4",
         "1",
         "THÀNH PHỐ HÀ NỘI",
         "https://www.traveloka.com/vi-vn/explore/destination/9-dia-diem-du-lich-o-ha-noi/58013",
         "9 địa điểm du lịch ở Hà Nội chắc chắn bạn không muốn bỏ qua",
         "Traveloka xin giới thiệu các địa điểm du lịch ở Hà Nội không thể bỏ qua nếu bạn có dịp ghé thăm nơi đây nhé"
        ],
        [
         "5",
         "1",
         "THÀNH PHỐ HÀ NỘI",
         "https://vinpearl.com/vi/dia-diem-du-lich-ha-noi",
         "Địa điểm du lịch Hà Nội: 27+ gợi ý được yêu thích NHẤT",
         "Địa điểm du lịch Hà Nội luôn có sức hút đặc biệt từ di tích lịch sử, công trình độc đáo đến Hồ Gươm lộng lẫy và khu vui chơi VinKE & Vinpearl Aquarium thú vị."
        ],
        [
         "6",
         "1",
         "THÀNH PHỐ HÀ NỘI",
         "https://dulichviet.com.vn/tin-tuc/diem-danh-list-30-dia-diem-du-lich-ha-noi-dep-nhat-nam-2023",
         "Điểm danh list 30 địa điểm du lịch Hà Nội đẹp nhất năm 2023",
         "List 30 địa điểm du lịch Hà Nội cực hot dưới đây sẽ là những tọa độ lý tưởng để bạn có thể đặt chân đến khám phá, tận hưởng một không gian mới yên bình của vùng đất cố đô đấy!"
        ],
        [
         "7",
         "1",
         "THÀNH PHỐ HÀ NỘI",
         "https://nhandan.vn/ha-noi-duoc-vinh-danh-la-diem-den-du-lich-thanh-pho-hang-dau-chau-a-2023-post771163.html",
         "Hà Nội được vinh danh là Điểm đến du lịch thành phố hàng đầu ...",
         "Tối 6/9, tại Thành phố Hồ Chí Minh đã diễn ra Lễ trao giải thưởng World Travel Awards 2023 (WTA) khu vực châu Á và châu Đại dương. Tại buổi lễ, thành phố Hà Nội đã vinh dự được vinh danh ở 3 hạng mục danh giá của du lịch thế giới."
        ],
        [
         "8",
         "1",
         "THÀNH PHỐ HÀ NỘI",
         "https://hanoi.gov.vn/dau-thau-mua-sam-cong/thong-bao-moi-goi-thau-so-03-xay-dung-san-pham-du-lich-trai-nghiem-gan-voi-cac-gia-tri-di-san-di-tich-tai-diem-du-lich-ha-mo-huyen-dan-phuong-theo-tuyen-du-lich-trung-tam-ha-noi-toi-phia-tay-thanh-pho-4241022144532715.htm",
         "Thông báo mời Gói thầu số 03: Xây dựng sản phẩm du lịch trải ...",
         null
        ],
        [
         "9",
         "1",
         "THÀNH PHỐ HÀ NỘI",
         "https://cellphones.com.vn/sforum/dia-diem-du-lich-o-ha-noi",
         "Top 18 địa điểm du lịch ở Hà Nội đẹp và hấp dẫn bậc nhất",
         "Tổng hợp những địa điểm du lịch ở Hà Nội nổi tiếng, một số các địa điểm đẹp và được yêu thích có thể kể đến như: Hồ Gươm, Đền Ngọc Sơn..."
        ],
        [
         "10",
         "2",
         "THÀNH PHỐ HỒ CHÍ MINH",
         "https://www.bestprice.vn/blog/diem-den-8/ho-chi-minh-3/10-dia-diem-du-lich-thanh-pho-ho-chi-minh-noi-tieng-nhat_26-4491.html",
         "10 địa điểm du lịch thành phố Hồ Chí Minh nổi tiếng nhất - BestPrice",
         "Cùng BestPrice khám phá mảnh đất Sài Thành cực kỳ thú vị qua 10 địa điểm du lịch thành phố Hồ Chí Minh nổi tiếng nhất mà bạn không nên bỏ qua nhé!"
        ],
        [
         "11",
         "2",
         "THÀNH PHỐ HỒ CHÍ MINH",
         "https://vinpearl.com/vi/toplist-dia-diem-du-lich-sai-gon-nghe-la-muon-xach-balo-len-va-di",
         "23 Địa điểm du lịch Sài Gòn & trọn bộ cẩm nang chi tiết nhất",
         "Địa điểm du lịch Sài Gòn hiện nay khá đa dạng với nhiều hình thức khác nhau. Những điểm đến này đều hứa hẹn mang đến cho du khách trải nghiệm lý tưởng."
        ],
        [
         "12",
         "2",
         "THÀNH PHỐ HỒ CHÍ MINH",
         "https://www.visithcmc.vn/news/top-20-places-you-need-to-visit-in-ho-chi-minh-city",
         "Top 20+ địa điểm du lịch tại TPHCM (phải đến) | Visithcmc.vn - Du ...",
         "Đến với Hồ Chí Minh bạn không thể bỏ qua những địa điểm du lichj nổi tiếng mang đậm dấu ấn. Cùng Visithcm điểm qua 20 địa điểm du lichj nổi tiếng của Hồ Chí Minh."
        ],
        [
         "13",
         "2",
         "THÀNH PHỐ HỒ CHÍ MINH",
         "https://mia.vn/cam-nang-du-lich/du-lich-sai-gon-12488",
         "Cẩm nang du lịch Sài Gòn với 24 địa điểm nổi tiếng",
         "Những địa điểm du lịch Sài Gòn nổi bật vừa có giá trị lịch sử trường tồn với thời gian, vừa là nơi vui chơi giải trí dành cho tất cả mọi người. Hãy cùng MIA.vn giải mã sức hút của thành phố mang tên bác thông qua loạt các điểm đến sau đây nhé."
        ],
        [
         "14",
         "2",
         "THÀNH PHỐ HỒ CHÍ MINH",
         "https://vnexpress.net/cam-nang-du-lich-tp-hcm-4608205.html",
         "Cẩm nang Du lịch Sài Gòn 2025 từ A-Z: Di chuyển, ăn chơi, thăm ...",
         "TP HCM là thành phố lớn nhất, trung tâm kinh tế, văn hóa, giải trí của cả nước. Đây cũng là điểm du lịch và trung chuyển lớn của du khách trong và ngoài nước."
        ],
        [
         "15",
         "2",
         "THÀNH PHỐ HỒ CHÍ MINH",
         "https://vinwonders.com/vi/wonderpedia/news/dia-diem-du-lich-sai-gon/",
         "30 Địa điểm du lịch Sài Gòn độc đáo & hấp dẫn NHẤT",
         "30 địa điểm du lịch Sài Gòn là nơi bạn có thể thỏa niềm đam mê chụp ảnh, khám phá ẩm thực, văn hóa, lịch sử và trải nghiệm cuộc sống về đêm sôi động."
        ],
        [
         "16",
         "2",
         "THÀNH PHỐ HỒ CHÍ MINH",
         "https://vn.usembassy.gov/vi/frequently-asked-questions-nonimmigrant-visas/",
         "Câu hỏi thường gặp – Thị thực không định cư - Đại sứ quán và ...",
         null
        ],
        [
         "17",
         "2",
         "THÀNH PHỐ HỒ CHÍ MINH",
         "https://bazaarvietnam.vn/dia-diem-du-lich-sai-gon/",
         "Top 20 địa điểm du lịch Sài Gòn không thể bỏ qua",
         "Những địa điểm du lịch nổi tiếng ở Sài Gòn (TPHCM) trong bài viết này sẽ giúp bạn khám phá Sài Gòn ở nhiều góc nhìn đa dạng nhất!"
        ],
        [
         "18",
         "2",
         "THÀNH PHỐ HỒ CHÍ MINH",
         "https://thegioivemaybay.com/nhung-khu-du-lich-tai-thanh-pho-ho-chi-minh-khong-nen-bo-lo",
         "Những khu du lịch tại thành phố Hồ Chí Minh",
         "Vé máy bay Việt Nam giá rẻ luôn có khuyến mãi mỗi ngày. Đặt vé Việt Nam trực tuyến tiện lợi. Săn vé khuyến mãi siêu dễ. Bay đẳng cấp giá siêu rẻ"
        ],
        [
         "19",
         "2",
         "THÀNH PHỐ HỒ CHÍ MINH",
         "https://dienmaycholon.com/kinh-nghiem-mua-sam/top-10-dia-diem-du-lich-sai-gon-noi-tieng-ban-nen-trai-nghiem",
         "Top 10 địa điểm du lịch Sài Gòn nổi tiếng bạn nên trải nghiệm",
         "Cùng Siêu Thị Điện Máy - Nội Thất Chợ Lớn khám phá top 10 địa điểm du lịch Sài Gòn hấp dẫn mà bạn nên khám phá cùng người thân, bạn bè khi đến đây du lịch nhé!"
        ],
        [
         "20",
         "3",
         "THÀNH PHỐ HẢI PHÒNG",
         "https://vinpearl.com/vi/trung-tam-thanh-pho-hai-phong-co-gi-choi-15-diem-vui-choi-hap-dan-nhat",
         "Trung tâm thành phố Hải Phòng có gì chơi? 15 điểm đến hấp dẫn",
         "Trung tâm thành phố Hải Phòng có gì chơi là thắc mắc của nhiều người khi đến thành phố hoa phượng đỏ. Check-in ngay 15 địa điểm vui chơi hấp dẫn nhất Hải Phòng"
        ],
        [
         "21",
         "3",
         "THÀNH PHỐ HẢI PHÒNG",
         "https://sinhtour.vn/dia-diem-du-lich-hai-phong/",
         "Top 15 địa điểm du lịch Hải Phòng đẹp và nổi bật nhất",
         "Top 15 địa điểm du lịch Hải Phòng đẹp và nổi bật nhất, Địa điểm du lịch Hải Phòng đang được rất nhiều du khách quan tâm, Hải Phòng  là một ."
        ],
        [
         "22",
         "3",
         "THÀNH PHỐ HẢI PHÒNG",
         "https://www.bachhoaxanh.com/kinh-nghiem-hay/diem-qua-10-dia-diem-du-lich-dep-me-man-tai-hai-phong-ban-nhat-dinh-phai-den-1361750",
         "Điểm qua 15+ địa điểm du lịch đẹp mê mẩn tại Hải Phòng bạn nhất ...",
         "Hôm nay Bách hóa XANH sẽ gửi đến các bạn 15+ địa điểm du lịch đẹp mê mẩn tại Hải Phòng bạn nhất định phải đến một lần, khi đặt chân đến đây."
        ],
        [
         "23",
         "3",
         "THÀNH PHỐ HẢI PHÒNG",
         "https://mia.vn/cam-nang-du-lich/18-diem-du-lich-hai-phong-tuyet-dep-phan-4484",
         "Top 18 Điểm du lịch Hải Phòng tuyệt đẹp không thể bỏ qua",
         "Top 18 Điểm du lịch Hải Phòng tuyệt đẹp (Phần 1) đã được MIA.vn tổng hợp sẽ giúp bạn tìm được nơi ghé thăm lý tưởng nhất tại đất Cảng."
        ],
        [
         "24",
         "3",
         "THÀNH PHỐ HẢI PHÒNG",
         "https://vinwonders.com/vi/wonderpedia/news/du-lich-hai-phong-top-nhung-dia-diem-tham-quan-hot-nhat/",
         "Review du lịch Hải Phòng A-Z | Top địa điểm tham quan HOT nhất",
         "Du lịch Hải Phòng sẽ là dấu ấn mới đầy hấp dẫn cho tín đồ xê dịch với trải nghiệm ẩm thực, khám phá thiên nhiên, tìm hiểu văn hóa và nghệ thuật kiến trúc."
        ],
        [
         "25",
         "3",
         "THÀNH PHỐ HẢI PHÒNG",
         "https://sonhailimousine.com/dia-diem-du-lich-hai-phong/",
         "Tổng hợp 35 địa điểm du lịch Hải Phòng nổi tiếng nhất 2024",
         "Sơn Hải Limousine giới thiệu về các địa điểm du lịch Hải Phòng, các khu vui chơi - ăn uống, check-in nổi tiếng và những tips cần biết."
        ],
        [
         "26",
         "3",
         "THÀNH PHỐ HẢI PHÒNG",
         "https://vnexpress.net/cam-nang-du-lich-hai-phong-4462112.html",
         "Cẩm nang Du lịch HẢI PHÒNG 2025 từ A-Z: Top 10+ địa điểm vui ...",
         "Hải Phòng - thành phố hoa phượng đỏ - là điểm du lịch hấp dẫn với food tour, các bãi biển và những cây cầu hiện đại."
        ],
        [
         "27",
         "3",
         "THÀNH PHỐ HẢI PHÒNG",
         "https://haiphong.gov.vn/tin-so-nganh/thuc-day-phat-trien-du-lich-giua-thanh-pho-hai-phong-va-thanh-pho-nam-ninh-trung-quoc-704004",
         "Thúc đẩy phát triển du lịch giữa thành phố Hải Phòng và thành phố ...",
         "(Haiphong.gov.vn) - Chiều 15/8, tại thành phố Hải Phòng, Sở Du lịch Hải Phòng phối hợp Cục Văn hóa, Phát thanh, Truyền hình và Du lịch thành phố Nam Ninh (Trung Quốc) tổ chức Chương trình giới thiệu quảng bá văn hóa du lịch “Người bạn cũ Nam Ninh” năm 2024."
        ],
        [
         "28",
         "3",
         "THÀNH PHỐ HẢI PHÒNG",
         "https://www.momo.vn/blog/du-lich-hai-phong-theo-kinh-nghiem-cua-dan-ban-dia-c101dt733",
         "Du lịch Hải Phòng theo kinh nghiệm của Dân bản địa",
         "Thành phố cảng, thành phố hoa phượng đỏ là những danh xưng gắn liền với Hải Phòng. Cùng MoMo vi vu phố cảng với gợi ý lịch trình du lịch Hải Phòng 1 ngày nhé"
        ],
        [
         "29",
         "3",
         "THÀNH PHỐ HẢI PHÒNG",
         "https://haiphong.gov.vn/du-lich-76022/day-manh-hop-tac-phat-trien-du-lich-giua-tinh-thai-nguyen-va-thanh-pho-hai-phong-705426",
         "Đẩy mạnh hợp tác phát triển du lịch giữa tỉnh Thái Nguyên và thành ...",
         "(Haiphong.gov.vn) - Chiều 26/8, tại Khách sạn Hải Quân, Ban Chỉ đạo phát triển du lịch tỉnh Thái Nguyên tổ chức Hội nghị xúc tiến quảng bá du lịch tỉnh Thái Nguyên tại thành phố Hải Phòng."
        ],
        [
         "30",
         "4",
         "THÀNH PHỐ ĐÀ NẴNG",
         "https://vinpearl.com/vi/50-dia-diem-du-lich-da-nang-hap-dan-nhat-ban-tha-ho-lua-chon",
         "50 địa điểm du lịch Đà Nẵng hấp dẫn không thể bỏ qua",
         "Top 50 địa điểm du lịch Đà Nẵng HOT nhất, hấp dẫn nhất được nhiều người yêu thích. Các điểm du lịch Đà Nẵng nhất định bạn không thể bỏ qua."
        ],
        [
         "31",
         "4",
         "THÀNH PHỐ ĐÀ NẴNG",
         "https://www.bestprice.vn/blog/diem-den-8/da-nang-4/5-diem-den-noi-tieng-cua-thanh-pho-dang-song-nhat-viet-nam_26-1427.html",
         "Top 15 địa điểm du lịch ở Đà Nẵng không thể bỏ qua - BestPrice",
         "Được mệnh danh là thành phố đáng sống nhất Việt Nam, Đà Nẵng có gì chơi? Cùng BestPrice khám phá các địa điểm du lịch không thể bỏ qua khi đến Đà Nẵng nhé!"
        ],
        [
         "32",
         "4",
         "THÀNH PHỐ ĐÀ NẴNG",
         "https://vnpay.vn/dia-diem-du-lich-da-nang-047ljls73f0f",
         "20 địa điểm du lịch Đà Nẵng nổi tiếng nhất định bạn phải checkin",
         "VNPAY đã tổng hợp danh sách các địa điểm \"hút hồn\" du khách nhất tại Đà Nẵng và nên đến nhất qua bài viết sau. Hãy đọc để tìm hiểu chi tiết nhé!"
        ],
        [
         "33",
         "4",
         "THÀNH PHỐ ĐÀ NẴNG",
         "https://www.klook.com/vi/blog/dia-diem-du-lich-da-nang/",
         "25 Địa Điểm Du Lịch Đà Nẵng Nổi Tiếng Mới Nhất - Klook Blog",
         "Đà Nẵng có gì chơi? Các địa điểm du lịch Đà Nẵng nào đang khiến giới mộ điệu cuồng chân? Khám phá những địa điểm tham quan và khám phá Đà Nẵng nổi tiếng nhé."
        ],
        [
         "34",
         "4",
         "THÀNH PHỐ ĐÀ NẴNG",
         "https://duonggiahotel.vn/dia-diem-du-lich-da-nang/",
         "33 địa điểm du lịch Đà Nẵng nổi tiếng đẹp mê mẩn quên lối về",
         "Thành phố Đà Nẵng được yêu thích không chỉ là vì thành phố ở đây sạch đẹp,là nơi hội tụ nhiều địa điểm check in, vui chơi độc đáo"
        ],
        [
         "35",
         "4",
         "THÀNH PHỐ ĐÀ NẴNG",
         "https://www.momo.vn/blog/dia-diem-du-lich-da-nang-c101dt871",
         "Top 25 địa điểm du lịch Đà Nẵng hội mê xê dịch nhất định phải đến ...",
         "Top 25 địa điểm du lịch Đà Nẵng sau đây chắc chắn sẽ là điều bạn đang tìm kiếm nếu đang muốn vi vu đến đây. Cùng MoMo điểm qua một vài thông tin thú vị trước khi khởi hành nhé."
        ],
        [
         "36",
         "4",
         "THÀNH PHỐ ĐÀ NẴNG",
         "https://booking.muongthanh.com/tin-tuc/kham-pha-nhung-dia-diem-du-lich-da-nang-hap-dan",
         "Khám phá những địa điểm du lịch Đà Nẵng hấp dẫn nhất (Có giá vé ...",
         "Đà Nẵng là thành phố du lịch hấp dẫn bởi những địa điểm thiên nhiên hùng vĩ và những công trình kiến trúc độc đáo. Dưới đây là 15 địa điểm du lịch Đà Nẵng nổi bật mà bạn..."
        ],
        [
         "37",
         "4",
         "THÀNH PHỐ ĐÀ NẴNG",
         "https://fvgtravel.com.vn/tin-tuc/top-18-dia-diem-du-lich-da-nang-tuyet-voi-n105",
         "Bắt đầu hành trình với TOP 18 địa điểm du lịch Đà Nẵng mang đến ...",
         "các địa điểm du lịch Đà Nẵng không chỉ nổi tiếng bởi vị trí thuận lợi, vui chơi ăn uống thoải mái và chất lượng, mà giá cả lại vô cùng phù hợp với túi tiền của mọi người"
        ],
        [
         "38",
         "4",
         "THÀNH PHỐ ĐÀ NẴNG",
         "https://dienmaycholon.com/kinh-nghiem-mua-sam/trai-nghiem-24-dia-diem-du-lich-da-nang-me-hoac-moi-du-khach",
         "Trải nghiệm 24 địa điểm du lịch Đà Nẵng mê hoặc mọi du khách",
         "Khám phá 24 địa điểm du lịch Đà Nẵng không thể bỏ qua, từ bãi biển thơ mộng đến di tích lịch sử, làng cổ và những công trình hiện đại trong bài viết dưới đây!"
        ],
        [
         "39",
         "4",
         "THÀNH PHỐ ĐÀ NẴNG",
         "https://www.traveloka.com/vi-vn/explore/destination/30-dia-diem-du-lich-da-nang/57930",
         "40+ địa điểm du lịch Đà Nẵng hấp dẫn cho bạn 2025",
         "Cùng Traveloka điểm qua top 40+ địa điểm du lịch Đà Nẵng cực hot bạn nhất định không thể bỏ qua khi ghé thăm thành phố đáng sống nhất Việt Nam nhé!"
        ],
        [
         "40",
         "5",
         "TỈNH HÀ GIANG",
         "https://www.vietnambooking.com/du-lich/blog-du-lich/dia-diem-du-lich-ha-giang.html",
         "Top 24 địa điểm du lịch Hà Giang đẹp và nổi tiếng nhất",
         "Danh sách các địa điểm du lịch Hà Giang nổi tiếng nhất hiện nay: 1. Hoàng Su Phì 2. Đèo Mã Pí Lèng 3. Cao nguyên đá Đồng Văn 4. Dốc Thẩm Mã 5. Phó Bảng 6. Thung Lũng Sủng Là..."
        ],
        [
         "41",
         "5",
         "TỈNH HÀ GIANG",
         "https://xphuongthien.hagiang.gov.vn/tin-tuc-su-kien-89709/8-dia-diem-nhat-dinh-phai-den-khi-du-lich-thanh-pho-ha-giang-815745",
         "8 địa điểm nhất định phải đến khi Du lịch thành phố Hà Giang",
         "Thành phố Hà Giang là địa điểm các phượt thủ sẽ đặt chân đến đầu tiên khi đến với Hà Giang. Nhiều người cho rằng du lịch thành phố Hà Giang không có gì chơi, nhưng đó chỉ là bạn chưa biết các điểm du lịch thành phố Hà Giang thôi. Sau đây, xin giới thiệu tới quý du khách 8 địa điểm không thể bỏ qua khi đi Du lịch thành phố Hà Giang."
        ],
        [
         "42",
         "5",
         "TỈNH HÀ GIANG",
         "https://www.klook.com/vi/blog/dia-diem-du-lich-ha-giang/",
         "15 Địa Điểm Du Lịch Hà Giang Nổi Tiếng Không Thể Bỏ Lỡ - Klook ...",
         "Khám phá 15 địa điểm du lịch Hà Giang nổi tiếng và trải nghiệm văn hóa độc đáo tại vùng cao này. Klook - Đặt tour du lịch nhanh chóng và tiện lợi!"
        ],
        [
         "43",
         "5",
         "TỈNH HÀ GIANG",
         "https://baohagiang.vn/thong-tin-quang-cao/202403/du-lich-ha-giang-co-gi-top-10-diem-du-lich-du-khach-khong-the-bo-qua-c4d67b9/",
         "Du lịch Hà Giang có gì? Top 10+ điểm du lịch du khách không thể ...",
         "Du lịch Hà Giang có gì khiến mỗi lần nhắc đến, du khách lại xuýt xoa, phấn khích? Nói đến Hà Giang, người ta nghĩ ngay đến vùng đất còn rất hoang sơ, những làng bản, những ruộng bậc thang, những di tích lịch sử, những buổi chợ đậm nét văn hoá của đồng bào ít người… Tất cả tạo nên một Hà Giang ấn tượng khó phai."
        ],
        [
         "44",
         "5",
         "TỈNH HÀ GIANG",
         "https://sinhtour.vn/dia-diem-du-lich-ha-giang/",
         "Top 20 địa điểm du lịch Hà Giang đẹp hấp dẫn nhất 2025",
         "Địa điểm du lịch Hà Giang gồm nhiều danh lam thắng cảnh lý tưởng cho du khách khám phá và trải nghiệm. Hà Giang nhiều năm gần đây là chốn du lịch siêu hot bởi"
        ],
        [
         "45",
         "5",
         "TỈNH HÀ GIANG",
         "https://vnexpress.net/cam-nang-du-lich-ha-giang-4445788.html",
         "Kinh nghiệm du lịch Hà Giang 2025 từ A đến Z: di chuyển, lưu trú ...",
         "Hà Giang chinh phục du khách với phong cảnh hùng vĩ, ruộng bậc thang, cánh đồng hoa cải... và bản sắc văn hóa dân tộc đặc sắc."
        ],
        [
         "46",
         "5",
         "TỈNH HÀ GIANG",
         "https://www.bestprice.vn/blog/diem-den-8/ha-giang-247/bo-tui-10-dia-diem-du-lich-o-ha-giang-de-ban-thoa-suc-check-in_2-9751.html",
         "Bỏ túi 10+ địa điểm du lịch ở Hà Giang để bạn thỏa sức check in ...",
         "Bạn đang lên kế hoạch cho một chuyến hành trình du lịch Hà Giang đáng nhớ. Hãy để BestPrice giúp bạn điểm qua 10+ địa điểm du lịch ở Hà Giang để bạn thỏa sức check in ngay dưới đây nhé!"
        ],
        [
         "47",
         "5",
         "TỈNH HÀ GIANG",
         "https://hagiangamazingtour.vn/du-lich-thanh-pho-ha-giang.html",
         "Du lịch thành phố Hà Giang, 6 địa điểm được check in nhiều nhất",
         "Du lịch thành phố Hà Giang sẽ vô cùng thú vị nếu như bạn biết những địa điểm check in siêu hot sau đây."
        ],
        [
         "48",
         "5",
         "TỈNH HÀ GIANG",
         "https://www.bestprice.vn/blog/diem-den-8/ha-giang-247/15-dia-diem-du-lich-ha-giang-check-in-dep-quen-loi-ve_2-4949.html",
         "15 địa điểm du lịch Hà Giang check in đẹp quên lối về - BestPrice",
         "Ghi lại ngay 15 địa điểm du lịch Hà Giang hùng vĩ, thơ mộng nhưng lại không quá ồn ào, tấp nập, luôn để lại dấu ấn nhất định trong lòng mỗi người khi đến đây."
        ],
        [
         "49",
         "5",
         "TỈNH HÀ GIANG",
         "https://cellphones.com.vn/sforum/dia-diem-du-lich-ha-giang",
         "Mê mẩn 20+ địa điểm du lịch Hà Giang tuyệt đẹp nên ghé thăm",
         "Tổng hợp kinh nghiệm ghé thăm các địa điểm du lịch ở Hà Giang tự túc chi tiết, đầy đủ nhất. Khám phá ngay trong bài viết sau."
        ]
       ],
       "shape": {
        "columns": 5,
        "rows": 630
       }
      },
      "text/html": [
       "<div>\n",
       "<style scoped>\n",
       "    .dataframe tbody tr th:only-of-type {\n",
       "        vertical-align: middle;\n",
       "    }\n",
       "\n",
       "    .dataframe tbody tr th {\n",
       "        vertical-align: top;\n",
       "    }\n",
       "\n",
       "    .dataframe thead th {\n",
       "        text-align: right;\n",
       "    }\n",
       "</style>\n",
       "<table border=\"1\" class=\"dataframe\">\n",
       "  <thead>\n",
       "    <tr style=\"text-align: right;\">\n",
       "      <th></th>\n",
       "      <th>STT</th>\n",
       "      <th>Tỉnh thành phố</th>\n",
       "      <th>Nguồn</th>\n",
       "      <th>Title</th>\n",
       "      <th>Description</th>\n",
       "    </tr>\n",
       "  </thead>\n",
       "  <tbody>\n",
       "    <tr>\n",
       "      <th>0</th>\n",
       "      <td>1</td>\n",
       "      <td>THÀNH PHỐ HÀ NỘI</td>\n",
       "      <td>https://www.vietnamairlines.com/vn/vi/useful-i...</td>\n",
       "      <td>15++ Địa điểm du lịch Hà Nội hấp dẫn không thể...</td>\n",
       "      <td>Thủ đô ngàn năm văn hiến là điểm đến thu hút n...</td>\n",
       "    </tr>\n",
       "    <tr>\n",
       "      <th>1</th>\n",
       "      <td>1</td>\n",
       "      <td>THÀNH PHỐ HÀ NỘI</td>\n",
       "      <td>https://www.klook.com/vi/blog/dia-diem-du-lich...</td>\n",
       "      <td>30 Địa Điểm Du Lịch Hà Nội Nổi Tiếng Cập Nhật ...</td>\n",
       "      <td>Hà Nội có gì chơi? Bỏ túi ngay các địa điểm du...</td>\n",
       "    </tr>\n",
       "    <tr>\n",
       "      <th>2</th>\n",
       "      <td>1</td>\n",
       "      <td>THÀNH PHỐ HÀ NỘI</td>\n",
       "      <td>https://www.vntrip.vn/cam-nang/dia-diem-du-lic...</td>\n",
       "      <td>23 địa điểm tham quan du lịch ở Hà Nội hấp dẫn...</td>\n",
       "      <td>Hà Nội có rất nhiều địa điểm đẹp &amp; nổi tiếng. ...</td>\n",
       "    </tr>\n",
       "    <tr>\n",
       "      <th>3</th>\n",
       "      <td>1</td>\n",
       "      <td>THÀNH PHỐ HÀ NỘI</td>\n",
       "      <td>https://vinwonders.com/vi/wonderpedia/news/top...</td>\n",
       "      <td>Địa điểm du lịch Hà Nội | TOP 31+ tọa độ ăn ch...</td>\n",
       "      <td>Địa điểm du lịch Hà Nội mang một nét đặc trưng...</td>\n",
       "    </tr>\n",
       "    <tr>\n",
       "      <th>4</th>\n",
       "      <td>1</td>\n",
       "      <td>THÀNH PHỐ HÀ NỘI</td>\n",
       "      <td>https://www.traveloka.com/vi-vn/explore/destin...</td>\n",
       "      <td>9 địa điểm du lịch ở Hà Nội chắc chắn bạn khôn...</td>\n",
       "      <td>Traveloka xin giới thiệu các địa điểm du lịch ...</td>\n",
       "    </tr>\n",
       "    <tr>\n",
       "      <th>...</th>\n",
       "      <td>...</td>\n",
       "      <td>...</td>\n",
       "      <td>...</td>\n",
       "      <td>...</td>\n",
       "      <td>...</td>\n",
       "    </tr>\n",
       "    <tr>\n",
       "      <th>625</th>\n",
       "      <td>64</td>\n",
       "      <td>TỈNH HẬU GIANG</td>\n",
       "      <td>https://cellphones.com.vn/sforum/dia-diem-du-l...</td>\n",
       "      <td>Top 15 địa điểm du lịch Hậu Giang nổi tiếng và...</td>\n",
       "      <td>Du lịch Hậu Giang có gì ăn chơi? Cùng Sforum k...</td>\n",
       "    </tr>\n",
       "    <tr>\n",
       "      <th>626</th>\n",
       "      <td>64</td>\n",
       "      <td>TỈNH HẬU GIANG</td>\n",
       "      <td>https://www.traveloka.com/vi-vn/explore/destin...</td>\n",
       "      <td>Bí quyết du lịch Hậu Giang từ A – Z: Đi đâu? Ă...</td>\n",
       "      <td>Đến Hậu Giang đi đâu, ở khách sạn nào, ăn gì, ...</td>\n",
       "    </tr>\n",
       "    <tr>\n",
       "      <th>627</th>\n",
       "      <td>64</td>\n",
       "      <td>TỈNH HẬU GIANG</td>\n",
       "      <td>https://haugiangtourism.com.vn/</td>\n",
       "      <td>Du lịch tỉnh Hậu Giang</td>\n",
       "      <td>Du lịch tỉnh Hậu Giang</td>\n",
       "    </tr>\n",
       "    <tr>\n",
       "      <th>628</th>\n",
       "      <td>64</td>\n",
       "      <td>TỈNH HẬU GIANG</td>\n",
       "      <td>https://vithuy.haugiang.gov.vn/xem-chi-tiet-ti...</td>\n",
       "      <td>Các điểm du lịch trên địa bàn huyện Vị Thủy</td>\n",
       "      <td>NaN</td>\n",
       "    </tr>\n",
       "    <tr>\n",
       "      <th>629</th>\n",
       "      <td>64</td>\n",
       "      <td>TỈNH HẬU GIANG</td>\n",
       "      <td>https://thuductravel.com.vn/12-dia-diem-tham-q...</td>\n",
       "      <td>12 Địa Điểm Tham Quan Du Lịch Hậu Giang Không ...</td>\n",
       "      <td>12 Địa Điểm Tham Quan Du Lịch Hậu Giang Không ...</td>\n",
       "    </tr>\n",
       "  </tbody>\n",
       "</table>\n",
       "<p>630 rows × 5 columns</p>\n",
       "</div>"
      ],
      "text/plain": [
       "     STT    Tỉnh thành phố                                              Nguồn  \\\n",
       "0      1  THÀNH PHỐ HÀ NỘI  https://www.vietnamairlines.com/vn/vi/useful-i...   \n",
       "1      1  THÀNH PHỐ HÀ NỘI  https://www.klook.com/vi/blog/dia-diem-du-lich...   \n",
       "2      1  THÀNH PHỐ HÀ NỘI  https://www.vntrip.vn/cam-nang/dia-diem-du-lic...   \n",
       "3      1  THÀNH PHỐ HÀ NỘI  https://vinwonders.com/vi/wonderpedia/news/top...   \n",
       "4      1  THÀNH PHỐ HÀ NỘI  https://www.traveloka.com/vi-vn/explore/destin...   \n",
       "..   ...               ...                                                ...   \n",
       "625   64    TỈNH HẬU GIANG  https://cellphones.com.vn/sforum/dia-diem-du-l...   \n",
       "626   64    TỈNH HẬU GIANG  https://www.traveloka.com/vi-vn/explore/destin...   \n",
       "627   64    TỈNH HẬU GIANG                    https://haugiangtourism.com.vn/   \n",
       "628   64    TỈNH HẬU GIANG  https://vithuy.haugiang.gov.vn/xem-chi-tiet-ti...   \n",
       "629   64    TỈNH HẬU GIANG  https://thuductravel.com.vn/12-dia-diem-tham-q...   \n",
       "\n",
       "                                                 Title  \\\n",
       "0    15++ Địa điểm du lịch Hà Nội hấp dẫn không thể...   \n",
       "1    30 Địa Điểm Du Lịch Hà Nội Nổi Tiếng Cập Nhật ...   \n",
       "2    23 địa điểm tham quan du lịch ở Hà Nội hấp dẫn...   \n",
       "3    Địa điểm du lịch Hà Nội | TOP 31+ tọa độ ăn ch...   \n",
       "4    9 địa điểm du lịch ở Hà Nội chắc chắn bạn khôn...   \n",
       "..                                                 ...   \n",
       "625  Top 15 địa điểm du lịch Hậu Giang nổi tiếng và...   \n",
       "626  Bí quyết du lịch Hậu Giang từ A – Z: Đi đâu? Ă...   \n",
       "627                             Du lịch tỉnh Hậu Giang   \n",
       "628        Các điểm du lịch trên địa bàn huyện Vị Thủy   \n",
       "629  12 Địa Điểm Tham Quan Du Lịch Hậu Giang Không ...   \n",
       "\n",
       "                                           Description  \n",
       "0    Thủ đô ngàn năm văn hiến là điểm đến thu hút n...  \n",
       "1    Hà Nội có gì chơi? Bỏ túi ngay các địa điểm du...  \n",
       "2    Hà Nội có rất nhiều địa điểm đẹp & nổi tiếng. ...  \n",
       "3    Địa điểm du lịch Hà Nội mang một nét đặc trưng...  \n",
       "4    Traveloka xin giới thiệu các địa điểm du lịch ...  \n",
       "..                                                 ...  \n",
       "625  Du lịch Hậu Giang có gì ăn chơi? Cùng Sforum k...  \n",
       "626  Đến Hậu Giang đi đâu, ở khách sạn nào, ăn gì, ...  \n",
       "627                             Du lịch tỉnh Hậu Giang  \n",
       "628                                                NaN  \n",
       "629  12 Địa Điểm Tham Quan Du Lịch Hậu Giang Không ...  \n",
       "\n",
       "[630 rows x 5 columns]"
      ]
     },
     "execution_count": 13,
     "metadata": {},
     "output_type": "execute_result"
    }
   ],
   "source": [
    "travel_df"
   ]
  },
  {
   "cell_type": "code",
   "execution_count": 14,
   "metadata": {},
   "outputs": [
    {
     "data": {
      "text/plain": [
       "Index(['STT', 'Location', 'Source', 'Title', 'Description'], dtype='object')"
      ]
     },
     "execution_count": 14,
     "metadata": {},
     "output_type": "execute_result"
    }
   ],
   "source": [
    "# Rename specific columns\n",
    "travel_df = travel_df.rename(columns={\"Tỉnh thành phố\": \"Location\", \"Nguồn\": \"Source\"})\n",
    "travel_df.columns"
   ]
  },
  {
   "cell_type": "code",
   "execution_count": 15,
   "metadata": {},
   "outputs": [],
   "source": [
    "travel_df[\"Location_norm\"] = travel_df[\"Location\"].apply(\n",
    "    lambda x: unidecode(x).lower().replace(\" \", \"_\")\n",
    ")\n",
    "travel_df[\"STT\"] = travel_df[\"STT\"].astype(str)"
   ]
  },
  {
   "cell_type": "code",
   "execution_count": 16,
   "metadata": {},
   "outputs": [
    {
     "data": {
      "text/plain": [
       "0    1_thanh_pho_ha_noi_0.txt\n",
       "1    1_thanh_pho_ha_noi_1.txt\n",
       "2    1_thanh_pho_ha_noi_2.txt\n",
       "3    1_thanh_pho_ha_noi_3.txt\n",
       "4    1_thanh_pho_ha_noi_4.txt\n",
       "Name: fname, dtype: object"
      ]
     },
     "execution_count": 16,
     "metadata": {},
     "output_type": "execute_result"
    }
   ],
   "source": [
    "travel_df[\"fname\"] = (\n",
    "    travel_df[[\"STT\", \"Location_norm\"]].agg(\"_\".join, axis=1)\n",
    "    + \"_\"\n",
    "    + travel_df.index.astype(str)\n",
    "    + \".txt\"\n",
    ")\n",
    "travel_df[\"fname\"].head()"
   ]
  },
  {
   "cell_type": "code",
   "execution_count": 17,
   "metadata": {},
   "outputs": [],
   "source": [
    "# add urls of hau giang to raw dataframe\n",
    "\n",
    "travel_df = pd.concat([travel_df, hau_giang_20_df], ignore_index=True)\n",
    "# travel_df = travel_df.sort_values(by=\"STT\")"
   ]
  },
  {
   "cell_type": "code",
   "execution_count": 18,
   "metadata": {},
   "outputs": [],
   "source": [
    "def fetch_and_save(url, filename, output_dir=\"crawled_pages\"):\n",
    "    \"\"\"Fetches a webpage and saves its text content to a file.\"\"\"\n",
    "    try:\n",
    "        # Fetch the webpage\n",
    "        response = requests.get(url, timeout=5)\n",
    "        response.raise_for_status()  # Raise an error for bad responses (4xx, 5xx)\n",
    "\n",
    "        # Parse HTML content\n",
    "        soup = BeautifulSoup(response.text, \"html.parser\")\n",
    "\n",
    "        # Extract the main text content\n",
    "        text = soup.get_text(separator=\"\\n\", strip=True)\n",
    "\n",
    "        # Generate a filename based on the URL\n",
    "        # filename = url.replace(\"https://\", \"\").replace(\"http://\", \"\").replace(\"/\", \"_\") + \".txt\"\n",
    "        filepath = os.path.join(output_dir, filename)\n",
    "\n",
    "        # Create output directory if it doesn't exist\n",
    "        os.makedirs(output_dir, exist_ok=True)\n",
    "\n",
    "        # Save content to file\n",
    "        with open(filepath, \"w\", encoding=\"utf-8\") as file:\n",
    "            file.write(text)\n",
    "\n",
    "        print(f\"✅ Saved: {url} -> {filepath}\")\n",
    "        return filepath\n",
    "    except requests.RequestException as e:\n",
    "        print(f\"❌ Failed to fetch {url}: {e}\")\n",
    "        return None"
   ]
  },
  {
   "cell_type": "code",
   "execution_count": 19,
   "metadata": {},
   "outputs": [],
   "source": [
    "# for index, row in travel_df.iterrows():\n",
    "#     # Access row values by column name\n",
    "#     # print(index, row['STT'], row['fname'])\n",
    "#     if is_valid_url(row[\"Source\"]):\n",
    "#         fetch_and_save(row[\"Source\"], row[\"fname\"], output_dir=\"travel\")"
   ]
  },
  {
   "cell_type": "code",
   "execution_count": 20,
   "metadata": {},
   "outputs": [],
   "source": [
    "travel_content_dir = \"C:/Users/Admin/Documents/NLP/text_mining/seminar/travel\"\n",
    "even_dir = os.path.join(travel_content_dir, \"even\")\n",
    "odd_dir = os.path.join(travel_content_dir, \"odd\")\n",
    "\n",
    "\n",
    "if not os.path.exists(even_dir):\n",
    "    os.makedirs(even_dir)\n",
    "if not os.path.exists(odd_dir):\n",
    "    os.makedirs(odd_dir)"
   ]
  },
  {
   "cell_type": "code",
   "execution_count": 21,
   "metadata": {},
   "outputs": [],
   "source": [
    "for dirname, _, filenames in os.walk(travel_content_dir):\n",
    "    for filename in filenames:\n",
    "        src_path = os.path.join(dirname, filename)\n",
    "\n",
    "        metadata = filename.split(\"_\")\n",
    "        order = int(metadata[0])\n",
    "\n",
    "        if order % 2 == 1:\n",
    "            des_path = os.path.join(odd_dir, filename)\n",
    "        else:\n",
    "            des_path = os.path.join(even_dir, filename)\n",
    "\n",
    "        shutil.move(src_path, des_path)"
   ]
  },
  {
   "cell_type": "code",
   "execution_count": null,
   "metadata": {},
   "outputs": [],
   "source": []
  },
  {
   "cell_type": "code",
   "execution_count": 22,
   "metadata": {},
   "outputs": [
    {
     "data": {
      "application/vnd.microsoft.datawrangler.viewer.v0+json": {
       "columns": [
        {
         "name": "index",
         "rawType": "int64",
         "type": "integer"
        },
        {
         "name": "STT",
         "rawType": "object",
         "type": "string"
        },
        {
         "name": "Location",
         "rawType": "object",
         "type": "string"
        },
        {
         "name": "Source",
         "rawType": "object",
         "type": "string"
        },
        {
         "name": "Title",
         "rawType": "object",
         "type": "unknown"
        },
        {
         "name": "Description",
         "rawType": "object",
         "type": "unknown"
        },
        {
         "name": "Location_norm",
         "rawType": "object",
         "type": "string"
        },
        {
         "name": "fname",
         "rawType": "object",
         "type": "string"
        }
       ],
       "conversionMethod": "pd.DataFrame",
       "ref": "8a448e69-5265-4339-b4aa-cbc354aed510",
       "rows": [
        [
         "0",
         "1",
         "THÀNH PHỐ HÀ NỘI",
         "https://www.vietnamairlines.com/vn/vi/useful-information/travel-guide/du-lich-ha-noi",
         "15++ Địa điểm du lịch Hà Nội hấp dẫn không thể bỏ qua",
         "Thủ đô ngàn năm văn hiến là điểm đến thu hút nhiều du khách trong và ngoài nước bởi vẻ đẹp cổ kính pha lẫn hiện đại. Hãy cùng Vietnam Airlines khám phá 15 địa điểm du lịch Hà Nội đáng dừng chân nhất trong bài viết dưới đây nhé!",
         "thanh_pho_ha_noi",
         "1_thanh_pho_ha_noi_0.txt"
        ],
        [
         "1",
         "1",
         "THÀNH PHỐ HÀ NỘI",
         "https://www.klook.com/vi/blog/dia-diem-du-lich-ha-noi/",
         "30 Địa Điểm Du Lịch Hà Nội Nổi Tiếng Cập Nhật Mới Nhất - Klook ...",
         "Hà Nội có gì chơi? Bỏ túi ngay các địa điểm du lịch Hà Nội nổi tiếng để hành trình khám phá thủ đô thêm hào hứng nhé.",
         "thanh_pho_ha_noi",
         "1_thanh_pho_ha_noi_1.txt"
        ],
        [
         "2",
         "1",
         "THÀNH PHỐ HÀ NỘI",
         "https://www.vntrip.vn/cam-nang/dia-diem-du-lich-ha-noi-10681",
         "23 địa điểm tham quan du lịch ở Hà Nội hấp dẫn nhất - Vntrip.vn",
         "Hà Nội có rất nhiều địa điểm đẹp & nổi tiếng. Cùng Vntrip điểm qua 23 điểm du lịch Hà Nội thú vị và hấp dẫn nhất dịp cuối tuần nhé!",
         "thanh_pho_ha_noi",
         "1_thanh_pho_ha_noi_2.txt"
        ],
        [
         "3",
         "1",
         "THÀNH PHỐ HÀ NỘI",
         "https://vinwonders.com/vi/wonderpedia/news/top-31-dia-diem-du-lich-ha-noi/",
         "Địa điểm du lịch Hà Nội | TOP 31+ tọa độ ăn chơi HOT 2025",
         "Địa điểm du lịch Hà Nội mang một nét đặc trưng khó nơi nào có được, vừa có chút xưa cũ, trầm buồn nhưng lại không thiếu đi sự sôi động, nhộn nhịp của hiện đại.",
         "thanh_pho_ha_noi",
         "1_thanh_pho_ha_noi_3.txt"
        ],
        [
         "4",
         "1",
         "THÀNH PHỐ HÀ NỘI",
         "https://www.traveloka.com/vi-vn/explore/destination/9-dia-diem-du-lich-o-ha-noi/58013",
         "9 địa điểm du lịch ở Hà Nội chắc chắn bạn không muốn bỏ qua",
         "Traveloka xin giới thiệu các địa điểm du lịch ở Hà Nội không thể bỏ qua nếu bạn có dịp ghé thăm nơi đây nhé",
         "thanh_pho_ha_noi",
         "1_thanh_pho_ha_noi_4.txt"
        ],
        [
         "5",
         "1",
         "THÀNH PHỐ HÀ NỘI",
         "https://vinpearl.com/vi/dia-diem-du-lich-ha-noi",
         "Địa điểm du lịch Hà Nội: 27+ gợi ý được yêu thích NHẤT",
         "Địa điểm du lịch Hà Nội luôn có sức hút đặc biệt từ di tích lịch sử, công trình độc đáo đến Hồ Gươm lộng lẫy và khu vui chơi VinKE & Vinpearl Aquarium thú vị.",
         "thanh_pho_ha_noi",
         "1_thanh_pho_ha_noi_5.txt"
        ],
        [
         "6",
         "1",
         "THÀNH PHỐ HÀ NỘI",
         "https://dulichviet.com.vn/tin-tuc/diem-danh-list-30-dia-diem-du-lich-ha-noi-dep-nhat-nam-2023",
         "Điểm danh list 30 địa điểm du lịch Hà Nội đẹp nhất năm 2023",
         "List 30 địa điểm du lịch Hà Nội cực hot dưới đây sẽ là những tọa độ lý tưởng để bạn có thể đặt chân đến khám phá, tận hưởng một không gian mới yên bình của vùng đất cố đô đấy!",
         "thanh_pho_ha_noi",
         "1_thanh_pho_ha_noi_6.txt"
        ],
        [
         "7",
         "1",
         "THÀNH PHỐ HÀ NỘI",
         "https://nhandan.vn/ha-noi-duoc-vinh-danh-la-diem-den-du-lich-thanh-pho-hang-dau-chau-a-2023-post771163.html",
         "Hà Nội được vinh danh là Điểm đến du lịch thành phố hàng đầu ...",
         "Tối 6/9, tại Thành phố Hồ Chí Minh đã diễn ra Lễ trao giải thưởng World Travel Awards 2023 (WTA) khu vực châu Á và châu Đại dương. Tại buổi lễ, thành phố Hà Nội đã vinh dự được vinh danh ở 3 hạng mục danh giá của du lịch thế giới.",
         "thanh_pho_ha_noi",
         "1_thanh_pho_ha_noi_7.txt"
        ],
        [
         "8",
         "1",
         "THÀNH PHỐ HÀ NỘI",
         "https://hanoi.gov.vn/dau-thau-mua-sam-cong/thong-bao-moi-goi-thau-so-03-xay-dung-san-pham-du-lich-trai-nghiem-gan-voi-cac-gia-tri-di-san-di-tich-tai-diem-du-lich-ha-mo-huyen-dan-phuong-theo-tuyen-du-lich-trung-tam-ha-noi-toi-phia-tay-thanh-pho-4241022144532715.htm",
         "Thông báo mời Gói thầu số 03: Xây dựng sản phẩm du lịch trải ...",
         null,
         "thanh_pho_ha_noi",
         "1_thanh_pho_ha_noi_8.txt"
        ],
        [
         "9",
         "1",
         "THÀNH PHỐ HÀ NỘI",
         "https://cellphones.com.vn/sforum/dia-diem-du-lich-o-ha-noi",
         "Top 18 địa điểm du lịch ở Hà Nội đẹp và hấp dẫn bậc nhất",
         "Tổng hợp những địa điểm du lịch ở Hà Nội nổi tiếng, một số các địa điểm đẹp và được yêu thích có thể kể đến như: Hồ Gươm, Đền Ngọc Sơn...",
         "thanh_pho_ha_noi",
         "1_thanh_pho_ha_noi_9.txt"
        ],
        [
         "10",
         "2",
         "THÀNH PHỐ HỒ CHÍ MINH",
         "https://www.bestprice.vn/blog/diem-den-8/ho-chi-minh-3/10-dia-diem-du-lich-thanh-pho-ho-chi-minh-noi-tieng-nhat_26-4491.html",
         "10 địa điểm du lịch thành phố Hồ Chí Minh nổi tiếng nhất - BestPrice",
         "Cùng BestPrice khám phá mảnh đất Sài Thành cực kỳ thú vị qua 10 địa điểm du lịch thành phố Hồ Chí Minh nổi tiếng nhất mà bạn không nên bỏ qua nhé!",
         "thanh_pho_ho_chi_minh",
         "2_thanh_pho_ho_chi_minh_10.txt"
        ],
        [
         "11",
         "2",
         "THÀNH PHỐ HỒ CHÍ MINH",
         "https://vinpearl.com/vi/toplist-dia-diem-du-lich-sai-gon-nghe-la-muon-xach-balo-len-va-di",
         "23 Địa điểm du lịch Sài Gòn & trọn bộ cẩm nang chi tiết nhất",
         "Địa điểm du lịch Sài Gòn hiện nay khá đa dạng với nhiều hình thức khác nhau. Những điểm đến này đều hứa hẹn mang đến cho du khách trải nghiệm lý tưởng.",
         "thanh_pho_ho_chi_minh",
         "2_thanh_pho_ho_chi_minh_11.txt"
        ],
        [
         "12",
         "2",
         "THÀNH PHỐ HỒ CHÍ MINH",
         "https://www.visithcmc.vn/news/top-20-places-you-need-to-visit-in-ho-chi-minh-city",
         "Top 20+ địa điểm du lịch tại TPHCM (phải đến) | Visithcmc.vn - Du ...",
         "Đến với Hồ Chí Minh bạn không thể bỏ qua những địa điểm du lichj nổi tiếng mang đậm dấu ấn. Cùng Visithcm điểm qua 20 địa điểm du lichj nổi tiếng của Hồ Chí Minh.",
         "thanh_pho_ho_chi_minh",
         "2_thanh_pho_ho_chi_minh_12.txt"
        ],
        [
         "13",
         "2",
         "THÀNH PHỐ HỒ CHÍ MINH",
         "https://mia.vn/cam-nang-du-lich/du-lich-sai-gon-12488",
         "Cẩm nang du lịch Sài Gòn với 24 địa điểm nổi tiếng",
         "Những địa điểm du lịch Sài Gòn nổi bật vừa có giá trị lịch sử trường tồn với thời gian, vừa là nơi vui chơi giải trí dành cho tất cả mọi người. Hãy cùng MIA.vn giải mã sức hút của thành phố mang tên bác thông qua loạt các điểm đến sau đây nhé.",
         "thanh_pho_ho_chi_minh",
         "2_thanh_pho_ho_chi_minh_13.txt"
        ],
        [
         "14",
         "2",
         "THÀNH PHỐ HỒ CHÍ MINH",
         "https://vnexpress.net/cam-nang-du-lich-tp-hcm-4608205.html",
         "Cẩm nang Du lịch Sài Gòn 2025 từ A-Z: Di chuyển, ăn chơi, thăm ...",
         "TP HCM là thành phố lớn nhất, trung tâm kinh tế, văn hóa, giải trí của cả nước. Đây cũng là điểm du lịch và trung chuyển lớn của du khách trong và ngoài nước.",
         "thanh_pho_ho_chi_minh",
         "2_thanh_pho_ho_chi_minh_14.txt"
        ],
        [
         "15",
         "2",
         "THÀNH PHỐ HỒ CHÍ MINH",
         "https://vinwonders.com/vi/wonderpedia/news/dia-diem-du-lich-sai-gon/",
         "30 Địa điểm du lịch Sài Gòn độc đáo & hấp dẫn NHẤT",
         "30 địa điểm du lịch Sài Gòn là nơi bạn có thể thỏa niềm đam mê chụp ảnh, khám phá ẩm thực, văn hóa, lịch sử và trải nghiệm cuộc sống về đêm sôi động.",
         "thanh_pho_ho_chi_minh",
         "2_thanh_pho_ho_chi_minh_15.txt"
        ],
        [
         "16",
         "2",
         "THÀNH PHỐ HỒ CHÍ MINH",
         "https://vn.usembassy.gov/vi/frequently-asked-questions-nonimmigrant-visas/",
         "Câu hỏi thường gặp – Thị thực không định cư - Đại sứ quán và ...",
         null,
         "thanh_pho_ho_chi_minh",
         "2_thanh_pho_ho_chi_minh_16.txt"
        ],
        [
         "17",
         "2",
         "THÀNH PHỐ HỒ CHÍ MINH",
         "https://bazaarvietnam.vn/dia-diem-du-lich-sai-gon/",
         "Top 20 địa điểm du lịch Sài Gòn không thể bỏ qua",
         "Những địa điểm du lịch nổi tiếng ở Sài Gòn (TPHCM) trong bài viết này sẽ giúp bạn khám phá Sài Gòn ở nhiều góc nhìn đa dạng nhất!",
         "thanh_pho_ho_chi_minh",
         "2_thanh_pho_ho_chi_minh_17.txt"
        ],
        [
         "18",
         "2",
         "THÀNH PHỐ HỒ CHÍ MINH",
         "https://thegioivemaybay.com/nhung-khu-du-lich-tai-thanh-pho-ho-chi-minh-khong-nen-bo-lo",
         "Những khu du lịch tại thành phố Hồ Chí Minh",
         "Vé máy bay Việt Nam giá rẻ luôn có khuyến mãi mỗi ngày. Đặt vé Việt Nam trực tuyến tiện lợi. Săn vé khuyến mãi siêu dễ. Bay đẳng cấp giá siêu rẻ",
         "thanh_pho_ho_chi_minh",
         "2_thanh_pho_ho_chi_minh_18.txt"
        ],
        [
         "19",
         "2",
         "THÀNH PHỐ HỒ CHÍ MINH",
         "https://dienmaycholon.com/kinh-nghiem-mua-sam/top-10-dia-diem-du-lich-sai-gon-noi-tieng-ban-nen-trai-nghiem",
         "Top 10 địa điểm du lịch Sài Gòn nổi tiếng bạn nên trải nghiệm",
         "Cùng Siêu Thị Điện Máy - Nội Thất Chợ Lớn khám phá top 10 địa điểm du lịch Sài Gòn hấp dẫn mà bạn nên khám phá cùng người thân, bạn bè khi đến đây du lịch nhé!",
         "thanh_pho_ho_chi_minh",
         "2_thanh_pho_ho_chi_minh_19.txt"
        ],
        [
         "20",
         "3",
         "THÀNH PHỐ HẢI PHÒNG",
         "https://vinpearl.com/vi/trung-tam-thanh-pho-hai-phong-co-gi-choi-15-diem-vui-choi-hap-dan-nhat",
         "Trung tâm thành phố Hải Phòng có gì chơi? 15 điểm đến hấp dẫn",
         "Trung tâm thành phố Hải Phòng có gì chơi là thắc mắc của nhiều người khi đến thành phố hoa phượng đỏ. Check-in ngay 15 địa điểm vui chơi hấp dẫn nhất Hải Phòng",
         "thanh_pho_hai_phong",
         "3_thanh_pho_hai_phong_20.txt"
        ],
        [
         "21",
         "3",
         "THÀNH PHỐ HẢI PHÒNG",
         "https://sinhtour.vn/dia-diem-du-lich-hai-phong/",
         "Top 15 địa điểm du lịch Hải Phòng đẹp và nổi bật nhất",
         "Top 15 địa điểm du lịch Hải Phòng đẹp và nổi bật nhất, Địa điểm du lịch Hải Phòng đang được rất nhiều du khách quan tâm, Hải Phòng  là một .",
         "thanh_pho_hai_phong",
         "3_thanh_pho_hai_phong_21.txt"
        ],
        [
         "22",
         "3",
         "THÀNH PHỐ HẢI PHÒNG",
         "https://www.bachhoaxanh.com/kinh-nghiem-hay/diem-qua-10-dia-diem-du-lich-dep-me-man-tai-hai-phong-ban-nhat-dinh-phai-den-1361750",
         "Điểm qua 15+ địa điểm du lịch đẹp mê mẩn tại Hải Phòng bạn nhất ...",
         "Hôm nay Bách hóa XANH sẽ gửi đến các bạn 15+ địa điểm du lịch đẹp mê mẩn tại Hải Phòng bạn nhất định phải đến một lần, khi đặt chân đến đây.",
         "thanh_pho_hai_phong",
         "3_thanh_pho_hai_phong_22.txt"
        ],
        [
         "23",
         "3",
         "THÀNH PHỐ HẢI PHÒNG",
         "https://mia.vn/cam-nang-du-lich/18-diem-du-lich-hai-phong-tuyet-dep-phan-4484",
         "Top 18 Điểm du lịch Hải Phòng tuyệt đẹp không thể bỏ qua",
         "Top 18 Điểm du lịch Hải Phòng tuyệt đẹp (Phần 1) đã được MIA.vn tổng hợp sẽ giúp bạn tìm được nơi ghé thăm lý tưởng nhất tại đất Cảng.",
         "thanh_pho_hai_phong",
         "3_thanh_pho_hai_phong_23.txt"
        ],
        [
         "24",
         "3",
         "THÀNH PHỐ HẢI PHÒNG",
         "https://vinwonders.com/vi/wonderpedia/news/du-lich-hai-phong-top-nhung-dia-diem-tham-quan-hot-nhat/",
         "Review du lịch Hải Phòng A-Z | Top địa điểm tham quan HOT nhất",
         "Du lịch Hải Phòng sẽ là dấu ấn mới đầy hấp dẫn cho tín đồ xê dịch với trải nghiệm ẩm thực, khám phá thiên nhiên, tìm hiểu văn hóa và nghệ thuật kiến trúc.",
         "thanh_pho_hai_phong",
         "3_thanh_pho_hai_phong_24.txt"
        ],
        [
         "25",
         "3",
         "THÀNH PHỐ HẢI PHÒNG",
         "https://sonhailimousine.com/dia-diem-du-lich-hai-phong/",
         "Tổng hợp 35 địa điểm du lịch Hải Phòng nổi tiếng nhất 2024",
         "Sơn Hải Limousine giới thiệu về các địa điểm du lịch Hải Phòng, các khu vui chơi - ăn uống, check-in nổi tiếng và những tips cần biết.",
         "thanh_pho_hai_phong",
         "3_thanh_pho_hai_phong_25.txt"
        ],
        [
         "26",
         "3",
         "THÀNH PHỐ HẢI PHÒNG",
         "https://vnexpress.net/cam-nang-du-lich-hai-phong-4462112.html",
         "Cẩm nang Du lịch HẢI PHÒNG 2025 từ A-Z: Top 10+ địa điểm vui ...",
         "Hải Phòng - thành phố hoa phượng đỏ - là điểm du lịch hấp dẫn với food tour, các bãi biển và những cây cầu hiện đại.",
         "thanh_pho_hai_phong",
         "3_thanh_pho_hai_phong_26.txt"
        ],
        [
         "27",
         "3",
         "THÀNH PHỐ HẢI PHÒNG",
         "https://haiphong.gov.vn/tin-so-nganh/thuc-day-phat-trien-du-lich-giua-thanh-pho-hai-phong-va-thanh-pho-nam-ninh-trung-quoc-704004",
         "Thúc đẩy phát triển du lịch giữa thành phố Hải Phòng và thành phố ...",
         "(Haiphong.gov.vn) - Chiều 15/8, tại thành phố Hải Phòng, Sở Du lịch Hải Phòng phối hợp Cục Văn hóa, Phát thanh, Truyền hình và Du lịch thành phố Nam Ninh (Trung Quốc) tổ chức Chương trình giới thiệu quảng bá văn hóa du lịch “Người bạn cũ Nam Ninh” năm 2024.",
         "thanh_pho_hai_phong",
         "3_thanh_pho_hai_phong_27.txt"
        ],
        [
         "28",
         "3",
         "THÀNH PHỐ HẢI PHÒNG",
         "https://www.momo.vn/blog/du-lich-hai-phong-theo-kinh-nghiem-cua-dan-ban-dia-c101dt733",
         "Du lịch Hải Phòng theo kinh nghiệm của Dân bản địa",
         "Thành phố cảng, thành phố hoa phượng đỏ là những danh xưng gắn liền với Hải Phòng. Cùng MoMo vi vu phố cảng với gợi ý lịch trình du lịch Hải Phòng 1 ngày nhé",
         "thanh_pho_hai_phong",
         "3_thanh_pho_hai_phong_28.txt"
        ],
        [
         "29",
         "3",
         "THÀNH PHỐ HẢI PHÒNG",
         "https://haiphong.gov.vn/du-lich-76022/day-manh-hop-tac-phat-trien-du-lich-giua-tinh-thai-nguyen-va-thanh-pho-hai-phong-705426",
         "Đẩy mạnh hợp tác phát triển du lịch giữa tỉnh Thái Nguyên và thành ...",
         "(Haiphong.gov.vn) - Chiều 26/8, tại Khách sạn Hải Quân, Ban Chỉ đạo phát triển du lịch tỉnh Thái Nguyên tổ chức Hội nghị xúc tiến quảng bá du lịch tỉnh Thái Nguyên tại thành phố Hải Phòng.",
         "thanh_pho_hai_phong",
         "3_thanh_pho_hai_phong_29.txt"
        ],
        [
         "30",
         "4",
         "THÀNH PHỐ ĐÀ NẴNG",
         "https://vinpearl.com/vi/50-dia-diem-du-lich-da-nang-hap-dan-nhat-ban-tha-ho-lua-chon",
         "50 địa điểm du lịch Đà Nẵng hấp dẫn không thể bỏ qua",
         "Top 50 địa điểm du lịch Đà Nẵng HOT nhất, hấp dẫn nhất được nhiều người yêu thích. Các điểm du lịch Đà Nẵng nhất định bạn không thể bỏ qua.",
         "thanh_pho_da_nang",
         "4_thanh_pho_da_nang_30.txt"
        ],
        [
         "31",
         "4",
         "THÀNH PHỐ ĐÀ NẴNG",
         "https://www.bestprice.vn/blog/diem-den-8/da-nang-4/5-diem-den-noi-tieng-cua-thanh-pho-dang-song-nhat-viet-nam_26-1427.html",
         "Top 15 địa điểm du lịch ở Đà Nẵng không thể bỏ qua - BestPrice",
         "Được mệnh danh là thành phố đáng sống nhất Việt Nam, Đà Nẵng có gì chơi? Cùng BestPrice khám phá các địa điểm du lịch không thể bỏ qua khi đến Đà Nẵng nhé!",
         "thanh_pho_da_nang",
         "4_thanh_pho_da_nang_31.txt"
        ],
        [
         "32",
         "4",
         "THÀNH PHỐ ĐÀ NẴNG",
         "https://vnpay.vn/dia-diem-du-lich-da-nang-047ljls73f0f",
         "20 địa điểm du lịch Đà Nẵng nổi tiếng nhất định bạn phải checkin",
         "VNPAY đã tổng hợp danh sách các địa điểm \"hút hồn\" du khách nhất tại Đà Nẵng và nên đến nhất qua bài viết sau. Hãy đọc để tìm hiểu chi tiết nhé!",
         "thanh_pho_da_nang",
         "4_thanh_pho_da_nang_32.txt"
        ],
        [
         "33",
         "4",
         "THÀNH PHỐ ĐÀ NẴNG",
         "https://www.klook.com/vi/blog/dia-diem-du-lich-da-nang/",
         "25 Địa Điểm Du Lịch Đà Nẵng Nổi Tiếng Mới Nhất - Klook Blog",
         "Đà Nẵng có gì chơi? Các địa điểm du lịch Đà Nẵng nào đang khiến giới mộ điệu cuồng chân? Khám phá những địa điểm tham quan và khám phá Đà Nẵng nổi tiếng nhé.",
         "thanh_pho_da_nang",
         "4_thanh_pho_da_nang_33.txt"
        ],
        [
         "34",
         "4",
         "THÀNH PHỐ ĐÀ NẴNG",
         "https://duonggiahotel.vn/dia-diem-du-lich-da-nang/",
         "33 địa điểm du lịch Đà Nẵng nổi tiếng đẹp mê mẩn quên lối về",
         "Thành phố Đà Nẵng được yêu thích không chỉ là vì thành phố ở đây sạch đẹp,là nơi hội tụ nhiều địa điểm check in, vui chơi độc đáo",
         "thanh_pho_da_nang",
         "4_thanh_pho_da_nang_34.txt"
        ],
        [
         "35",
         "4",
         "THÀNH PHỐ ĐÀ NẴNG",
         "https://www.momo.vn/blog/dia-diem-du-lich-da-nang-c101dt871",
         "Top 25 địa điểm du lịch Đà Nẵng hội mê xê dịch nhất định phải đến ...",
         "Top 25 địa điểm du lịch Đà Nẵng sau đây chắc chắn sẽ là điều bạn đang tìm kiếm nếu đang muốn vi vu đến đây. Cùng MoMo điểm qua một vài thông tin thú vị trước khi khởi hành nhé.",
         "thanh_pho_da_nang",
         "4_thanh_pho_da_nang_35.txt"
        ],
        [
         "36",
         "4",
         "THÀNH PHỐ ĐÀ NẴNG",
         "https://booking.muongthanh.com/tin-tuc/kham-pha-nhung-dia-diem-du-lich-da-nang-hap-dan",
         "Khám phá những địa điểm du lịch Đà Nẵng hấp dẫn nhất (Có giá vé ...",
         "Đà Nẵng là thành phố du lịch hấp dẫn bởi những địa điểm thiên nhiên hùng vĩ và những công trình kiến trúc độc đáo. Dưới đây là 15 địa điểm du lịch Đà Nẵng nổi bật mà bạn...",
         "thanh_pho_da_nang",
         "4_thanh_pho_da_nang_36.txt"
        ],
        [
         "37",
         "4",
         "THÀNH PHỐ ĐÀ NẴNG",
         "https://fvgtravel.com.vn/tin-tuc/top-18-dia-diem-du-lich-da-nang-tuyet-voi-n105",
         "Bắt đầu hành trình với TOP 18 địa điểm du lịch Đà Nẵng mang đến ...",
         "các địa điểm du lịch Đà Nẵng không chỉ nổi tiếng bởi vị trí thuận lợi, vui chơi ăn uống thoải mái và chất lượng, mà giá cả lại vô cùng phù hợp với túi tiền của mọi người",
         "thanh_pho_da_nang",
         "4_thanh_pho_da_nang_37.txt"
        ],
        [
         "38",
         "4",
         "THÀNH PHỐ ĐÀ NẴNG",
         "https://dienmaycholon.com/kinh-nghiem-mua-sam/trai-nghiem-24-dia-diem-du-lich-da-nang-me-hoac-moi-du-khach",
         "Trải nghiệm 24 địa điểm du lịch Đà Nẵng mê hoặc mọi du khách",
         "Khám phá 24 địa điểm du lịch Đà Nẵng không thể bỏ qua, từ bãi biển thơ mộng đến di tích lịch sử, làng cổ và những công trình hiện đại trong bài viết dưới đây!",
         "thanh_pho_da_nang",
         "4_thanh_pho_da_nang_38.txt"
        ],
        [
         "39",
         "4",
         "THÀNH PHỐ ĐÀ NẴNG",
         "https://www.traveloka.com/vi-vn/explore/destination/30-dia-diem-du-lich-da-nang/57930",
         "40+ địa điểm du lịch Đà Nẵng hấp dẫn cho bạn 2025",
         "Cùng Traveloka điểm qua top 40+ địa điểm du lịch Đà Nẵng cực hot bạn nhất định không thể bỏ qua khi ghé thăm thành phố đáng sống nhất Việt Nam nhé!",
         "thanh_pho_da_nang",
         "4_thanh_pho_da_nang_39.txt"
        ],
        [
         "40",
         "5",
         "TỈNH HÀ GIANG",
         "https://www.vietnambooking.com/du-lich/blog-du-lich/dia-diem-du-lich-ha-giang.html",
         "Top 24 địa điểm du lịch Hà Giang đẹp và nổi tiếng nhất",
         "Danh sách các địa điểm du lịch Hà Giang nổi tiếng nhất hiện nay: 1. Hoàng Su Phì 2. Đèo Mã Pí Lèng 3. Cao nguyên đá Đồng Văn 4. Dốc Thẩm Mã 5. Phó Bảng 6. Thung Lũng Sủng Là...",
         "tinh_ha_giang",
         "5_tinh_ha_giang_40.txt"
        ],
        [
         "41",
         "5",
         "TỈNH HÀ GIANG",
         "https://xphuongthien.hagiang.gov.vn/tin-tuc-su-kien-89709/8-dia-diem-nhat-dinh-phai-den-khi-du-lich-thanh-pho-ha-giang-815745",
         "8 địa điểm nhất định phải đến khi Du lịch thành phố Hà Giang",
         "Thành phố Hà Giang là địa điểm các phượt thủ sẽ đặt chân đến đầu tiên khi đến với Hà Giang. Nhiều người cho rằng du lịch thành phố Hà Giang không có gì chơi, nhưng đó chỉ là bạn chưa biết các điểm du lịch thành phố Hà Giang thôi. Sau đây, xin giới thiệu tới quý du khách 8 địa điểm không thể bỏ qua khi đi Du lịch thành phố Hà Giang.",
         "tinh_ha_giang",
         "5_tinh_ha_giang_41.txt"
        ],
        [
         "42",
         "5",
         "TỈNH HÀ GIANG",
         "https://www.klook.com/vi/blog/dia-diem-du-lich-ha-giang/",
         "15 Địa Điểm Du Lịch Hà Giang Nổi Tiếng Không Thể Bỏ Lỡ - Klook ...",
         "Khám phá 15 địa điểm du lịch Hà Giang nổi tiếng và trải nghiệm văn hóa độc đáo tại vùng cao này. Klook - Đặt tour du lịch nhanh chóng và tiện lợi!",
         "tinh_ha_giang",
         "5_tinh_ha_giang_42.txt"
        ],
        [
         "43",
         "5",
         "TỈNH HÀ GIANG",
         "https://baohagiang.vn/thong-tin-quang-cao/202403/du-lich-ha-giang-co-gi-top-10-diem-du-lich-du-khach-khong-the-bo-qua-c4d67b9/",
         "Du lịch Hà Giang có gì? Top 10+ điểm du lịch du khách không thể ...",
         "Du lịch Hà Giang có gì khiến mỗi lần nhắc đến, du khách lại xuýt xoa, phấn khích? Nói đến Hà Giang, người ta nghĩ ngay đến vùng đất còn rất hoang sơ, những làng bản, những ruộng bậc thang, những di tích lịch sử, những buổi chợ đậm nét văn hoá của đồng bào ít người… Tất cả tạo nên một Hà Giang ấn tượng khó phai.",
         "tinh_ha_giang",
         "5_tinh_ha_giang_43.txt"
        ],
        [
         "44",
         "5",
         "TỈNH HÀ GIANG",
         "https://sinhtour.vn/dia-diem-du-lich-ha-giang/",
         "Top 20 địa điểm du lịch Hà Giang đẹp hấp dẫn nhất 2025",
         "Địa điểm du lịch Hà Giang gồm nhiều danh lam thắng cảnh lý tưởng cho du khách khám phá và trải nghiệm. Hà Giang nhiều năm gần đây là chốn du lịch siêu hot bởi",
         "tinh_ha_giang",
         "5_tinh_ha_giang_44.txt"
        ],
        [
         "45",
         "5",
         "TỈNH HÀ GIANG",
         "https://vnexpress.net/cam-nang-du-lich-ha-giang-4445788.html",
         "Kinh nghiệm du lịch Hà Giang 2025 từ A đến Z: di chuyển, lưu trú ...",
         "Hà Giang chinh phục du khách với phong cảnh hùng vĩ, ruộng bậc thang, cánh đồng hoa cải... và bản sắc văn hóa dân tộc đặc sắc.",
         "tinh_ha_giang",
         "5_tinh_ha_giang_45.txt"
        ],
        [
         "46",
         "5",
         "TỈNH HÀ GIANG",
         "https://www.bestprice.vn/blog/diem-den-8/ha-giang-247/bo-tui-10-dia-diem-du-lich-o-ha-giang-de-ban-thoa-suc-check-in_2-9751.html",
         "Bỏ túi 10+ địa điểm du lịch ở Hà Giang để bạn thỏa sức check in ...",
         "Bạn đang lên kế hoạch cho một chuyến hành trình du lịch Hà Giang đáng nhớ. Hãy để BestPrice giúp bạn điểm qua 10+ địa điểm du lịch ở Hà Giang để bạn thỏa sức check in ngay dưới đây nhé!",
         "tinh_ha_giang",
         "5_tinh_ha_giang_46.txt"
        ],
        [
         "47",
         "5",
         "TỈNH HÀ GIANG",
         "https://hagiangamazingtour.vn/du-lich-thanh-pho-ha-giang.html",
         "Du lịch thành phố Hà Giang, 6 địa điểm được check in nhiều nhất",
         "Du lịch thành phố Hà Giang sẽ vô cùng thú vị nếu như bạn biết những địa điểm check in siêu hot sau đây.",
         "tinh_ha_giang",
         "5_tinh_ha_giang_47.txt"
        ],
        [
         "48",
         "5",
         "TỈNH HÀ GIANG",
         "https://www.bestprice.vn/blog/diem-den-8/ha-giang-247/15-dia-diem-du-lich-ha-giang-check-in-dep-quen-loi-ve_2-4949.html",
         "15 địa điểm du lịch Hà Giang check in đẹp quên lối về - BestPrice",
         "Ghi lại ngay 15 địa điểm du lịch Hà Giang hùng vĩ, thơ mộng nhưng lại không quá ồn ào, tấp nập, luôn để lại dấu ấn nhất định trong lòng mỗi người khi đến đây.",
         "tinh_ha_giang",
         "5_tinh_ha_giang_48.txt"
        ],
        [
         "49",
         "5",
         "TỈNH HÀ GIANG",
         "https://cellphones.com.vn/sforum/dia-diem-du-lich-ha-giang",
         "Mê mẩn 20+ địa điểm du lịch Hà Giang tuyệt đẹp nên ghé thăm",
         "Tổng hợp kinh nghiệm ghé thăm các địa điểm du lịch ở Hà Giang tự túc chi tiết, đầy đủ nhất. Khám phá ngay trong bài viết sau.",
         "tinh_ha_giang",
         "5_tinh_ha_giang_49.txt"
        ]
       ],
       "shape": {
        "columns": 7,
        "rows": 648
       }
      },
      "text/html": [
       "<div>\n",
       "<style scoped>\n",
       "    .dataframe tbody tr th:only-of-type {\n",
       "        vertical-align: middle;\n",
       "    }\n",
       "\n",
       "    .dataframe tbody tr th {\n",
       "        vertical-align: top;\n",
       "    }\n",
       "\n",
       "    .dataframe thead th {\n",
       "        text-align: right;\n",
       "    }\n",
       "</style>\n",
       "<table border=\"1\" class=\"dataframe\">\n",
       "  <thead>\n",
       "    <tr style=\"text-align: right;\">\n",
       "      <th></th>\n",
       "      <th>STT</th>\n",
       "      <th>Location</th>\n",
       "      <th>Source</th>\n",
       "      <th>Title</th>\n",
       "      <th>Description</th>\n",
       "      <th>Location_norm</th>\n",
       "      <th>fname</th>\n",
       "    </tr>\n",
       "  </thead>\n",
       "  <tbody>\n",
       "    <tr>\n",
       "      <th>0</th>\n",
       "      <td>1</td>\n",
       "      <td>THÀNH PHỐ HÀ NỘI</td>\n",
       "      <td>https://www.vietnamairlines.com/vn/vi/useful-i...</td>\n",
       "      <td>15++ Địa điểm du lịch Hà Nội hấp dẫn không thể...</td>\n",
       "      <td>Thủ đô ngàn năm văn hiến là điểm đến thu hút n...</td>\n",
       "      <td>thanh_pho_ha_noi</td>\n",
       "      <td>1_thanh_pho_ha_noi_0.txt</td>\n",
       "    </tr>\n",
       "    <tr>\n",
       "      <th>1</th>\n",
       "      <td>1</td>\n",
       "      <td>THÀNH PHỐ HÀ NỘI</td>\n",
       "      <td>https://www.klook.com/vi/blog/dia-diem-du-lich...</td>\n",
       "      <td>30 Địa Điểm Du Lịch Hà Nội Nổi Tiếng Cập Nhật ...</td>\n",
       "      <td>Hà Nội có gì chơi? Bỏ túi ngay các địa điểm du...</td>\n",
       "      <td>thanh_pho_ha_noi</td>\n",
       "      <td>1_thanh_pho_ha_noi_1.txt</td>\n",
       "    </tr>\n",
       "    <tr>\n",
       "      <th>2</th>\n",
       "      <td>1</td>\n",
       "      <td>THÀNH PHỐ HÀ NỘI</td>\n",
       "      <td>https://www.vntrip.vn/cam-nang/dia-diem-du-lic...</td>\n",
       "      <td>23 địa điểm tham quan du lịch ở Hà Nội hấp dẫn...</td>\n",
       "      <td>Hà Nội có rất nhiều địa điểm đẹp &amp; nổi tiếng. ...</td>\n",
       "      <td>thanh_pho_ha_noi</td>\n",
       "      <td>1_thanh_pho_ha_noi_2.txt</td>\n",
       "    </tr>\n",
       "    <tr>\n",
       "      <th>3</th>\n",
       "      <td>1</td>\n",
       "      <td>THÀNH PHỐ HÀ NỘI</td>\n",
       "      <td>https://vinwonders.com/vi/wonderpedia/news/top...</td>\n",
       "      <td>Địa điểm du lịch Hà Nội | TOP 31+ tọa độ ăn ch...</td>\n",
       "      <td>Địa điểm du lịch Hà Nội mang một nét đặc trưng...</td>\n",
       "      <td>thanh_pho_ha_noi</td>\n",
       "      <td>1_thanh_pho_ha_noi_3.txt</td>\n",
       "    </tr>\n",
       "    <tr>\n",
       "      <th>4</th>\n",
       "      <td>1</td>\n",
       "      <td>THÀNH PHỐ HÀ NỘI</td>\n",
       "      <td>https://www.traveloka.com/vi-vn/explore/destin...</td>\n",
       "      <td>9 địa điểm du lịch ở Hà Nội chắc chắn bạn khôn...</td>\n",
       "      <td>Traveloka xin giới thiệu các địa điểm du lịch ...</td>\n",
       "      <td>thanh_pho_ha_noi</td>\n",
       "      <td>1_thanh_pho_ha_noi_4.txt</td>\n",
       "    </tr>\n",
       "    <tr>\n",
       "      <th>...</th>\n",
       "      <td>...</td>\n",
       "      <td>...</td>\n",
       "      <td>...</td>\n",
       "      <td>...</td>\n",
       "      <td>...</td>\n",
       "      <td>...</td>\n",
       "      <td>...</td>\n",
       "    </tr>\n",
       "    <tr>\n",
       "      <th>643</th>\n",
       "      <td>20</td>\n",
       "      <td>TỈNH HẬU GIANG</td>\n",
       "      <td>https://tuoitre.vn/de-nghi-hau-giang-xay-dung-...</td>\n",
       "      <td>None</td>\n",
       "      <td>None</td>\n",
       "      <td>tinh_hau_giang</td>\n",
       "      <td>20_tinh_hau_giang_13.txt</td>\n",
       "    </tr>\n",
       "    <tr>\n",
       "      <th>644</th>\n",
       "      <td>20</td>\n",
       "      <td>TỈNH HẬU GIANG</td>\n",
       "      <td>https://www.vntrip.vn/cam-nang/dia-diem-du-lic...</td>\n",
       "      <td>None</td>\n",
       "      <td>None</td>\n",
       "      <td>tinh_hau_giang</td>\n",
       "      <td>20_tinh_hau_giang_14.txt</td>\n",
       "    </tr>\n",
       "    <tr>\n",
       "      <th>645</th>\n",
       "      <td>20</td>\n",
       "      <td>TỈNH HẬU GIANG</td>\n",
       "      <td>https://www.ivivu.com/blog/2022/06/bo-tui-kinh...</td>\n",
       "      <td>None</td>\n",
       "      <td>None</td>\n",
       "      <td>tinh_hau_giang</td>\n",
       "      <td>20_tinh_hau_giang_15.txt</td>\n",
       "    </tr>\n",
       "    <tr>\n",
       "      <th>646</th>\n",
       "      <td>20</td>\n",
       "      <td>TỈNH HẬU GIANG</td>\n",
       "      <td>https://thamhiemmekong.com/thong-tin-du-lich-m...</td>\n",
       "      <td>None</td>\n",
       "      <td>None</td>\n",
       "      <td>tinh_hau_giang</td>\n",
       "      <td>20_tinh_hau_giang_16.txt</td>\n",
       "    </tr>\n",
       "    <tr>\n",
       "      <th>647</th>\n",
       "      <td>20</td>\n",
       "      <td>TỈNH HẬU GIANG</td>\n",
       "      <td>https://bvhttdl.gov.vn/dinh-huong-phat-trien-d...</td>\n",
       "      <td>None</td>\n",
       "      <td>None</td>\n",
       "      <td>tinh_hau_giang</td>\n",
       "      <td>20_tinh_hau_giang_17.txt</td>\n",
       "    </tr>\n",
       "  </tbody>\n",
       "</table>\n",
       "<p>648 rows × 7 columns</p>\n",
       "</div>"
      ],
      "text/plain": [
       "    STT          Location                                             Source  \\\n",
       "0     1  THÀNH PHỐ HÀ NỘI  https://www.vietnamairlines.com/vn/vi/useful-i...   \n",
       "1     1  THÀNH PHỐ HÀ NỘI  https://www.klook.com/vi/blog/dia-diem-du-lich...   \n",
       "2     1  THÀNH PHỐ HÀ NỘI  https://www.vntrip.vn/cam-nang/dia-diem-du-lic...   \n",
       "3     1  THÀNH PHỐ HÀ NỘI  https://vinwonders.com/vi/wonderpedia/news/top...   \n",
       "4     1  THÀNH PHỐ HÀ NỘI  https://www.traveloka.com/vi-vn/explore/destin...   \n",
       "..   ..               ...                                                ...   \n",
       "643  20    TỈNH HẬU GIANG  https://tuoitre.vn/de-nghi-hau-giang-xay-dung-...   \n",
       "644  20    TỈNH HẬU GIANG  https://www.vntrip.vn/cam-nang/dia-diem-du-lic...   \n",
       "645  20    TỈNH HẬU GIANG  https://www.ivivu.com/blog/2022/06/bo-tui-kinh...   \n",
       "646  20    TỈNH HẬU GIANG  https://thamhiemmekong.com/thong-tin-du-lich-m...   \n",
       "647  20    TỈNH HẬU GIANG  https://bvhttdl.gov.vn/dinh-huong-phat-trien-d...   \n",
       "\n",
       "                                                 Title  \\\n",
       "0    15++ Địa điểm du lịch Hà Nội hấp dẫn không thể...   \n",
       "1    30 Địa Điểm Du Lịch Hà Nội Nổi Tiếng Cập Nhật ...   \n",
       "2    23 địa điểm tham quan du lịch ở Hà Nội hấp dẫn...   \n",
       "3    Địa điểm du lịch Hà Nội | TOP 31+ tọa độ ăn ch...   \n",
       "4    9 địa điểm du lịch ở Hà Nội chắc chắn bạn khôn...   \n",
       "..                                                 ...   \n",
       "643                                               None   \n",
       "644                                               None   \n",
       "645                                               None   \n",
       "646                                               None   \n",
       "647                                               None   \n",
       "\n",
       "                                           Description     Location_norm  \\\n",
       "0    Thủ đô ngàn năm văn hiến là điểm đến thu hút n...  thanh_pho_ha_noi   \n",
       "1    Hà Nội có gì chơi? Bỏ túi ngay các địa điểm du...  thanh_pho_ha_noi   \n",
       "2    Hà Nội có rất nhiều địa điểm đẹp & nổi tiếng. ...  thanh_pho_ha_noi   \n",
       "3    Địa điểm du lịch Hà Nội mang một nét đặc trưng...  thanh_pho_ha_noi   \n",
       "4    Traveloka xin giới thiệu các địa điểm du lịch ...  thanh_pho_ha_noi   \n",
       "..                                                 ...               ...   \n",
       "643                                               None    tinh_hau_giang   \n",
       "644                                               None    tinh_hau_giang   \n",
       "645                                               None    tinh_hau_giang   \n",
       "646                                               None    tinh_hau_giang   \n",
       "647                                               None    tinh_hau_giang   \n",
       "\n",
       "                        fname  \n",
       "0    1_thanh_pho_ha_noi_0.txt  \n",
       "1    1_thanh_pho_ha_noi_1.txt  \n",
       "2    1_thanh_pho_ha_noi_2.txt  \n",
       "3    1_thanh_pho_ha_noi_3.txt  \n",
       "4    1_thanh_pho_ha_noi_4.txt  \n",
       "..                        ...  \n",
       "643  20_tinh_hau_giang_13.txt  \n",
       "644  20_tinh_hau_giang_14.txt  \n",
       "645  20_tinh_hau_giang_15.txt  \n",
       "646  20_tinh_hau_giang_16.txt  \n",
       "647  20_tinh_hau_giang_17.txt  \n",
       "\n",
       "[648 rows x 7 columns]"
      ]
     },
     "execution_count": 22,
     "metadata": {},
     "output_type": "execute_result"
    }
   ],
   "source": [
    "travel_df"
   ]
  },
  {
   "cell_type": "markdown",
   "metadata": {},
   "source": [
    "---"
   ]
  },
  {
   "cell_type": "code",
   "execution_count": 23,
   "metadata": {},
   "outputs": [
    {
     "data": {
      "text/plain": [
       "'https://thuductravel.com.vn/12-dia-diem-tham-quan-du-lich-hau-giang-khong-the-bo-qua/'"
      ]
     },
     "execution_count": 23,
     "metadata": {},
     "output_type": "execute_result"
    }
   ],
   "source": [
    "travel_df.iloc[629][\"Source\"]"
   ]
  },
  {
   "cell_type": "code",
   "execution_count": 24,
   "metadata": {},
   "outputs": [],
   "source": [
    "# # add resource of content for each lines\n",
    "\n",
    "# even_dir = \"C:/Users/Admin/Documents/NLP/text_mining/seminar/travel/even\"\n",
    "\n",
    "\n",
    "# for dirname, _, filenames in os.walk(even_dir):\n",
    "#     for filename in filenames:\n",
    "#         src_path = os.path.join(dirname, filename)\n",
    "\n",
    "#         metadata = filename.split(\".\")[0].split(\"_\")\n",
    "#         order = int(metadata[0])\n",
    "#         idx = int(metadata[-1])\n",
    "\n",
    "#         url = travel_df.iloc[idx][\"Source\"]\n",
    "\n",
    "#         # with open(src_path,\"a\") as file:\n",
    "#         #     file.write(f\"{url}\\n---\\n\")\n",
    "\n",
    "#         print(src_path)\n",
    "#         # print(filename,\"\\t: \\t\",url)\n",
    "\n",
    "#         # if order%2 == 1:\n",
    "#         #     des_path = os.path.join(odd_dir,filename)\n",
    "#         # else:\n",
    "#         #     des_path = os.path.join(even_dir,filename)\n",
    "\n",
    "#         # shutil.move(src_path,des_path)"
   ]
  },
  {
   "cell_type": "code",
   "execution_count": 25,
   "metadata": {},
   "outputs": [],
   "source": [
    "travel_df.to_csv(\"travel_full.csv\")"
   ]
  },
  {
   "cell_type": "code",
   "execution_count": 31,
   "metadata": {},
   "outputs": [],
   "source": [
    "def generate_latex_file(\n",
    "    filename, title, abstract, place_sections=None, food_sections=None\n",
    "):\n",
    "    place_sections = place_sections or []  # Ensure it's a list\n",
    "    food_sections = food_sections or []  # Ensure it's a list\n",
    "    latex_template = f\"\"\"\\\\documentclass{{article}}\n",
    "\\\\usepackage[vietnamese]{{babel}}\n",
    "\\\\usepackage[letterpaper,top=1cm,bottom=1cm,left=1.5cm,right=1.5cm,marginparwidth=1.75cm]{{geometry}}\n",
    "\\\\usepackage{{amsmath}}\n",
    "\\\\usepackage{{graphicx}}\n",
    "\\\\usepackage[colorlinks=true, allcolors=blue]{{hyperref}}\n",
    "\\\\title{{{title}}}\n",
    "\n",
    "\\\\begin{{document}}\n",
    "\\\\begin{{center}}\n",
    "    \\\\fontsize{{18}}{{20}}\\\\textbf{{{title}}}\n",
    "\\\\end{{center}}\n",
    "\\\\begin{{abstract}}\n",
    "    {abstract}\n",
    "\\\\end{{abstract}}\n",
    "\\\\section*{{Điểm du lịch}}\n",
    "\"\"\"\n",
    "\n",
    "    for section in place_sections:\n",
    "        latex_template += f\"\\\\section{{{section['name']}}}\\n{section['content']}\\n\\n\"\n",
    "\n",
    "    latex_template += \"\\\\newpage\\n\\\\section*{{Ẩm thực}}\\n\\\\setcounter{section}{0}\"\n",
    "\n",
    "    for section in food_sections:\n",
    "        latex_template += f\"\\\\section{{{section['name']}}}\\n{section['content']}\\n\\n\"\n",
    "\n",
    "    latex_template += \"\\n\\\\end{document}\"\n",
    "\n",
    "    with open(filename, \"w\", encoding=\"utf-8\") as file:\n",
    "        file.write(latex_template)\n",
    "\n",
    "    print(f\"LaTeX file '{filename}' has been generated.\")\n",
    "\n",
    "\n",
    "# # Example usage\n",
    "# title = \"Cẩm nang du lịch Hà Nội\"\n",
    "# abstract = \"Những địa điểm du lịch Hà Nội luôn có sức hút rất lớn với các du khách...\"\n",
    "# place_sections = [\n",
    "#     # {\n",
    "#     #     \"name\": \"Hồ Gươm\",\n",
    "#     #     \"content\": \"Hồ Gươm là một địa điểm nổi tiếng nằm ở trung tâm Hà Nội.\",\n",
    "#     # },\n",
    "#     # {\n",
    "#     #     \"name\": \"Văn Miếu - Quốc Tử Giám\",\n",
    "#     #     \"content\": \"Đây là trường đại học đầu tiên của Việt Nam.\",\n",
    "#     # },\n",
    "# ]\n",
    "\n",
    "# food_sections = []  # Now an empty list instead of an empty dictionary\n",
    "\n",
    "# generate_latex_file(\"hanoi_guide.tex\", title, abstract, place_sections, food_sections)"
   ]
  },
  {
   "cell_type": "code",
   "execution_count": 27,
   "metadata": {},
   "outputs": [
    {
     "name": "stderr",
     "output_type": "stream",
     "text": [
      "C:\\Users\\Admin\\AppData\\Local\\Temp\\ipykernel_26700\\3826956386.py:2: SettingWithCopyWarning: \n",
      "A value is trying to be set on a copy of a slice from a DataFrame.\n",
      "Try using .loc[row_indexer,col_indexer] = value instead\n",
      "\n",
      "See the caveats in the documentation: https://pandas.pydata.org/pandas-docs/stable/user_guide/indexing.html#returning-a-view-versus-a-copy\n",
      "  name_mapping_df['pattern'] = name_mapping_df['fname'].apply(lambda x: re.search(r\"_(.*)_\", x).group(1) if re.search(r\"_(.*)_\", x) else None)\n",
      "C:\\Users\\Admin\\AppData\\Local\\Temp\\ipykernel_26700\\3826956386.py:3: SettingWithCopyWarning: \n",
      "A value is trying to be set on a copy of a slice from a DataFrame.\n",
      "Try using .loc[row_indexer,col_indexer] = value instead\n",
      "\n",
      "See the caveats in the documentation: https://pandas.pydata.org/pandas-docs/stable/user_guide/indexing.html#returning-a-view-versus-a-copy\n",
      "  name_mapping_df['title'] = name_mapping_df['Location'].apply(lambda x: x.title())\n"
     ]
    },
    {
     "data": {
      "application/vnd.microsoft.datawrangler.viewer.v0+json": {
       "columns": [
        {
         "name": "index",
         "rawType": "int64",
         "type": "integer"
        },
        {
         "name": "pattern",
         "rawType": "object",
         "type": "string"
        },
        {
         "name": "title",
         "rawType": "object",
         "type": "string"
        }
       ],
       "conversionMethod": "pd.DataFrame",
       "ref": "c6d8e00b-a1d3-4c8b-8de3-dbee47f3eef6",
       "rows": [
        [
         "0",
         "thanh_pho_ha_noi",
         "Thành Phố Hà Nội"
        ],
        [
         "10",
         "thanh_pho_ho_chi_minh",
         "Thành Phố Hồ Chí Minh"
        ],
        [
         "20",
         "thanh_pho_hai_phong",
         "Thành Phố Hải Phòng"
        ],
        [
         "30",
         "thanh_pho_da_nang",
         "Thành Phố Đà Nẵng"
        ],
        [
         "40",
         "tinh_ha_giang",
         "Tỉnh Hà Giang"
        ],
        [
         "50",
         "tinh_cao_bang",
         "Tỉnh Cao Bằng"
        ],
        [
         "60",
         "tinh_lai_chau",
         "Tỉnh Lai Châu"
        ],
        [
         "70",
         "tinh_lao_cai",
         "Tỉnh Lào Cai"
        ],
        [
         "80",
         "tinh_tuyen_quang",
         "Tỉnh Tuyên Quang"
        ],
        [
         "90",
         "tinh_lang_son",
         "Tỉnh Lạng Sơn"
        ],
        [
         "100",
         "tinh_bac_kan",
         "Tỉnh Bắc Kạn"
        ],
        [
         "110",
         "tinh_thai_nguyen",
         "Tỉnh Thái Nguyên"
        ],
        [
         "120",
         "tinh_yen_bai",
         "Tỉnh Yên Bái"
        ],
        [
         "130",
         "tinh_son_la",
         "Tỉnh Sơn La"
        ],
        [
         "140",
         "tinh_phu_tho",
         "Tỉnh Phú Thọ"
        ],
        [
         "150",
         "tinh_vinh_phuc",
         "Tỉnh Vĩnh Phúc"
        ],
        [
         "160",
         "tinh_quang_ninh",
         "Tỉnh Quảng Ninh"
        ],
        [
         "170",
         "tinh_bac_giang",
         "Tỉnh Bắc Giang"
        ],
        [
         "180",
         "tinh_bac_ninh",
         "Tỉnh Bắc Ninh"
        ],
        [
         "190",
         "tinh_hai_duong",
         "Tỉnh Hải Dương"
        ],
        [
         "200",
         "tinh_hung_yen",
         "Tỉnh Hưng Yên"
        ],
        [
         "210",
         "tinh_hoa_binh",
         "Tỉnh Hòa Bình"
        ],
        [
         "220",
         "tinh_ha_nam",
         "Tỉnh Hà Nam"
        ],
        [
         "230",
         "tinh_nam_dinh",
         "Tỉnh Nam Định"
        ],
        [
         "240",
         "tinh_thai_binh",
         "Tỉnh Thái Bình"
        ],
        [
         "250",
         "tinh_ninh_binh",
         "Tỉnh Ninh Bình"
        ],
        [
         "260",
         "tinh_thanh_hoa",
         "Tỉnh Thanh Hóa"
        ],
        [
         "270",
         "tinh_nghe_an",
         "Tỉnh Nghệ An"
        ],
        [
         "280",
         "tinh_ha_tinh",
         "Tỉnh Hà Tĩnh"
        ],
        [
         "290",
         "tinh_quang_binh",
         "Tỉnh Quảng Bình"
        ],
        [
         "300",
         "tinh_quang_tri",
         "Tỉnh Quảng Trị"
        ],
        [
         "310",
         "tinh_thua_thien",
         "Tỉnh Thừa Thiên"
        ],
        [
         "320",
         "tinh_quang_nam",
         "Tỉnh Quảng Nam"
        ],
        [
         "330",
         "tinh_quang_ngai",
         "Tỉnh Quảng Ngãi"
        ],
        [
         "340",
         "tinh_kon_tum",
         "Tỉnh Kon Tum"
        ],
        [
         "350",
         "tinh_binh_dinh",
         "Tỉnh Bình Định"
        ],
        [
         "360",
         "tinh_gia_lai",
         "Tỉnh Gia Lai"
        ],
        [
         "370",
         "tinh_phu_yen",
         "Tỉnh Phú Yên"
        ],
        [
         "380",
         "tinh_dak_lak",
         "Tỉnh Đắk Lắk"
        ],
        [
         "390",
         "tinh_khanh_hoa",
         "Tỉnh Khánh Hòa"
        ],
        [
         "400",
         "tinh_lam_dong",
         "Tỉnh Lâm Đồng"
        ],
        [
         "410",
         "tinh_binh_phuoc",
         "Tỉnh Bình Phước"
        ],
        [
         "420",
         "tinh_binh_duong",
         "Tỉnh Bình Dương"
        ],
        [
         "430",
         "tinh_ninh_thuan",
         "Tỉnh Ninh Thuận"
        ],
        [
         "440",
         "tinh_tay_ninh",
         "Tỉnh Tây Ninh"
        ],
        [
         "450",
         "tinh_binh_thuan",
         "Tỉnh Bình Thuận"
        ],
        [
         "460",
         "tinh_dong_nai",
         "Tỉnh Đồng Nai"
        ],
        [
         "470",
         "tinh_long_an",
         "Tỉnh Long An"
        ],
        [
         "480",
         "tinh_dong_thap",
         "Tỉnh Đồng Tháp"
        ],
        [
         "490",
         "tinh_an_giang",
         "Tỉnh An Giang"
        ]
       ],
       "shape": {
        "columns": 2,
        "rows": 63
       }
      },
      "text/html": [
       "<div>\n",
       "<style scoped>\n",
       "    .dataframe tbody tr th:only-of-type {\n",
       "        vertical-align: middle;\n",
       "    }\n",
       "\n",
       "    .dataframe tbody tr th {\n",
       "        vertical-align: top;\n",
       "    }\n",
       "\n",
       "    .dataframe thead th {\n",
       "        text-align: right;\n",
       "    }\n",
       "</style>\n",
       "<table border=\"1\" class=\"dataframe\">\n",
       "  <thead>\n",
       "    <tr style=\"text-align: right;\">\n",
       "      <th></th>\n",
       "      <th>pattern</th>\n",
       "      <th>title</th>\n",
       "    </tr>\n",
       "  </thead>\n",
       "  <tbody>\n",
       "    <tr>\n",
       "      <th>0</th>\n",
       "      <td>thanh_pho_ha_noi</td>\n",
       "      <td>Thành Phố Hà Nội</td>\n",
       "    </tr>\n",
       "    <tr>\n",
       "      <th>10</th>\n",
       "      <td>thanh_pho_ho_chi_minh</td>\n",
       "      <td>Thành Phố Hồ Chí Minh</td>\n",
       "    </tr>\n",
       "    <tr>\n",
       "      <th>20</th>\n",
       "      <td>thanh_pho_hai_phong</td>\n",
       "      <td>Thành Phố Hải Phòng</td>\n",
       "    </tr>\n",
       "    <tr>\n",
       "      <th>30</th>\n",
       "      <td>thanh_pho_da_nang</td>\n",
       "      <td>Thành Phố Đà Nẵng</td>\n",
       "    </tr>\n",
       "    <tr>\n",
       "      <th>40</th>\n",
       "      <td>tinh_ha_giang</td>\n",
       "      <td>Tỉnh Hà Giang</td>\n",
       "    </tr>\n",
       "    <tr>\n",
       "      <th>...</th>\n",
       "      <td>...</td>\n",
       "      <td>...</td>\n",
       "    </tr>\n",
       "    <tr>\n",
       "      <th>580</th>\n",
       "      <td>tinh_bac_lieu</td>\n",
       "      <td>Tỉnh Bạc Liêu</td>\n",
       "    </tr>\n",
       "    <tr>\n",
       "      <th>590</th>\n",
       "      <td>tinh_ca_mau</td>\n",
       "      <td>Tỉnh Cà Mau</td>\n",
       "    </tr>\n",
       "    <tr>\n",
       "      <th>600</th>\n",
       "      <td>tinh_dien_bien</td>\n",
       "      <td>Tỉnh Điện Biên</td>\n",
       "    </tr>\n",
       "    <tr>\n",
       "      <th>610</th>\n",
       "      <td>tinh_dak_nong</td>\n",
       "      <td>Tỉnh Đăk Nông</td>\n",
       "    </tr>\n",
       "    <tr>\n",
       "      <th>620</th>\n",
       "      <td>tinh_hau_giang</td>\n",
       "      <td>Tỉnh Hậu Giang</td>\n",
       "    </tr>\n",
       "  </tbody>\n",
       "</table>\n",
       "<p>63 rows × 2 columns</p>\n",
       "</div>"
      ],
      "text/plain": [
       "                   pattern                  title\n",
       "0         thanh_pho_ha_noi       Thành Phố Hà Nội\n",
       "10   thanh_pho_ho_chi_minh  Thành Phố Hồ Chí Minh\n",
       "20     thanh_pho_hai_phong    Thành Phố Hải Phòng\n",
       "30       thanh_pho_da_nang      Thành Phố Đà Nẵng\n",
       "40           tinh_ha_giang          Tỉnh Hà Giang\n",
       "..                     ...                    ...\n",
       "580          tinh_bac_lieu          Tỉnh Bạc Liêu\n",
       "590            tinh_ca_mau            Tỉnh Cà Mau\n",
       "600         tinh_dien_bien         Tỉnh Điện Biên\n",
       "610          tinh_dak_nong          Tỉnh Đăk Nông\n",
       "620         tinh_hau_giang         Tỉnh Hậu Giang\n",
       "\n",
       "[63 rows x 2 columns]"
      ]
     },
     "execution_count": 27,
     "metadata": {},
     "output_type": "execute_result"
    }
   ],
   "source": [
    "name_mapping_df = travel_df[['Location','fname']]\n",
    "name_mapping_df['pattern'] = name_mapping_df['fname'].apply(lambda x: re.search(r\"_(.*)_\", x).group(1) if re.search(r\"_(.*)_\", x) else None)\n",
    "name_mapping_df['title'] = name_mapping_df['Location'].apply(lambda x: x.title())\n",
    "\n",
    "title_df = name_mapping_df[['pattern','title']].drop_duplicates()\n",
    "title_df"
   ]
  },
  {
   "cell_type": "code",
   "execution_count": 30,
   "metadata": {},
   "outputs": [
    {
     "name": "stdout",
     "output_type": "stream",
     "text": [
      "LaTeX file 'C:\\Users\\Admin\\Documents\\NLP\\text_mining\\seminar\\tex\\thanh_pho_ha_noi.tex' has been generated.\n",
      "LaTeX file 'C:\\Users\\Admin\\Documents\\NLP\\text_mining\\seminar\\tex\\thanh_pho_ho_chi_minh.tex' has been generated.\n",
      "LaTeX file 'C:\\Users\\Admin\\Documents\\NLP\\text_mining\\seminar\\tex\\thanh_pho_hai_phong.tex' has been generated.\n",
      "LaTeX file 'C:\\Users\\Admin\\Documents\\NLP\\text_mining\\seminar\\tex\\thanh_pho_da_nang.tex' has been generated.\n",
      "LaTeX file 'C:\\Users\\Admin\\Documents\\NLP\\text_mining\\seminar\\tex\\tinh_ha_giang.tex' has been generated.\n",
      "LaTeX file 'C:\\Users\\Admin\\Documents\\NLP\\text_mining\\seminar\\tex\\tinh_cao_bang.tex' has been generated.\n",
      "LaTeX file 'C:\\Users\\Admin\\Documents\\NLP\\text_mining\\seminar\\tex\\tinh_lai_chau.tex' has been generated.\n",
      "LaTeX file 'C:\\Users\\Admin\\Documents\\NLP\\text_mining\\seminar\\tex\\tinh_lao_cai.tex' has been generated.\n",
      "LaTeX file 'C:\\Users\\Admin\\Documents\\NLP\\text_mining\\seminar\\tex\\tinh_tuyen_quang.tex' has been generated.\n",
      "LaTeX file 'C:\\Users\\Admin\\Documents\\NLP\\text_mining\\seminar\\tex\\tinh_lang_son.tex' has been generated.\n",
      "LaTeX file 'C:\\Users\\Admin\\Documents\\NLP\\text_mining\\seminar\\tex\\tinh_bac_kan.tex' has been generated.\n",
      "LaTeX file 'C:\\Users\\Admin\\Documents\\NLP\\text_mining\\seminar\\tex\\tinh_thai_nguyen.tex' has been generated.\n",
      "LaTeX file 'C:\\Users\\Admin\\Documents\\NLP\\text_mining\\seminar\\tex\\tinh_yen_bai.tex' has been generated.\n",
      "LaTeX file 'C:\\Users\\Admin\\Documents\\NLP\\text_mining\\seminar\\tex\\tinh_son_la.tex' has been generated.\n",
      "LaTeX file 'C:\\Users\\Admin\\Documents\\NLP\\text_mining\\seminar\\tex\\tinh_phu_tho.tex' has been generated.\n",
      "LaTeX file 'C:\\Users\\Admin\\Documents\\NLP\\text_mining\\seminar\\tex\\tinh_vinh_phuc.tex' has been generated.\n",
      "LaTeX file 'C:\\Users\\Admin\\Documents\\NLP\\text_mining\\seminar\\tex\\tinh_quang_ninh.tex' has been generated.\n",
      "LaTeX file 'C:\\Users\\Admin\\Documents\\NLP\\text_mining\\seminar\\tex\\tinh_bac_giang.tex' has been generated.\n",
      "LaTeX file 'C:\\Users\\Admin\\Documents\\NLP\\text_mining\\seminar\\tex\\tinh_bac_ninh.tex' has been generated.\n",
      "LaTeX file 'C:\\Users\\Admin\\Documents\\NLP\\text_mining\\seminar\\tex\\tinh_hai_duong.tex' has been generated.\n",
      "LaTeX file 'C:\\Users\\Admin\\Documents\\NLP\\text_mining\\seminar\\tex\\tinh_hung_yen.tex' has been generated.\n",
      "LaTeX file 'C:\\Users\\Admin\\Documents\\NLP\\text_mining\\seminar\\tex\\tinh_hoa_binh.tex' has been generated.\n",
      "LaTeX file 'C:\\Users\\Admin\\Documents\\NLP\\text_mining\\seminar\\tex\\tinh_ha_nam.tex' has been generated.\n",
      "LaTeX file 'C:\\Users\\Admin\\Documents\\NLP\\text_mining\\seminar\\tex\\tinh_nam_dinh.tex' has been generated.\n",
      "LaTeX file 'C:\\Users\\Admin\\Documents\\NLP\\text_mining\\seminar\\tex\\tinh_thai_binh.tex' has been generated.\n",
      "LaTeX file 'C:\\Users\\Admin\\Documents\\NLP\\text_mining\\seminar\\tex\\tinh_ninh_binh.tex' has been generated.\n",
      "LaTeX file 'C:\\Users\\Admin\\Documents\\NLP\\text_mining\\seminar\\tex\\tinh_thanh_hoa.tex' has been generated.\n",
      "LaTeX file 'C:\\Users\\Admin\\Documents\\NLP\\text_mining\\seminar\\tex\\tinh_nghe_an.tex' has been generated.\n",
      "LaTeX file 'C:\\Users\\Admin\\Documents\\NLP\\text_mining\\seminar\\tex\\tinh_ha_tinh.tex' has been generated.\n",
      "LaTeX file 'C:\\Users\\Admin\\Documents\\NLP\\text_mining\\seminar\\tex\\tinh_quang_binh.tex' has been generated.\n",
      "LaTeX file 'C:\\Users\\Admin\\Documents\\NLP\\text_mining\\seminar\\tex\\tinh_quang_tri.tex' has been generated.\n",
      "LaTeX file 'C:\\Users\\Admin\\Documents\\NLP\\text_mining\\seminar\\tex\\tinh_thua_thien.tex' has been generated.\n",
      "LaTeX file 'C:\\Users\\Admin\\Documents\\NLP\\text_mining\\seminar\\tex\\tinh_quang_nam.tex' has been generated.\n",
      "LaTeX file 'C:\\Users\\Admin\\Documents\\NLP\\text_mining\\seminar\\tex\\tinh_quang_ngai.tex' has been generated.\n",
      "LaTeX file 'C:\\Users\\Admin\\Documents\\NLP\\text_mining\\seminar\\tex\\tinh_kon_tum.tex' has been generated.\n",
      "LaTeX file 'C:\\Users\\Admin\\Documents\\NLP\\text_mining\\seminar\\tex\\tinh_binh_dinh.tex' has been generated.\n",
      "LaTeX file 'C:\\Users\\Admin\\Documents\\NLP\\text_mining\\seminar\\tex\\tinh_gia_lai.tex' has been generated.\n",
      "LaTeX file 'C:\\Users\\Admin\\Documents\\NLP\\text_mining\\seminar\\tex\\tinh_phu_yen.tex' has been generated.\n",
      "LaTeX file 'C:\\Users\\Admin\\Documents\\NLP\\text_mining\\seminar\\tex\\tinh_dak_lak.tex' has been generated.\n",
      "LaTeX file 'C:\\Users\\Admin\\Documents\\NLP\\text_mining\\seminar\\tex\\tinh_khanh_hoa.tex' has been generated.\n",
      "LaTeX file 'C:\\Users\\Admin\\Documents\\NLP\\text_mining\\seminar\\tex\\tinh_lam_dong.tex' has been generated.\n",
      "LaTeX file 'C:\\Users\\Admin\\Documents\\NLP\\text_mining\\seminar\\tex\\tinh_binh_phuoc.tex' has been generated.\n",
      "LaTeX file 'C:\\Users\\Admin\\Documents\\NLP\\text_mining\\seminar\\tex\\tinh_binh_duong.tex' has been generated.\n",
      "LaTeX file 'C:\\Users\\Admin\\Documents\\NLP\\text_mining\\seminar\\tex\\tinh_ninh_thuan.tex' has been generated.\n",
      "LaTeX file 'C:\\Users\\Admin\\Documents\\NLP\\text_mining\\seminar\\tex\\tinh_tay_ninh.tex' has been generated.\n",
      "LaTeX file 'C:\\Users\\Admin\\Documents\\NLP\\text_mining\\seminar\\tex\\tinh_binh_thuan.tex' has been generated.\n",
      "LaTeX file 'C:\\Users\\Admin\\Documents\\NLP\\text_mining\\seminar\\tex\\tinh_dong_nai.tex' has been generated.\n",
      "LaTeX file 'C:\\Users\\Admin\\Documents\\NLP\\text_mining\\seminar\\tex\\tinh_long_an.tex' has been generated.\n",
      "LaTeX file 'C:\\Users\\Admin\\Documents\\NLP\\text_mining\\seminar\\tex\\tinh_dong_thap.tex' has been generated.\n",
      "LaTeX file 'C:\\Users\\Admin\\Documents\\NLP\\text_mining\\seminar\\tex\\tinh_an_giang.tex' has been generated.\n",
      "LaTeX file 'C:\\Users\\Admin\\Documents\\NLP\\text_mining\\seminar\\tex\\tinh_ba_ria.tex' has been generated.\n",
      "LaTeX file 'C:\\Users\\Admin\\Documents\\NLP\\text_mining\\seminar\\tex\\tinh_tien_giang.tex' has been generated.\n",
      "LaTeX file 'C:\\Users\\Admin\\Documents\\NLP\\text_mining\\seminar\\tex\\tinh_kien_giang.tex' has been generated.\n",
      "LaTeX file 'C:\\Users\\Admin\\Documents\\NLP\\text_mining\\seminar\\tex\\thanh_pho_can_tho.tex' has been generated.\n",
      "LaTeX file 'C:\\Users\\Admin\\Documents\\NLP\\text_mining\\seminar\\tex\\tinh_ben_tre.tex' has been generated.\n",
      "LaTeX file 'C:\\Users\\Admin\\Documents\\NLP\\text_mining\\seminar\\tex\\tinh_vinh_long.tex' has been generated.\n",
      "LaTeX file 'C:\\Users\\Admin\\Documents\\NLP\\text_mining\\seminar\\tex\\tinh_tra_vinh.tex' has been generated.\n",
      "LaTeX file 'C:\\Users\\Admin\\Documents\\NLP\\text_mining\\seminar\\tex\\tinh_soc_trang.tex' has been generated.\n",
      "LaTeX file 'C:\\Users\\Admin\\Documents\\NLP\\text_mining\\seminar\\tex\\tinh_bac_lieu.tex' has been generated.\n",
      "LaTeX file 'C:\\Users\\Admin\\Documents\\NLP\\text_mining\\seminar\\tex\\tinh_ca_mau.tex' has been generated.\n",
      "LaTeX file 'C:\\Users\\Admin\\Documents\\NLP\\text_mining\\seminar\\tex\\tinh_dien_bien.tex' has been generated.\n",
      "LaTeX file 'C:\\Users\\Admin\\Documents\\NLP\\text_mining\\seminar\\tex\\tinh_dak_nong.tex' has been generated.\n",
      "LaTeX file 'C:\\Users\\Admin\\Documents\\NLP\\text_mining\\seminar\\tex\\tinh_hau_giang.tex' has been generated.\n"
     ]
    }
   ],
   "source": [
    "tex_path = \"C:\\\\Users\\\\Admin\\\\Documents\\\\NLP\\\\text_mining\\\\seminar\\\\tex\"\n",
    "\n",
    "for index,row in title_df.iterrows():\n",
    "    fname = row['pattern'] + \".tex\"\n",
    "    dest_path = os.path.join(tex_path,fname)\n",
    "    title = f\"Cẩm nang du lịch {row['title']}\"\n",
    "    abstract = \"(Giới thiệu)\"\n",
    "    place_sections = []\n",
    "    food_sections = []  # Now an empty list instead of an empty dictionary\n",
    "    generate_latex_file(dest_path, title, abstract, place_sections, food_sections)"
   ]
  },
  {
   "cell_type": "code",
   "execution_count": null,
   "metadata": {},
   "outputs": [
    {
     "name": "stdout",
     "output_type": "stream",
     "text": [
      "Skipping C:/Users/Admin/Documents/NLP/text_mining/seminar/travel/even\\10_tinh_lang_son_91.txt: Encoding could not be detected.\n",
      "Skipping C:/Users/Admin/Documents/NLP/text_mining/seminar/travel/even\\10_tinh_lang_son_92.txt: Encoding could not be detected.\n",
      "Converted C:/Users/Admin/Documents/NLP/text_mining/seminar/travel/even\\10_tinh_lang_son_93.txt to UTF-8.\n",
      "Converted C:/Users/Admin/Documents/NLP/text_mining/seminar/travel/even\\10_tinh_lang_son_95.txt to UTF-8.\n",
      "Converted C:/Users/Admin/Documents/NLP/text_mining/seminar/travel/even\\10_tinh_lang_son_96.txt to UTF-8.\n",
      "Converted C:/Users/Admin/Documents/NLP/text_mining/seminar/travel/even\\10_tinh_lang_son_97.txt to UTF-8.\n",
      "Converted C:/Users/Admin/Documents/NLP/text_mining/seminar/travel/even\\10_tinh_lang_son_98.txt to UTF-8.\n",
      "Converted C:/Users/Admin/Documents/NLP/text_mining/seminar/travel/even\\10_tinh_lang_son_99.txt to UTF-8.\n",
      "Converted C:/Users/Admin/Documents/NLP/text_mining/seminar/travel/even\\12_tinh_thai_nguyen_110.txt to UTF-8.\n",
      "Converted C:/Users/Admin/Documents/NLP/text_mining/seminar/travel/even\\12_tinh_thai_nguyen_113.txt to UTF-8.\n",
      "Error converting C:/Users/Admin/Documents/NLP/text_mining/seminar/travel/even\\12_tinh_thai_nguyen_114.txt: 'charmap' codec can't decode byte 0x90 in position 378: character maps to <undefined>\n",
      "Converted C:/Users/Admin/Documents/NLP/text_mining/seminar/travel/even\\12_tinh_thai_nguyen_116.txt to UTF-8.\n",
      "Converted C:/Users/Admin/Documents/NLP/text_mining/seminar/travel/even\\12_tinh_thai_nguyen_117.txt to UTF-8.\n",
      "Converted C:/Users/Admin/Documents/NLP/text_mining/seminar/travel/even\\12_tinh_thai_nguyen_118.txt to UTF-8.\n",
      "Converted C:/Users/Admin/Documents/NLP/text_mining/seminar/travel/even\\12_tinh_thai_nguyen_119.txt to UTF-8.\n",
      "Converted C:/Users/Admin/Documents/NLP/text_mining/seminar/travel/even\\14_tinh_son_la_130.txt to UTF-8.\n",
      "Converted C:/Users/Admin/Documents/NLP/text_mining/seminar/travel/even\\14_tinh_son_la_131.txt to UTF-8.\n",
      "Converted C:/Users/Admin/Documents/NLP/text_mining/seminar/travel/even\\14_tinh_son_la_132.txt to UTF-8.\n",
      "Converted C:/Users/Admin/Documents/NLP/text_mining/seminar/travel/even\\14_tinh_son_la_133.txt to UTF-8.\n",
      "Converted C:/Users/Admin/Documents/NLP/text_mining/seminar/travel/even\\14_tinh_son_la_134.txt to UTF-8.\n",
      "Converted C:/Users/Admin/Documents/NLP/text_mining/seminar/travel/even\\14_tinh_son_la_137.txt to UTF-8.\n",
      "Converted C:/Users/Admin/Documents/NLP/text_mining/seminar/travel/even\\14_tinh_son_la_139.txt to UTF-8.\n",
      "Converted C:/Users/Admin/Documents/NLP/text_mining/seminar/travel/even\\16_tinh_vinh_phuc_150.txt to UTF-8.\n",
      "Converted C:/Users/Admin/Documents/NLP/text_mining/seminar/travel/even\\16_tinh_vinh_phuc_151.txt to UTF-8.\n",
      "Converted C:/Users/Admin/Documents/NLP/text_mining/seminar/travel/even\\16_tinh_vinh_phuc_153.txt to UTF-8.\n",
      "Converted C:/Users/Admin/Documents/NLP/text_mining/seminar/travel/even\\16_tinh_vinh_phuc_154.txt to UTF-8.\n",
      "Converted C:/Users/Admin/Documents/NLP/text_mining/seminar/travel/even\\16_tinh_vinh_phuc_156.txt to UTF-8.\n",
      "Converted C:/Users/Admin/Documents/NLP/text_mining/seminar/travel/even\\16_tinh_vinh_phuc_158.txt to UTF-8.\n",
      "Converted C:/Users/Admin/Documents/NLP/text_mining/seminar/travel/even\\16_tinh_vinh_phuc_159.txt to UTF-8.\n",
      "Converted C:/Users/Admin/Documents/NLP/text_mining/seminar/travel/even\\18_tinh_bac_giang_171.txt to UTF-8.\n",
      "Converted C:/Users/Admin/Documents/NLP/text_mining/seminar/travel/even\\18_tinh_bac_giang_172.txt to UTF-8.\n",
      "Converted C:/Users/Admin/Documents/NLP/text_mining/seminar/travel/even\\18_tinh_bac_giang_175.txt to UTF-8.\n",
      "Converted C:/Users/Admin/Documents/NLP/text_mining/seminar/travel/even\\18_tinh_bac_giang_176.txt to UTF-8.\n",
      "Converted C:/Users/Admin/Documents/NLP/text_mining/seminar/travel/even\\18_tinh_bac_giang_177.txt to UTF-8.\n",
      "Converted C:/Users/Admin/Documents/NLP/text_mining/seminar/travel/even\\18_tinh_bac_giang_178.txt to UTF-8.\n",
      "Converted C:/Users/Admin/Documents/NLP/text_mining/seminar/travel/even\\20_tinh_hau_giang_0.txt to UTF-8.\n",
      "Converted C:/Users/Admin/Documents/NLP/text_mining/seminar/travel/even\\20_tinh_hau_giang_3.txt to UTF-8.\n",
      "Converted C:/Users/Admin/Documents/NLP/text_mining/seminar/travel/even\\20_tinh_hau_giang_4.txt to UTF-8.\n",
      "Converted C:/Users/Admin/Documents/NLP/text_mining/seminar/travel/even\\20_tinh_hau_giang_6.txt to UTF-8.\n",
      "Converted C:/Users/Admin/Documents/NLP/text_mining/seminar/travel/even\\20_tinh_hau_giang_7.txt to UTF-8.\n",
      "Converted C:/Users/Admin/Documents/NLP/text_mining/seminar/travel/even\\20_tinh_hau_giang_8.txt to UTF-8.\n",
      "Converted C:/Users/Admin/Documents/NLP/text_mining/seminar/travel/even\\20_tinh_hau_giang_9.txt to UTF-8.\n",
      "Converted C:/Users/Admin/Documents/NLP/text_mining/seminar/travel/even\\22_tinh_hung_yen_200.txt to UTF-8.\n",
      "Converted C:/Users/Admin/Documents/NLP/text_mining/seminar/travel/even\\22_tinh_hung_yen_201.txt to UTF-8.\n",
      "Converted C:/Users/Admin/Documents/NLP/text_mining/seminar/travel/even\\22_tinh_hung_yen_206.txt to UTF-8.\n",
      "Converted C:/Users/Admin/Documents/NLP/text_mining/seminar/travel/even\\22_tinh_hung_yen_208.txt to UTF-8.\n",
      "Converted C:/Users/Admin/Documents/NLP/text_mining/seminar/travel/even\\22_tinh_hung_yen_209.txt to UTF-8.\n",
      "Converted C:/Users/Admin/Documents/NLP/text_mining/seminar/travel/even\\24_tinh_ha_nam_221.txt to UTF-8.\n",
      "Converted C:/Users/Admin/Documents/NLP/text_mining/seminar/travel/even\\24_tinh_ha_nam_224.txt to UTF-8.\n",
      "Converted C:/Users/Admin/Documents/NLP/text_mining/seminar/travel/even\\24_tinh_ha_nam_225.txt to UTF-8.\n",
      "Converted C:/Users/Admin/Documents/NLP/text_mining/seminar/travel/even\\24_tinh_ha_nam_226.txt to UTF-8.\n",
      "Converted C:/Users/Admin/Documents/NLP/text_mining/seminar/travel/even\\26_tinh_thai_binh_240.txt to UTF-8.\n",
      "Converted C:/Users/Admin/Documents/NLP/text_mining/seminar/travel/even\\26_tinh_thai_binh_247.txt to UTF-8.\n",
      "Converted C:/Users/Admin/Documents/NLP/text_mining/seminar/travel/even\\26_tinh_thai_binh_248.txt to UTF-8.\n",
      "Converted C:/Users/Admin/Documents/NLP/text_mining/seminar/travel/even\\28_tinh_thanh_hoa_262.txt to UTF-8.\n",
      "Converted C:/Users/Admin/Documents/NLP/text_mining/seminar/travel/even\\28_tinh_thanh_hoa_265.txt to UTF-8.\n",
      "Converted C:/Users/Admin/Documents/NLP/text_mining/seminar/travel/even\\28_tinh_thanh_hoa_266.txt to UTF-8.\n",
      "Converted C:/Users/Admin/Documents/NLP/text_mining/seminar/travel/even\\28_tinh_thanh_hoa_267.txt to UTF-8.\n",
      "Converted C:/Users/Admin/Documents/NLP/text_mining/seminar/travel/even\\28_tinh_thanh_hoa_269.txt to UTF-8.\n",
      "Converted C:/Users/Admin/Documents/NLP/text_mining/seminar/travel/even\\2_thanh_pho_ho_chi_minh_10.txt to UTF-8.\n",
      "Converted C:/Users/Admin/Documents/NLP/text_mining/seminar/travel/even\\2_thanh_pho_ho_chi_minh_12.txt to UTF-8.\n",
      "Converted C:/Users/Admin/Documents/NLP/text_mining/seminar/travel/even\\2_thanh_pho_ho_chi_minh_13.txt to UTF-8.\n",
      "Converted C:/Users/Admin/Documents/NLP/text_mining/seminar/travel/even\\2_thanh_pho_ho_chi_minh_14.txt to UTF-8.\n",
      "Converted C:/Users/Admin/Documents/NLP/text_mining/seminar/travel/even\\2_thanh_pho_ho_chi_minh_17.txt to UTF-8.\n",
      "Converted C:/Users/Admin/Documents/NLP/text_mining/seminar/travel/even\\2_thanh_pho_ho_chi_minh_18.txt to UTF-8.\n",
      "Converted C:/Users/Admin/Documents/NLP/text_mining/seminar/travel/even\\2_thanh_pho_ho_chi_minh_19.txt to UTF-8.\n",
      "Converted C:/Users/Admin/Documents/NLP/text_mining/seminar/travel/even\\30_tinh_ha_tinh_282.txt to UTF-8.\n",
      "Converted C:/Users/Admin/Documents/NLP/text_mining/seminar/travel/even\\30_tinh_ha_tinh_284.txt to UTF-8.\n",
      "Converted C:/Users/Admin/Documents/NLP/text_mining/seminar/travel/even\\30_tinh_ha_tinh_285.txt to UTF-8.\n",
      "Converted C:/Users/Admin/Documents/NLP/text_mining/seminar/travel/even\\30_tinh_ha_tinh_287.txt to UTF-8.\n",
      "Converted C:/Users/Admin/Documents/NLP/text_mining/seminar/travel/even\\30_tinh_ha_tinh_288.txt to UTF-8.\n",
      "Converted C:/Users/Admin/Documents/NLP/text_mining/seminar/travel/even\\30_tinh_ha_tinh_289.txt to UTF-8.\n",
      "Converted C:/Users/Admin/Documents/NLP/text_mining/seminar/travel/even\\32_tinh_quang_tri_300.txt to UTF-8.\n",
      "Converted C:/Users/Admin/Documents/NLP/text_mining/seminar/travel/even\\32_tinh_quang_tri_301.txt to UTF-8.\n",
      "Converted C:/Users/Admin/Documents/NLP/text_mining/seminar/travel/even\\32_tinh_quang_tri_303.txt to UTF-8.\n",
      "Converted C:/Users/Admin/Documents/NLP/text_mining/seminar/travel/even\\32_tinh_quang_tri_304.txt to UTF-8.\n",
      "Converted C:/Users/Admin/Documents/NLP/text_mining/seminar/travel/even\\32_tinh_quang_tri_305.txt to UTF-8.\n",
      "Converted C:/Users/Admin/Documents/NLP/text_mining/seminar/travel/even\\32_tinh_quang_tri_309.txt to UTF-8.\n",
      "Converted C:/Users/Admin/Documents/NLP/text_mining/seminar/travel/even\\34_tinh_quang_nam_321.txt to UTF-8.\n",
      "Converted C:/Users/Admin/Documents/NLP/text_mining/seminar/travel/even\\34_tinh_quang_nam_324.txt to UTF-8.\n",
      "Converted C:/Users/Admin/Documents/NLP/text_mining/seminar/travel/even\\34_tinh_quang_nam_326.txt to UTF-8.\n",
      "Converted C:/Users/Admin/Documents/NLP/text_mining/seminar/travel/even\\34_tinh_quang_nam_327.txt to UTF-8.\n",
      "Converted C:/Users/Admin/Documents/NLP/text_mining/seminar/travel/even\\34_tinh_quang_nam_328.txt to UTF-8.\n",
      "Converted C:/Users/Admin/Documents/NLP/text_mining/seminar/travel/even\\36_tinh_kon_tum_340.txt to UTF-8.\n",
      "Converted C:/Users/Admin/Documents/NLP/text_mining/seminar/travel/even\\36_tinh_kon_tum_341.txt to UTF-8.\n",
      "Converted C:/Users/Admin/Documents/NLP/text_mining/seminar/travel/even\\36_tinh_kon_tum_343.txt to UTF-8.\n",
      "Converted C:/Users/Admin/Documents/NLP/text_mining/seminar/travel/even\\36_tinh_kon_tum_344.txt to UTF-8.\n",
      "Converted C:/Users/Admin/Documents/NLP/text_mining/seminar/travel/even\\38_tinh_gia_lai_360.txt to UTF-8.\n",
      "Converted C:/Users/Admin/Documents/NLP/text_mining/seminar/travel/even\\38_tinh_gia_lai_361.txt to UTF-8.\n",
      "Converted C:/Users/Admin/Documents/NLP/text_mining/seminar/travel/even\\38_tinh_gia_lai_363.txt to UTF-8.\n",
      "Converted C:/Users/Admin/Documents/NLP/text_mining/seminar/travel/even\\38_tinh_gia_lai_365.txt to UTF-8.\n",
      "Converted C:/Users/Admin/Documents/NLP/text_mining/seminar/travel/even\\38_tinh_gia_lai_366.txt to UTF-8.\n",
      "Converted C:/Users/Admin/Documents/NLP/text_mining/seminar/travel/even\\38_tinh_gia_lai_368.txt to UTF-8.\n",
      "Converted C:/Users/Admin/Documents/NLP/text_mining/seminar/travel/even\\38_tinh_gia_lai_369.txt to UTF-8.\n",
      "Converted C:/Users/Admin/Documents/NLP/text_mining/seminar/travel/even\\40_tinh_dak_lak_380.txt to UTF-8.\n",
      "Converted C:/Users/Admin/Documents/NLP/text_mining/seminar/travel/even\\40_tinh_dak_lak_381.txt to UTF-8.\n",
      "Converted C:/Users/Admin/Documents/NLP/text_mining/seminar/travel/even\\40_tinh_dak_lak_383.txt to UTF-8.\n",
      "Converted C:/Users/Admin/Documents/NLP/text_mining/seminar/travel/even\\40_tinh_dak_lak_384.txt to UTF-8.\n",
      "Converted C:/Users/Admin/Documents/NLP/text_mining/seminar/travel/even\\40_tinh_dak_lak_385.txt to UTF-8.\n",
      "Converted C:/Users/Admin/Documents/NLP/text_mining/seminar/travel/even\\40_tinh_dak_lak_386.txt to UTF-8.\n",
      "Converted C:/Users/Admin/Documents/NLP/text_mining/seminar/travel/even\\42_tinh_lam_dong_400.txt to UTF-8.\n",
      "Converted C:/Users/Admin/Documents/NLP/text_mining/seminar/travel/even\\42_tinh_lam_dong_402.txt to UTF-8.\n",
      "Converted C:/Users/Admin/Documents/NLP/text_mining/seminar/travel/even\\42_tinh_lam_dong_404.txt to UTF-8.\n",
      "Converted C:/Users/Admin/Documents/NLP/text_mining/seminar/travel/even\\42_tinh_lam_dong_405.txt to UTF-8.\n",
      "Converted C:/Users/Admin/Documents/NLP/text_mining/seminar/travel/even\\42_tinh_lam_dong_406.txt to UTF-8.\n",
      "Converted C:/Users/Admin/Documents/NLP/text_mining/seminar/travel/even\\42_tinh_lam_dong_407.txt to UTF-8.\n",
      "Converted C:/Users/Admin/Documents/NLP/text_mining/seminar/travel/even\\42_tinh_lam_dong_408.txt to UTF-8.\n",
      "Converted C:/Users/Admin/Documents/NLP/text_mining/seminar/travel/even\\44_tinh_binh_duong_420.txt to UTF-8.\n",
      "Converted C:/Users/Admin/Documents/NLP/text_mining/seminar/travel/even\\44_tinh_binh_duong_422.txt to UTF-8.\n",
      "Converted C:/Users/Admin/Documents/NLP/text_mining/seminar/travel/even\\44_tinh_binh_duong_425.txt to UTF-8.\n",
      "Converted C:/Users/Admin/Documents/NLP/text_mining/seminar/travel/even\\44_tinh_binh_duong_426.txt to UTF-8.\n",
      "Converted C:/Users/Admin/Documents/NLP/text_mining/seminar/travel/even\\44_tinh_binh_duong_428.txt to UTF-8.\n",
      "Converted C:/Users/Admin/Documents/NLP/text_mining/seminar/travel/even\\44_tinh_binh_duong_429.txt to UTF-8.\n",
      "Converted C:/Users/Admin/Documents/NLP/text_mining/seminar/travel/even\\46_tinh_tay_ninh_440.txt to UTF-8.\n",
      "Converted C:/Users/Admin/Documents/NLP/text_mining/seminar/travel/even\\46_tinh_tay_ninh_442.txt to UTF-8.\n",
      "Converted C:/Users/Admin/Documents/NLP/text_mining/seminar/travel/even\\46_tinh_tay_ninh_443.txt to UTF-8.\n",
      "Converted C:/Users/Admin/Documents/NLP/text_mining/seminar/travel/even\\46_tinh_tay_ninh_445.txt to UTF-8.\n",
      "Converted C:/Users/Admin/Documents/NLP/text_mining/seminar/travel/even\\46_tinh_tay_ninh_446.txt to UTF-8.\n",
      "Converted C:/Users/Admin/Documents/NLP/text_mining/seminar/travel/even\\46_tinh_tay_ninh_447.txt to UTF-8.\n",
      "Converted C:/Users/Admin/Documents/NLP/text_mining/seminar/travel/even\\48_tinh_dong_nai_461.txt to UTF-8.\n",
      "Converted C:/Users/Admin/Documents/NLP/text_mining/seminar/travel/even\\48_tinh_dong_nai_463.txt to UTF-8.\n",
      "Converted C:/Users/Admin/Documents/NLP/text_mining/seminar/travel/even\\48_tinh_dong_nai_464.txt to UTF-8.\n",
      "Converted C:/Users/Admin/Documents/NLP/text_mining/seminar/travel/even\\48_tinh_dong_nai_466.txt to UTF-8.\n",
      "Converted C:/Users/Admin/Documents/NLP/text_mining/seminar/travel/even\\48_tinh_dong_nai_467.txt to UTF-8.\n",
      "Converted C:/Users/Admin/Documents/NLP/text_mining/seminar/travel/even\\48_tinh_dong_nai_468.txt to UTF-8.\n",
      "Converted C:/Users/Admin/Documents/NLP/text_mining/seminar/travel/even\\4_thanh_pho_da_nang_31.txt to UTF-8.\n",
      "Converted C:/Users/Admin/Documents/NLP/text_mining/seminar/travel/even\\4_thanh_pho_da_nang_32.txt to UTF-8.\n",
      "Converted C:/Users/Admin/Documents/NLP/text_mining/seminar/travel/even\\4_thanh_pho_da_nang_33.txt to UTF-8.\n",
      "Converted C:/Users/Admin/Documents/NLP/text_mining/seminar/travel/even\\4_thanh_pho_da_nang_35.txt to UTF-8.\n",
      "Converted C:/Users/Admin/Documents/NLP/text_mining/seminar/travel/even\\4_thanh_pho_da_nang_36.txt to UTF-8.\n",
      "Converted C:/Users/Admin/Documents/NLP/text_mining/seminar/travel/even\\4_thanh_pho_da_nang_37.txt to UTF-8.\n",
      "Converted C:/Users/Admin/Documents/NLP/text_mining/seminar/travel/even\\4_thanh_pho_da_nang_38.txt to UTF-8.\n",
      "Converted C:/Users/Admin/Documents/NLP/text_mining/seminar/travel/even\\4_thanh_pho_da_nang_39.txt to UTF-8.\n",
      "Converted C:/Users/Admin/Documents/NLP/text_mining/seminar/travel/even\\50_tinh_dong_thap_480.txt to UTF-8.\n",
      "Converted C:/Users/Admin/Documents/NLP/text_mining/seminar/travel/even\\50_tinh_dong_thap_481.txt to UTF-8.\n",
      "Converted C:/Users/Admin/Documents/NLP/text_mining/seminar/travel/even\\50_tinh_dong_thap_482.txt to UTF-8.\n",
      "Converted C:/Users/Admin/Documents/NLP/text_mining/seminar/travel/even\\50_tinh_dong_thap_485.txt to UTF-8.\n",
      "Converted C:/Users/Admin/Documents/NLP/text_mining/seminar/travel/even\\50_tinh_dong_thap_486.txt to UTF-8.\n",
      "Converted C:/Users/Admin/Documents/NLP/text_mining/seminar/travel/even\\50_tinh_dong_thap_488.txt to UTF-8.\n",
      "Converted C:/Users/Admin/Documents/NLP/text_mining/seminar/travel/even\\50_tinh_dong_thap_489.txt to UTF-8.\n",
      "Converted C:/Users/Admin/Documents/NLP/text_mining/seminar/travel/even\\52_tinh_ba_ria_500.txt to UTF-8.\n",
      "Converted C:/Users/Admin/Documents/NLP/text_mining/seminar/travel/even\\54_tinh_kien_giang_521.txt to UTF-8.\n",
      "Converted C:/Users/Admin/Documents/NLP/text_mining/seminar/travel/even\\54_tinh_kien_giang_522.txt to UTF-8.\n",
      "Converted C:/Users/Admin/Documents/NLP/text_mining/seminar/travel/even\\54_tinh_kien_giang_524.txt to UTF-8.\n",
      "Converted C:/Users/Admin/Documents/NLP/text_mining/seminar/travel/even\\54_tinh_kien_giang_525.txt to UTF-8.\n",
      "Converted C:/Users/Admin/Documents/NLP/text_mining/seminar/travel/even\\54_tinh_kien_giang_526.txt to UTF-8.\n",
      "Converted C:/Users/Admin/Documents/NLP/text_mining/seminar/travel/even\\54_tinh_kien_giang_527.txt to UTF-8.\n",
      "Converted C:/Users/Admin/Documents/NLP/text_mining/seminar/travel/even\\54_tinh_kien_giang_529.txt to UTF-8.\n",
      "Converted C:/Users/Admin/Documents/NLP/text_mining/seminar/travel/even\\56_tinh_ben_tre_541.txt to UTF-8.\n",
      "Converted C:/Users/Admin/Documents/NLP/text_mining/seminar/travel/even\\56_tinh_ben_tre_542.txt to UTF-8.\n",
      "Converted C:/Users/Admin/Documents/NLP/text_mining/seminar/travel/even\\56_tinh_ben_tre_543.txt to UTF-8.\n",
      "Converted C:/Users/Admin/Documents/NLP/text_mining/seminar/travel/even\\56_tinh_ben_tre_544.txt to UTF-8.\n",
      "Converted C:/Users/Admin/Documents/NLP/text_mining/seminar/travel/even\\56_tinh_ben_tre_545.txt to UTF-8.\n",
      "Converted C:/Users/Admin/Documents/NLP/text_mining/seminar/travel/even\\56_tinh_ben_tre_546.txt to UTF-8.\n",
      "Converted C:/Users/Admin/Documents/NLP/text_mining/seminar/travel/even\\56_tinh_ben_tre_547.txt to UTF-8.\n",
      "Converted C:/Users/Admin/Documents/NLP/text_mining/seminar/travel/even\\56_tinh_ben_tre_549.txt to UTF-8.\n",
      "Converted C:/Users/Admin/Documents/NLP/text_mining/seminar/travel/even\\58_tinh_tra_vinh_560.txt to UTF-8.\n",
      "Converted C:/Users/Admin/Documents/NLP/text_mining/seminar/travel/even\\58_tinh_tra_vinh_561.txt to UTF-8.\n",
      "Converted C:/Users/Admin/Documents/NLP/text_mining/seminar/travel/even\\58_tinh_tra_vinh_563.txt to UTF-8.\n",
      "Converted C:/Users/Admin/Documents/NLP/text_mining/seminar/travel/even\\58_tinh_tra_vinh_565.txt to UTF-8.\n",
      "Converted C:/Users/Admin/Documents/NLP/text_mining/seminar/travel/even\\58_tinh_tra_vinh_568.txt to UTF-8.\n",
      "Converted C:/Users/Admin/Documents/NLP/text_mining/seminar/travel/even\\60_tinh_bac_lieu_580.txt to UTF-8.\n",
      "Converted C:/Users/Admin/Documents/NLP/text_mining/seminar/travel/even\\60_tinh_bac_lieu_582.txt to UTF-8.\n",
      "Converted C:/Users/Admin/Documents/NLP/text_mining/seminar/travel/even\\60_tinh_bac_lieu_586.txt to UTF-8.\n",
      "Converted C:/Users/Admin/Documents/NLP/text_mining/seminar/travel/even\\60_tinh_bac_lieu_587.txt to UTF-8.\n",
      "Converted C:/Users/Admin/Documents/NLP/text_mining/seminar/travel/even\\60_tinh_bac_lieu_589.txt to UTF-8.\n",
      "Converted C:/Users/Admin/Documents/NLP/text_mining/seminar/travel/even\\62_tinh_dien_bien_600.txt to UTF-8.\n",
      "Converted C:/Users/Admin/Documents/NLP/text_mining/seminar/travel/even\\62_tinh_dien_bien_601.txt to UTF-8.\n",
      "Converted C:/Users/Admin/Documents/NLP/text_mining/seminar/travel/even\\62_tinh_dien_bien_602.txt to UTF-8.\n",
      "Converted C:/Users/Admin/Documents/NLP/text_mining/seminar/travel/even\\62_tinh_dien_bien_603.txt to UTF-8.\n",
      "Converted C:/Users/Admin/Documents/NLP/text_mining/seminar/travel/even\\62_tinh_dien_bien_606.txt to UTF-8.\n",
      "Converted C:/Users/Admin/Documents/NLP/text_mining/seminar/travel/even\\62_tinh_dien_bien_607.txt to UTF-8.\n",
      "Converted C:/Users/Admin/Documents/NLP/text_mining/seminar/travel/even\\62_tinh_dien_bien_608.txt to UTF-8.\n",
      "Converted C:/Users/Admin/Documents/NLP/text_mining/seminar/travel/even\\64_tinh_hau_giang_622.txt to UTF-8.\n",
      "Converted C:/Users/Admin/Documents/NLP/text_mining/seminar/travel/even\\64_tinh_hau_giang_623.txt to UTF-8.\n",
      "Converted C:/Users/Admin/Documents/NLP/text_mining/seminar/travel/even\\64_tinh_hau_giang_624.txt to UTF-8.\n",
      "Converted C:/Users/Admin/Documents/NLP/text_mining/seminar/travel/even\\64_tinh_hau_giang_625.txt to UTF-8.\n",
      "Converted C:/Users/Admin/Documents/NLP/text_mining/seminar/travel/even\\64_tinh_hau_giang_626.txt to UTF-8.\n",
      "Converted C:/Users/Admin/Documents/NLP/text_mining/seminar/travel/even\\64_tinh_hau_giang_629.txt to UTF-8.\n",
      "Converted C:/Users/Admin/Documents/NLP/text_mining/seminar/travel/even\\6_tinh_cao_bang_50.txt to UTF-8.\n",
      "Converted C:/Users/Admin/Documents/NLP/text_mining/seminar/travel/even\\6_tinh_cao_bang_51.txt to UTF-8.\n",
      "Error converting C:/Users/Admin/Documents/NLP/text_mining/seminar/travel/even\\6_tinh_cao_bang_52.txt: 'charmap' codec can't decode byte 0x8f in position 66: character maps to <undefined>\n",
      "Converted C:/Users/Admin/Documents/NLP/text_mining/seminar/travel/even\\6_tinh_cao_bang_54.txt to UTF-8.\n",
      "Converted C:/Users/Admin/Documents/NLP/text_mining/seminar/travel/even\\6_tinh_cao_bang_55.txt to UTF-8.\n",
      "Converted C:/Users/Admin/Documents/NLP/text_mining/seminar/travel/even\\6_tinh_cao_bang_56.txt to UTF-8.\n",
      "Converted C:/Users/Admin/Documents/NLP/text_mining/seminar/travel/even\\6_tinh_cao_bang_57.txt to UTF-8.\n",
      "Converted C:/Users/Admin/Documents/NLP/text_mining/seminar/travel/even\\6_tinh_cao_bang_58.txt to UTF-8.\n",
      "Converted C:/Users/Admin/Documents/NLP/text_mining/seminar/travel/even\\6_tinh_cao_bang_59.txt to UTF-8.\n",
      "Converted C:/Users/Admin/Documents/NLP/text_mining/seminar/travel/even\\8_tinh_lao_cai_70.txt to UTF-8.\n",
      "Converted C:/Users/Admin/Documents/NLP/text_mining/seminar/travel/even\\8_tinh_lao_cai_71.txt to UTF-8.\n",
      "Converted C:/Users/Admin/Documents/NLP/text_mining/seminar/travel/even\\8_tinh_lao_cai_73.txt to UTF-8.\n",
      "Error converting C:/Users/Admin/Documents/NLP/text_mining/seminar/travel/even\\8_tinh_lao_cai_74.txt: 'charmap' codec can't decode byte 0x90 in position 4: character maps to <undefined>\n",
      "Converted C:/Users/Admin/Documents/NLP/text_mining/seminar/travel/even\\8_tinh_lao_cai_76.txt to UTF-8.\n",
      "Converted C:/Users/Admin/Documents/NLP/text_mining/seminar/travel/even\\8_tinh_lao_cai_77.txt to UTF-8.\n",
      "Converted C:/Users/Admin/Documents/NLP/text_mining/seminar/travel/even\\8_tinh_lao_cai_78.txt to UTF-8.\n",
      "Converted C:/Users/Admin/Documents/NLP/text_mining/seminar/travel/even\\8_tinh_lao_cai_79.txt to UTF-8.\n"
     ]
    }
   ],
   "source": [
    "# ensure content is encoded in utf-8\n",
    "def detect_encoding(file_path):\n",
    "    with open(file_path, \"rb\") as f:\n",
    "        raw_data = f.read()\n",
    "    result = chardet.detect(raw_data)\n",
    "    return result[\"encoding\"]\n",
    "\n",
    "\n",
    "def convert_to_utf8(file_path):\n",
    "    encoding = detect_encoding(file_path)\n",
    "    if encoding is None:\n",
    "        print(f\"Skipping {file_path}: Encoding could not be detected.\")\n",
    "        return\n",
    "\n",
    "    try:\n",
    "        with open(file_path, \"r\", encoding=encoding) as f:\n",
    "            content = f.read()\n",
    "        with open(file_path, \"w\", encoding=\"utf-8\") as f:\n",
    "            f.write(content)\n",
    "        print(f\"Converted {file_path} to UTF-8.\")\n",
    "    except Exception as e:\n",
    "        print(f\"Error converting {file_path}: {e}\")\n",
    "\n",
    "\n",
    "def convert_files_in_directory(directory):\n",
    "    for root, _, files in os.walk(directory):\n",
    "        for file in files:\n",
    "            if file.endswith(\".txt\"):\n",
    "                file_path = os.path.join(root, file)\n",
    "                convert_to_utf8(file_path)\n",
    "\n",
    "\n",
    "# Example usage\n",
    "# directory_path = \"path/to/your/directory\"  # Change this to your directory path\n",
    "convert_files_in_directory(even_dir)\n"
   ]
  }
 ],
 "metadata": {
  "kernelspec": {
   "display_name": "(venv) RAG",
   "language": "python",
   "name": "venv"
  },
  "language_info": {
   "codemirror_mode": {
    "name": "ipython",
    "version": 3
   },
   "file_extension": ".py",
   "mimetype": "text/x-python",
   "name": "python",
   "nbconvert_exporter": "python",
   "pygments_lexer": "ipython3",
   "version": "3.12.9"
  }
 },
 "nbformat": 4,
 "nbformat_minor": 2
}
