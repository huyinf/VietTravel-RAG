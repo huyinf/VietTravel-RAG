{
 "cells": [
  {
   "cell_type": "code",
   "execution_count": 1,
   "metadata": {},
   "outputs": [
    {
     "name": "stdout",
     "output_type": "stream",
     "text": [
      "Meta corpus: [{'passage': 'ĐẠI HỌC QUỐC GIA THÀNH PHỐ HỒ CHÍ MINH\\nTRƯỜNG ĐẠI HỌC KHOA HỌC TỰ NHIÊN\\nKHOA CÔNG NGHỆ THÔNG TIN\\nTRÍ TUỆ NHÂN TẠO CHO AN NINH THÔNG TIN\\nBÁO CÁO BÀI TẬP THỰC HÀNH\\nLab 4 - Bảo mật trong Quá trình Huấn luyện\\nMô hình Máy học\\nThành viên:\\n21120157 - Lê Phạm Hoàng Trung\\n21120415 - Trần Ngọc Bảo\\nKhoa: Công nghệ Thông tin\\nThành phố Hồ Chí Minh - 2024'}, {'passage': 'Trường Đại học Khoa học Tự Nhiên TP.HCM Khoa: Công nghệ Thông tin\\nMục lục\\nI Thông tin chung 4\\nII Nội dung báo cáo 5\\n1 Mô hình gốc ban đầu 5\\n1.1 Tổng quan về Federated Learning . . . . . . . . . . . . . . . . . . . . . . . . . . . . . 5\\n1.2 Cấu trúc mô hình sử dụng ResNet-18 trong FL . . . . . . . . . . . . . . . . . . . . . . 5\\n1.3 Quy trình hoạt động của máy chủ (Server) . . . . . . . . . . . . . . . . . . . . . . . . 5\\n1.4 Quy trình hoạt động của máy khách (Client) . . . . . . . . . . . . . . . . . . . . . . . 6\\n1.5 Tổng hợp mô hình . . . . . . . . . . . . . . . . . . . . . . . . . . . . . . . . . . . . . 6\\nIII Nội dung báo cáo 7\\n2 Xây dựng mô hình tấn công 7\\n2.1 Các bước triển khai PGD Attack . . . . . . . . . . . . . . . . . . . . . . . . . . . . . 7\\n2.2 Tích hợp vào client . . . . . . . . . . . . . . . . . . . . . . . . . . . . . . . . . . . . 8\\n3 Xây dựng mô hình phòng thủ tại Server 8\\n3.1 Tại sao lựa chọn Adversarial Training? . . . . . . . . . . . . . . . . . . . . . . . . . . 8\\n3.2 Mô hình phòng thủ: Adversarial Defense Training . . . . . . . . . . . . . . . . . . . . . 9\\n3.3 Tích hợp vào server . . . . . . . . . . . . . . . . . . . . . . . . . . . . . . . . . . . . 9\\n4 Quan sát kết quả 10\\n4.1 Mô hình trước khi phòng thủ . . . . . . . . . . . . . . . . . . . . . . . . . . . . . . . 10\\n4.2 Mô hình sau khi phòng thủ . . . . . . . . . . . . . . . . . . . . . . . . . . . . . . . . 10\\n4.3 Nhận xét . . . . . . . . . . . . . . . . . . . . . . . . . . . . . . . . . . . . . . . . . . 10\\nAI4Sec Trang: 1 / 13'}, {'passage': 'Trường Đại học Khoa học Tự Nhiên TP.HCM Khoa: Công nghệ Thông tin\\nDanh sách hình vẽ\\n1 Độ chính xác của mô hình toàn cục sử dụng Resnet18 trước khi áp dụng tấn công . . . 10\\n2Độ chính xác của mô hình toàn cục sử dụng Resnet18 sau khi áp dụng tấn công và phòng\\nthủ tại Server . . . . . . . . . . . . . . . . . . . . . . . . . . . . . . . . . . . . . . . 11\\nAI4Sec Trang: 2 / 13'}, {'passage': 'Trường Đại học Khoa học Tự Nhiên TP.HCM Khoa: Công nghệ Thông tin\\nDanh sách bảng\\n1 Bảng tự đánh giá mức độ hoàn thành công việc . . . . . . . . . . . . . . . . . . . . . 4\\n2 Bảng phân chia công việc . . . . . . . . . . . . . . . . . . . . . . . . . . . . . . . . . 4\\nAI4Sec Trang: 3 / 13'}, {'passage': 'Trường Đại học Khoa học Tự Nhiên TP.HCM Khoa: Công nghệ Thông tin\\nPhần I\\nThông tin chung\\nBảng tự đánh giá và bảng phân công công việc.\\nNội dung Mức độ hoàn thành\\nXây dựng mô hình tấn công 100%\\nTinh chỉnh lại mô hình để đạt hiệu suất cao hơn 70% 100%\\nXây dựng mô hình phòng thủ tại Server 100%\\nViết báo cáo 100%\\nBảng 1: Bảng tự đánh giá mức độ hoàn thành công việc\\nThành viên MSSV Các công việc thực hiện Mức độ\\nLê Phạm Hoàng Trung 21120157 Xây dựng mô hình phòng thủ 100%\\nTrần Ngọc Bảo 21120415 Xây dựng mô hình tấn công 100%\\nBảng 2: Bảng phân chia công việc\\nAI4Sec Trang: 4 / 13'}, {'passage': 'Trường Đại học Khoa học Tự Nhiên TP.HCM Khoa: Công nghệ Thông tin\\nPhần II\\nNội dung báo cáo\\n1 Mô hình gốc ban đầu\\n1.1 Tổng quan về Federated Learning\\nFederated Learning (FL) là một phương pháp học máy phân tán, nơi nhiều thiết bị hoặc nút tính toán\\ncục bộ tham gia vào việc huấn luyện một mô hình chung mà không cần chia sẻ dữ liệu thô. Thay vào đó,\\ncác thiết bị này cập nhật mô hình cục bộ và gửi các tham số (weights) hoặc gradients đã học được về\\ncho máy chủ trung tâm. Máy chủ thực hiện việc tổng hợp các tham số này để tạo ra một mô hình toàn\\ncục được cải tiến, sau đó gửi mô hình cập nhật lại cho các thiết bị để tiếp tục huấn luyện. Phương pháp\\nnày giúp bảo vệ quyền riêng tư dữ liệu, giảm tải băng thông và cải thiện khả năng mở rộng hệ thống.\\n1.2 Cấu trúc mô hình sử dụng ResNet-18 trong FL\\nTrong bài toán này, chúng em sử dụng một biến thể của ResNet-18, một kiến trúc mạng nơ-ron tích\\nchập (CNN) mạnh mẽ, làm trình trích xuất đặc trưng. ResNet-18 có khả năng học được các biểu diễn\\nmạnh mẽ từ dữ liệu hình ảnh, nhờ vào các khối residual kết hợp. Sau tầng trích xuất đặc trưng, một lớp\\nhồi quy logistic được gắn kèm để thực hiện phân loại đầu ra với 10 lớp của tập dữ liệu CIFAR-10. Điều\\nnày tạo nên mô hình LogisticRegressionModelV2, nơi ResNet-18 đóng vai trò nền tảng, kết hợp với lớp\\nlogistic để hoàn thiện quy trình huấn luyện.\\n1.3 Quy trình hoạt động của máy chủ (Server)\\nServer đóng vai trò trung tâm trong việc tổng hợp mô hình và điều phối giao tiếp với các client. Quy\\ntrình hoạt động của server có thể được mô tả qua các bước sau:\\n•Khởi tạo: Server bắt đầu bằng việc tạo một mô hình toàn cục (global model) ở trạng thái khởi\\nđầu và tải dữ liệu kiểm thử (test dataset) để đánh giá hiệu năng của mô hình.\\n•Nhận dữ liệu từ client: Server lắng nghe và nhận các tham số mô hình đã được huấn luyện cục bộ\\ntừ mỗi client. Các tham số này được lưu lại để chuẩn bị cho việc tổng hợp.\\n•Tổng hợp mô hình: Server thực hiện việc tổng hợp mô hình bằng cách tính trung bình các tham số\\ntừ tất cả client. Việc này đảm bảo rằng kiến thức từ các client được hợp nhất mà không cần chia\\nsẻ dữ liệu.\\nAI4Sec Trang: 5 / 13'}, {'passage': 'Trường Đại học Khoa học Tự Nhiên TP.HCM Khoa: Công nghệ Thông tin\\n•Đánh giá hiệu năng: Sau khi tổng hợp, server đánh giá mô hình toàn cục với dữ liệu thông thường\\n(normal accuracy) và dữ liệu tấn công đối kháng (adversarial accuracy). Điều này giúp kiểm tra\\nkhả năng chống chịu của mô hình trước các tấn công đối kháng.\\n•Gửi lại mô hình: Server gửi mô hình toàn cục được cập nhật lại cho các client để tiếp tục quá\\ntrình huấn luyện.\\n•Lưu trữ mô hình tốt nhất: Nếu mô hình toàn cục mới đạt được độ chính xác cao hơn các phiên\\nbản trước, server lưu trữ mô hình này làm phiên bản tối ưu.\\n1.4 Quy trình hoạt động của máy khách (Client)\\nClient thực hiện việc huấn luyện mô hình cục bộ và giao tiếp với server để cập nhật mô hình toàn\\ncục. Các bước chính trong quy trình của client bao gồm:\\n•Nhận mô hình toàn cục: Client nhận mô hình được cập nhật từ server ở mỗi vòng lặp và sử dụng\\nmô hình này làm trạng thái khởi đầu cho việc huấn luyện cục bộ.\\n•Huấn luyện cục bộ: Client sử dụng tập dữ liệu cục bộ riêng biệt và tiến hành huấn luyện mô hình\\ntrong nhiều epoch. Việc này đảm bảo mô hình học được đặc trưng từ dữ liệu riêng mà không cần\\nchia sẻ dữ liệu với server.\\n•Gửi lại mô hình: Sau khi hoàn thành huấn luyện, client gửi tham số của mô hình cục bộ đã được\\ncập nhật về server để tham gia vào quá trình tổng hợp.\\n•Cập nhật mô hình: Sau mỗi vòng lặp, client nhận mô hình mới từ server và cập nhật trạng thái\\nmô hình cục bộ để tiếp tục vòng huấn luyện tiếp theo.\\n1.5 Tổng hợp mô hình\\nQuá trình tổng hợp mô hình toàn cục tại máy chủ được thực hiện thông qua lấy trung bình các tham\\nsố (parameter averaging). Điều này giúp hợp nhất kiến thức từ nhiều nguồn dữ liệu khác nhau mà vẫn\\nđảm bảo tính bảo mật dữ liệu. Đồng thời, trong kịch bản bảo vệ tính bền vững, mô hình được đánh giá\\ntrên các mẫu đối kháng (adversarial examples) được tạo bằng phương pháp PGD (Projected Gradient\\nDescent). Phương pháp PGD liên tục điều chỉnh dữ liệu để tìm kiếm các mẫu có thể đánh lừa mô hình,\\nqua đó đo lường khả năng chống chịu của mô hình trước các tấn công.\\nAI4Sec Trang: 6 / 13'}, {'passage': 'Trường Đại học Khoa học Tự Nhiên TP.HCM Khoa: Công nghệ Thông tin\\nPhần III\\nNội dung báo cáo\\n2 Xây dựng mô hình tấn công\\nAdversarial attack là một loại tấn công đặc biệt vào mô hình học sâu, trong đó các mẫu đầu vào được\\nthêm nhiễu nhỏ (không ảnh hưởng đến nhận thức của con người) nhưng đủ để gây ra lỗi nghiêm trọng\\ncho mô hình. Các tấn công như Projected Gradient Descent (PGD) hoặc Fast Gradient Sign Method\\n(FGSM) đã được chứng minh là cực kỳ hiệu quả trong việc làm suy giảm hiệu suất của các mô hình\\ndeep learning, ngay cả các mô hình đạt kết quả tốt trên dữ liệu gốc. Ở phần này, nhóm chúng em sẽ\\ntriển khai mô hình PGD Attack cho nhiệm vụ xây dựng mô hình tấn công.\\n2.1 Các bước triển khai PGD Attack\\n•Tính toán gradient ngược trên dữ liệu gốc:\\n* Input ban đầu (images) được chuyển thành một tensor yêu cầu gradient\\n1 images . requires_grad = True\\n2\\n* Mô hình dự đoán đầu ra và tính toán hàm mất mát dựa trên dự đoán\\n1 loss = F. cross_entropy ( outputs , labels )\\n2\\n* Thực hiện lan truyền ngược để tính gradient của các input\\n•Cập nhật dữ liệu đối kháng: Gradient của loss đối với input được sử dụng để điều chỉnh giá trị\\ncủa dữ liệu đầu vào theo hướng tăng khả năng dự đoán sai\\n1 adv_images = images + alpha * images . grad . sign ()\\n2\\n•Dựng lại mẫu đối kháng: Mẫu mới được giới hạn trong một khoảng epsilon để đảm bảo nó vẫn\\ngần với dữ liệu gốc\\n1 eta = torch . clamp ( adv_images - original_images , min=- epsilon , max=\\nepsilon )\\n2 images = torch . clamp ( original_images + eta , min =0, max =1). detach ()\\n3\\nAI4Sec Trang: 7 / 13'}, {'passage': 'Trường Đại học Khoa học Tự Nhiên TP.HCM Khoa: Công nghệ Thông tin\\n2.2 Tích hợp vào client\\nTrong file client.py , PGD Attack được sử dụng khi huấn luyện mô hình cục bộ, bằng cách:\\n•Tạo ra các mẫu đối kháng (adv_inputs) từ dữ liệu gốc.\\n•Kết hợp dữ liệu gốc và dữ liệu đối kháng để tạo tập huấn luyện mở rộng:\\n1 mixed_inputs = torch . cat ([ inputs , adv_inputs ], dim =0)\\n2 mixed_targets = torch .cat ([ targets , targets ], dim =0)\\n3\\n•Mô hình được huấn luyện trên tập dữ liệu này để cải thiện khả năng chịu đựng trước các tấn công.\\n3 Xây dựng mô hình phòng thủ tại Server\\nAdversarial defense là một nhánh quan trọng trong nghiên cứu bảo mật AI nhằm cải thiện khả năng\\nchống chịu của các mô hình đối với các cuộc tấn công dạng này. Một trong các chiến lược phòng thủ\\nmạnh nhất hiện nay là Adversarial Training, được đề xuất bởi Ian Goodfellow và cộng sự trong bài báo\\n\"Explaining and Harnessing Adversarial Examples\" [2].\\n3.1 Tại sao lựa chọn Adversarial Training?\\nAdversarial Training là kỹ thuật huấn luyện mô hình không chỉ với các mẫu dữ liệu gốc mà còn với các\\nmẫu đối kháng được tạo ra trong thời gian thực. Kỹ thuật này giúp mô hình \"học\" cách nhận diện và\\nphân loại chính xác ngay cả khi đầu vào bị nhiễu. Dưới đây là các lý do chính giải thích tại sao phương\\npháp này hiệu quả:\\n•Trong Adversarial Training, mô hình được tiếp xúc với các mẫu tấn công ngay từ khi huấn luyện,\\ngiúp nó \"quen thuộc\" với các loại nhiễu thường gặp trong thực tế. Điều này khác với các phương\\npháp chỉ huấn luyện trên dữ liệu gốc và sau đó sử dụng phòng thủ ở giai đoạn suy luận.\\n•Mặc dù các mẫu đối kháng thường được tạo ra để tấn công một mô hình cụ thể, Adversarial\\nTraining có thể giúp cải thiện khả năng tổng quát hóa trên cả dữ liệu gốc và các dạng dữ liệu bị\\nnhiễu khác nhau. Điều này đặc biệt quan trọng trong các hệ thống học máy áp dụng thực tế, nơi\\nmô hình phải đối mặt với nhiều kiểu biến dạng dữ liệu.\\n•Các phương pháp phòng thủ như Gradient Masking hoặc Input Preprocessing thường không bền\\nvững trước các kiểu tấn công nâng cao. Adversarial Training, trái lại, trực tiếp giải quyết vấn đề\\nbằng cách tối ưu hóa mô hình để đối phó với nhiễu ngay trong quá trình học, giúp nó bền vững\\nhơn [1]\\nAI4Sec Trang: 8 / 13'}, {'passage': 'Trường Đại học Khoa học Tự Nhiên TP.HCM Khoa: Công nghệ Thông tin\\n3.2 Mô hình phòng thủ: Adversarial Defense Training\\n•Kết hợp mẫu gốc và mẫu đối kháng:\\n* Server thực hiện huấn luyện thêm trên mô hình tổng hợp từ các client\\n*Tương tự như phía client, server tạo mẫu đối kháng bằng PGD Attack và kết hợp với dữ liệu\\ngốc\\n1 mixed_inputs = torch . cat ([ inputs , adv_inputs ], dim =0)\\n2 mixed_targets = torch .cat ([ targets , targets ], dim =0)\\n3\\n•Huấn luyện lại mô hình với mẫu hỗn hợp:\\n*Sử dụng tập dữ liệu thử nghiệm (test_loader) từ CIFAR-10, server thực hiện quá trình huấn\\nluyện lại mô hình với mẫu đối kháng.\\n*Quá trình huấn luyện diễn ra qua nhiều epoch để đảm bảo mô hình cải thiện khả năng chống\\nchịu tấn công.\\n•Phân tích độ chính xác: Độ chính xác được đánh giá trên cả tập dữ liệu gốc (Normal Accuracy)\\nvà Độ chính xác đối kháng (Adversarial Accuracy) khi mô hình bị tấn công với các mẫu đối kháng.\\n3.3 Tích hợp vào server\\nMô hình phòng thủ được triển khai trong server.py, với quá trình huấn luyện được gọi sau khi mô\\nhình toàn cầu (global model) được tổng hợp từ các client:\\n1adversarial_defense_training (model , test_loader , criterion , optimizer , device =\\ndevice , epsilon =0.03 , alpha =0.005 , num_iter =10 , epochs =5)\\nAI4Sec Trang: 9 / 13'}, {'passage': 'Trường Đại học Khoa học Tự Nhiên TP.HCM Khoa: Công nghệ Thông tin\\n4 Quan sát kết quả\\n4.1 Mô hình trước khi phòng thủ\\nĐối với mô hình truyền thống, qua 10vòng học, mô hình toàn cục với đặc trưng được trích xuất\\nbằng Resnet18 có được độ chính xác trên tập test là 80.9%và cũng là mô hình có độ chính xác tốt nhất\\ntrong 10mô hình của mỗi vòng (Hình 1).1\\nHình 1: Độ chính xác của mô hình toàn cục sử dụng Resnet18 trước khi áp dụng tấn công\\n4.2 Mô hình sau khi phòng thủ\\nĐối với mô hình sau khi đã áp dụng phương pháp tấn công và phòng thủ, qua 10vòng học, mô hình\\ntoàn cục với đặc trưng được trích xuất bằng Resnet18 có được độ chính xác trên tập test là 45.96%và\\ncũng là mô hình có độ chính xác tốt nhất trong 10mô hình của mỗi vòng (Hình 2).\\n4.3 Nhận xét\\nSự sụt giảm đáng kể về độ chính xác từ 80.90%xuống 44%sau khi áp dụng phương pháp phòng thủ,\\nchẳng hạn như Adversarial Training, là một hiện tượng phổ biến trong học máy đối kháng và có thể\\nđược giải thích qua nhiều khía cạnh như sau:\\n1Số liệu được lấy từ bài báo cáo ở lab 2.\\nAI4Sec Trang: 10 / 13'}, {'passage': 'Trường Đại học Khoa học Tự Nhiên TP.HCM Khoa: Công nghệ Thông tin\\nHình 2: Độ chính xác của mô hình toàn cục sử dụng Resnet18 sau khi áp dụng tấn công và phòng thủ\\ntại Server\\n•Đầu tiên, là do mô hình đã có sự đánh đổi giữa tính tổng quát trên dữ liệu sạch và tính kháng cự\\ntrên dữ liệu đối kháng:\\n* Mô hình ban đầu (trước khi phòng thủ):\\n∗Được huấn luyện trên dữ liệu gốc (sạch), tối ưu hóa hoàn toàn để đạt hiệu suất tốt trên\\ndữ liệu này.\\n∗Vì không phải tối ưu thêm cho khả năng kháng cự với tấn công đối kháng, mô hình vẫn\\ngiữ được độ chính xác cao trên dữ liệu sạch.\\n* Mô hình sau phòng thủ:\\n∗Quá trình Adversarial Training đưa thêm dữ liệu đối kháng (adversarial examples) vào\\nquá trình huấn luyện. Khi đó, mô hình phải học cách phân biệt cả dữ liệu sạch lẫn dữ\\nliệu đối kháng.\\n∗Điều này tạo ra một sự đánh đổi (trade-off) vì mô hình cần tối ưu thêm cho khả năng\\nchống chịu với các tấn công thay vì chỉ tập trung vào độ chính xác trên dữ liệu sạch.\\n∗Kết quả là mô hình sau phòng thủ có thể mất đi một phần hiệu suất trên dữ liệu gốc.\\n•Sự phân bổ tài nguyên huấn luyện của mô hình: Mô hình phải phân bổ tài nguyên (parameters,\\ngradients) để học cách kháng cự với dữ liệu đối kháng. Vì không có tài nguyên dư thừa, điều này\\ncó thể dẫn đến việc mô hình không còn đủ khả năng để tối ưu hóa trên dữ liệu gốc.\\n•Phụ thuộc vào các siêu tham số trong quá trình huấn luyện phòng thủ:\\nAI4Sec Trang: 11 / 13'}, {'passage': 'Trường Đại học Khoa học Tự Nhiên TP.HCM Khoa: Công nghệ Thông tin\\n*Epsilon (mức độ nhiễu): Nếu giá trị epsilon quá lớn, các mẫu đối kháng được tạo ra có thể\\nrất khác biệt so với dữ liệu sạch, dẫn đến khó khăn trong việc cân bằng giữa dữ liệu gốc và\\nđối kháng.\\n*Alpha và số lần lặp của PGD: Nếu quá trình tạo mẫu đối kháng quá mạnh, mô hình sẽ bị\\n\"quá tải\" khi phải xử lý chúng, dẫn đến mất hiệu suất trên dữ liệu gốc.\\nAI4Sec Trang: 12 / 13'}, {'passage': 'Trường Đại học Khoa học Tự Nhiên TP.HCM Khoa: Công nghệ Thông tin\\nTài liệu\\n[1]Nicholas Carlini and David Wagner. Adversarial Examples Are Not Easily Detected: Bypassing Ten\\nDetection Methods . 2017. arXiv: 1705.07263 [cs.LG] .url:https://arxiv.org/abs/1705.\\n07263.\\n[2]Ian J. Goodfellow, Jonathon Shlens, and Christian Szegedy. Explaining and Harnessing Adversarial\\nExamples . 2015. arXiv: 1412.6572 [stat.ML] .url:https://arxiv.org/abs/1412.6572 .\\nAI4Sec Trang: 13 / 13'}]\n"
     ]
    },
    {
     "name": "stderr",
     "output_type": "stream",
     "text": [
      "100%|██████████| 14/14 [00:00<00:00, 4443.12it/s]"
     ]
    },
    {
     "name": "stdout",
     "output_type": "stream",
     "text": [
      "Tokenized_corpus: [['đại', 'học', 'quốc', 'gia', 'thành', 'phố', 'hồ', 'chí', 'minh', 'trường', 'đại', 'học', 'khoa', 'học', 'tự', 'nhiên', 'khoa', 'công', 'nghệ', 'thông', 'tin', 'trí', 'tuệ', 'nhân', 'tạo', 'cho', 'an', 'ninh', 'thông', 'tin', 'báo', 'cáo', 'bài', 'tập', 'thực', 'hành', 'lab', '4', 'bảo', 'mật', 'trong', 'quá', 'trình', 'huấn', 'luyện', 'mô', 'hình', 'máy', 'học', 'thành', 'viên', '21120157', 'lê', 'phạm', 'hoàng', 'trung', '21120415', 'trần', 'ngọc', 'bảo', 'khoa', 'công', 'nghệ', 'thông', 'tin', 'thành', 'phố', 'hồ', 'chí', 'minh', '2024'], ['trường', 'đại', 'học', 'khoa', 'học', 'tự', 'nhiên', 'tphcm', 'khoa', 'công', 'nghệ', 'thông', 'tin', 'mục', 'lục', 'i', 'thông', 'tin', 'chung', '4', 'ii', 'nội', 'dung', 'báo', 'cáo', '5', '1', 'mô', 'hình', 'gốc', 'ban', 'đầu', '5', '11', 'tổng', 'quan', 'về', 'federated', 'learning', '5', '12', 'cấu', 'trúc', 'mô', 'hình', 'sử', 'dụng', 'resnet18', 'trong', 'fl', '5', '13', 'quy', 'trình', 'hoạt', 'động', 'của', 'máy', 'chủ', 'server', '5', '14', 'quy', 'trình', 'hoạt', 'động', 'của', 'máy', 'khách', 'client', '6', '15', 'tổng', 'hợp', 'mô', 'hình', '6', 'iii', 'nội', 'dung', 'báo', 'cáo', '7', '2', 'xây', 'dựng', 'mô', 'hình', 'tấn', 'công', '7', '21', 'các', 'bước', 'triển', 'khai', 'pgd', 'attack', '7', '22', 'tích', 'hợp', 'vào', 'client', '8', '3', 'xây', 'dựng', 'mô', 'hình', 'phòng', 'thủ', 'tại', 'server', '8', '31', 'tại', 'sao', 'lựa', 'chọn', 'adversarial', 'training', '8', '32', 'mô', 'hình', 'phòng', 'thủ', 'adversarial', 'defense', 'training', '9', '33', 'tích', 'hợp', 'vào', 'server', '9', '4', 'quan', 'sát', 'kết', 'quả', '10', '41', 'mô', 'hình', 'trước', 'khi', 'phòng', 'thủ', '10', '42', 'mô', 'hình', 'sau', 'khi', 'phòng', 'thủ', '10', '43', 'nhận', 'xét', '10', 'ai4sec', 'trang', '1', '13'], ['trường', 'đại', 'học', 'khoa', 'học', 'tự', 'nhiên', 'tphcm', 'khoa', 'công', 'nghệ', 'thông', 'tin', 'danh', 'sách', 'hình', 'vẽ', '1', 'độ', 'chính', 'xác', 'của', 'mô', 'hình', 'toàn', 'cục', 'sử', 'dụng', 'resnet18', 'trước', 'khi', 'áp', 'dụng', 'tấn', 'công', '10', '2độ', 'chính', 'xác', 'của', 'mô', 'hình', 'toàn', 'cục', 'sử', 'dụng', 'resnet18', 'sau', 'khi', 'áp', 'dụng', 'tấn', 'công', 'và', 'phòng', 'thủ', 'tại', 'server', '11', 'ai4sec', 'trang', '2', '13'], ['trường', 'đại', 'học', 'khoa', 'học', 'tự', 'nhiên', 'tphcm', 'khoa', 'công', 'nghệ', 'thông', 'tin', 'danh', 'sách', 'bảng', '1', 'bảng', 'tự', 'đánh', 'giá', 'mức', 'độ', 'hoàn', 'thành', 'công', 'việc', '4', '2', 'bảng', 'phân', 'chia', 'công', 'việc', '4', 'ai4sec', 'trang', '3', '13'], ['trường', 'đại', 'học', 'khoa', 'học', 'tự', 'nhiên', 'tphcm', 'khoa', 'công', 'nghệ', 'thông', 'tin', 'phần', 'i', 'thông', 'tin', 'chung', 'bảng', 'tự', 'đánh', 'giá', 'và', 'bảng', 'phân', 'công', 'công', 'việc', 'nội', 'dung', 'mức', 'độ', 'hoàn', 'thành', 'xây', 'dựng', 'mô', 'hình', 'tấn', 'công', '100', 'tinh', 'chỉnh', 'lại', 'mô', 'hình', 'để', 'đạt', 'hiệu', 'suất', 'cao', 'hơn', '70', '100', 'xây', 'dựng', 'mô', 'hình', 'phòng', 'thủ', 'tại', 'server', '100', 'viết', 'báo', 'cáo', '100', 'bảng', '1', 'bảng', 'tự', 'đánh', 'giá', 'mức', 'độ', 'hoàn', 'thành', 'công', 'việc', 'thành', 'viên', 'mssv', 'các', 'công', 'việc', 'thực', 'hiện', 'mức', 'độ', 'lê', 'phạm', 'hoàng', 'trung', '21120157', 'xây', 'dựng', 'mô', 'hình', 'phòng', 'thủ', '100', 'trần', 'ngọc', 'bảo', '21120415', 'xây', 'dựng', 'mô', 'hình', 'tấn', 'công', '100', 'bảng', '2', 'bảng', 'phân', 'chia', 'công', 'việc', 'ai4sec', 'trang', '4', '13'], ['trường', 'đại', 'học', 'khoa', 'học', 'tự', 'nhiên', 'tphcm', 'khoa', 'công', 'nghệ', 'thông', 'tin', 'phần', 'ii', 'nội', 'dung', 'báo', 'cáo', '1', 'mô', 'hình', 'gốc', 'ban', 'đầu', '11', 'tổng', 'quan', 'về', 'federated', 'learning', 'federated', 'learning', 'fl', 'là', 'một', 'phương', 'pháp', 'học', 'máy', 'phân', 'tán', 'nơi', 'nhiều', 'thiết', 'bị', 'hoặc', 'nút', 'tính', 'toán', 'cục', 'bộ', 'tham', 'gia', 'vào', 'việc', 'huấn', 'luyện', 'một', 'mô', 'hình', 'chung', 'mà', 'không', 'cần', 'chia', 'sẻ', 'dữ', 'liệu', 'thô', 'thay', 'vào', 'đó', 'các', 'thiết', 'bị', 'này', 'cập', 'nhật', 'mô', 'hình', 'cục', 'bộ', 'và', 'gửi', 'các', 'tham', 'số', 'weights', 'hoặc', 'gradients', 'đã', 'học', 'được', 'về', 'cho', 'máy', 'chủ', 'trung', 'tâm', 'máy', 'chủ', 'thực', 'hiện', 'việc', 'tổng', 'hợp', 'các', 'tham', 'số', 'này', 'để', 'tạo', 'ra', 'một', 'mô', 'hình', 'toàn', 'cục', 'được', 'cải', 'tiến', 'sau', 'đó', 'gửi', 'mô', 'hình', 'cập', 'nhật', 'lại', 'cho', 'các', 'thiết', 'bị', 'để', 'tiếp', 'tục', 'huấn', 'luyện', 'phương', 'pháp', 'này', 'giúp', 'bảo', 'vệ', 'quyền', 'riêng', 'tư', 'dữ', 'liệu', 'giảm', 'tải', 'băng', 'thông', 'và', 'cải', 'thiện', 'khả', 'năng', 'mở', 'rộng', 'hệ', 'thống', '12', 'cấu', 'trúc', 'mô', 'hình', 'sử', 'dụng', 'resnet18', 'trong', 'fl', 'trong', 'bài', 'toán', 'này', 'chúng', 'em', 'sử', 'dụng', 'một', 'biến', 'thể', 'của', 'resnet18', 'một', 'kiến', 'trúc', 'mạng', 'nơron', 'tích', 'chập', 'cnn', 'mạnh', 'mẽ', 'làm', 'trình', 'trích', 'xuất', 'đặc', 'trưng', 'resnet18', 'có', 'khả', 'năng', 'học', 'được', 'các', 'biểu', 'diễn', 'mạnh', 'mẽ', 'từ', 'dữ', 'liệu', 'hình', 'ảnh', 'nhờ', 'vào', 'các', 'khối', 'residual', 'kết', 'hợp', 'sau', 'tầng', 'trích', 'xuất', 'đặc', 'trưng', 'một', 'lớp', 'hồi', 'quy', 'logistic', 'được', 'gắn', 'kèm', 'để', 'thực', 'hiện', 'phân', 'loại', 'đầu', 'ra', 'với', '10', 'lớp', 'của', 'tập', 'dữ', 'liệu', 'cifar10', 'điều', 'này', 'tạo', 'nên', 'mô', 'hình', 'logisticregressionmodelv2', 'nơi', 'resnet18', 'đóng', 'vai', 'trò', 'nền', 'tảng', 'kết', 'hợp', 'với', 'lớp', 'logistic', 'để', 'hoàn', 'thiện', 'quy', 'trình', 'huấn', 'luyện', '13', 'quy', 'trình', 'hoạt', 'động', 'của', 'máy', 'chủ', 'server', 'server', 'đóng', 'vai', 'trò', 'trung', 'tâm', 'trong', 'việc', 'tổng', 'hợp', 'mô', 'hình', 'và', 'điều', 'phối', 'giao', 'tiếp', 'với', 'các', 'client', 'quy', 'trình', 'hoạt', 'động', 'của', 'server', 'có', 'thể', 'được', 'mô', 'tả', 'qua', 'các', 'bước', 'sau', '•khởi', 'tạo', 'server', 'bắt', 'đầu', 'bằng', 'việc', 'tạo', 'một', 'mô', 'hình', 'toàn', 'cục', 'global', 'model', 'ở', 'trạng', 'thái', 'khởi', 'đầu', 'và', 'tải', 'dữ', 'liệu', 'kiểm', 'thử', 'test', 'dataset', 'để', 'đánh', 'giá', 'hiệu', 'năng', 'của', 'mô', 'hình', '•nhận', 'dữ', 'liệu', 'từ', 'client', 'server', 'lắng', 'nghe', 'và', 'nhận', 'các', 'tham', 'số', 'mô', 'hình', 'đã', 'được', 'huấn', 'luyện', 'cục', 'bộ', 'từ', 'mỗi', 'client', 'các', 'tham', 'số', 'này', 'được', 'lưu', 'lại', 'để', 'chuẩn', 'bị', 'cho', 'việc', 'tổng', 'hợp', '•tổng', 'hợp', 'mô', 'hình', 'server', 'thực', 'hiện', 'việc', 'tổng', 'hợp', 'mô', 'hình', 'bằng', 'cách', 'tính', 'trung', 'bình', 'các', 'tham', 'số', 'từ', 'tất', 'cả', 'client', 'việc', 'này', 'đảm', 'bảo', 'rằng', 'kiến', 'thức', 'từ', 'các', 'client', 'được', 'hợp', 'nhất', 'mà', 'không', 'cần', 'chia', 'sẻ', 'dữ', 'liệu', 'ai4sec', 'trang', '5', '13'], ['trường', 'đại', 'học', 'khoa', 'học', 'tự', 'nhiên', 'tphcm', 'khoa', 'công', 'nghệ', 'thông', 'tin', '•đánh', 'giá', 'hiệu', 'năng', 'sau', 'khi', 'tổng', 'hợp', 'server', 'đánh', 'giá', 'mô', 'hình', 'toàn', 'cục', 'với', 'dữ', 'liệu', 'thông', 'thường', 'normal', 'accuracy', 'và', 'dữ', 'liệu', 'tấn', 'công', 'đối', 'kháng', 'adversarial', 'accuracy', 'điều', 'này', 'giúp', 'kiểm', 'tra', 'khả', 'năng', 'chống', 'chịu', 'của', 'mô', 'hình', 'trước', 'các', 'tấn', 'công', 'đối', 'kháng', '•gửi', 'lại', 'mô', 'hình', 'server', 'gửi', 'mô', 'hình', 'toàn', 'cục', 'được', 'cập', 'nhật', 'lại', 'cho', 'các', 'client', 'để', 'tiếp', 'tục', 'quá', 'trình', 'huấn', 'luyện', '•lưu', 'trữ', 'mô', 'hình', 'tốt', 'nhất', 'nếu', 'mô', 'hình', 'toàn', 'cục', 'mới', 'đạt', 'được', 'độ', 'chính', 'xác', 'cao', 'hơn', 'các', 'phiên', 'bản', 'trước', 'server', 'lưu', 'trữ', 'mô', 'hình', 'này', 'làm', 'phiên', 'bản', 'tối', 'ưu', '14', 'quy', 'trình', 'hoạt', 'động', 'của', 'máy', 'khách', 'client', 'client', 'thực', 'hiện', 'việc', 'huấn', 'luyện', 'mô', 'hình', 'cục', 'bộ', 'và', 'giao', 'tiếp', 'với', 'server', 'để', 'cập', 'nhật', 'mô', 'hình', 'toàn', 'cục', 'các', 'bước', 'chính', 'trong', 'quy', 'trình', 'của', 'client', 'bao', 'gồm', '•nhận', 'mô', 'hình', 'toàn', 'cục', 'client', 'nhận', 'mô', 'hình', 'được', 'cập', 'nhật', 'từ', 'server', 'ở', 'mỗi', 'vòng', 'lặp', 'và', 'sử', 'dụng', 'mô', 'hình', 'này', 'làm', 'trạng', 'thái', 'khởi', 'đầu', 'cho', 'việc', 'huấn', 'luyện', 'cục', 'bộ', '•huấn', 'luyện', 'cục', 'bộ', 'client', 'sử', 'dụng', 'tập', 'dữ', 'liệu', 'cục', 'bộ', 'riêng', 'biệt', 'và', 'tiến', 'hành', 'huấn', 'luyện', 'mô', 'hình', 'trong', 'nhiều', 'epoch', 'việc', 'này', 'đảm', 'bảo', 'mô', 'hình', 'học', 'được', 'đặc', 'trưng', 'từ', 'dữ', 'liệu', 'riêng', 'mà', 'không', 'cần', 'chia', 'sẻ', 'dữ', 'liệu', 'với', 'server', '•gửi', 'lại', 'mô', 'hình', 'sau', 'khi', 'hoàn', 'thành', 'huấn', 'luyện', 'client', 'gửi', 'tham', 'số', 'của', 'mô', 'hình', 'cục', 'bộ', 'đã', 'được', 'cập', 'nhật', 'về', 'server', 'để', 'tham', 'gia', 'vào', 'quá', 'trình', 'tổng', 'hợp', '•cập', 'nhật', 'mô', 'hình', 'sau', 'mỗi', 'vòng', 'lặp', 'client', 'nhận', 'mô', 'hình', 'mới', 'từ', 'server', 'và', 'cập', 'nhật', 'trạng', 'thái', 'mô', 'hình', 'cục', 'bộ', 'để', 'tiếp', 'tục', 'vòng', 'huấn', 'luyện', 'tiếp', 'theo', '15', 'tổng', 'hợp', 'mô', 'hình', 'quá', 'trình', 'tổng', 'hợp', 'mô', 'hình', 'toàn', 'cục', 'tại', 'máy', 'chủ', 'được', 'thực', 'hiện', 'thông', 'qua', 'lấy', 'trung', 'bình', 'các', 'tham', 'số', 'parameter', 'averaging', 'điều', 'này', 'giúp', 'hợp', 'nhất', 'kiến', 'thức', 'từ', 'nhiều', 'nguồn', 'dữ', 'liệu', 'khác', 'nhau', 'mà', 'vẫn', 'đảm', 'bảo', 'tính', 'bảo', 'mật', 'dữ', 'liệu', 'đồng', 'thời', 'trong', 'kịch', 'bản', 'bảo', 'vệ', 'tính', 'bền', 'vững', 'mô', 'hình', 'được', 'đánh', 'giá', 'trên', 'các', 'mẫu', 'đối', 'kháng', 'adversarial', 'examples', 'được', 'tạo', 'bằng', 'phương', 'pháp', 'pgd', 'projected', 'gradient', 'descent', 'phương', 'pháp', 'pgd', 'liên', 'tục', 'điều', 'chỉnh', 'dữ', 'liệu', 'để', 'tìm', 'kiếm', 'các', 'mẫu', 'có', 'thể', 'đánh', 'lừa', 'mô', 'hình', 'qua', 'đó', 'đo', 'lường', 'khả', 'năng', 'chống', 'chịu', 'của', 'mô', 'hình', 'trước', 'các', 'tấn', 'công', 'ai4sec', 'trang', '6', '13'], ['trường', 'đại', 'học', 'khoa', 'học', 'tự', 'nhiên', 'tphcm', 'khoa', 'công', 'nghệ', 'thông', 'tin', 'phần', 'iii', 'nội', 'dung', 'báo', 'cáo', '2', 'xây', 'dựng', 'mô', 'hình', 'tấn', 'công', 'adversarial', 'attack', 'là', 'một', 'loại', 'tấn', 'công', 'đặc', 'biệt', 'vào', 'mô', 'hình', 'học', 'sâu', 'trong', 'đó', 'các', 'mẫu', 'đầu', 'vào', 'được', 'thêm', 'nhiễu', 'nhỏ', 'không', 'ảnh', 'hưởng', 'đến', 'nhận', 'thức', 'của', 'con', 'người', 'nhưng', 'đủ', 'để', 'gây', 'ra', 'lỗi', 'nghiêm', 'trọng', 'cho', 'mô', 'hình', 'các', 'tấn', 'công', 'như', 'projected', 'gradient', 'descent', 'pgd', 'hoặc', 'fast', 'gradient', 'sign', 'method', 'fgsm', 'đã', 'được', 'chứng', 'minh', 'là', 'cực', 'kỳ', 'hiệu', 'quả', 'trong', 'việc', 'làm', 'suy', 'giảm', 'hiệu', 'suất', 'của', 'các', 'mô', 'hình', 'deep', 'learning', 'ngay', 'cả', 'các', 'mô', 'hình', 'đạt', 'kết', 'quả', 'tốt', 'trên', 'dữ', 'liệu', 'gốc', 'ở', 'phần', 'này', 'nhóm', 'chúng', 'em', 'sẽ', 'triển', 'khai', 'mô', 'hình', 'pgd', 'attack', 'cho', 'nhiệm', 'vụ', 'xây', 'dựng', 'mô', 'hình', 'tấn', 'công', '21', 'các', 'bước', 'triển', 'khai', 'pgd', 'attack', '•tính', 'toán', 'gradient', 'ngược', 'trên', 'dữ', 'liệu', 'gốc', 'input', 'ban', 'đầu', 'images', 'được', 'chuyển', 'thành', 'một', 'tensor', 'yêu', 'cầu', 'gradient', '1', 'images', 'requiresgrad', 'true', '2', 'mô', 'hình', 'dự', 'đoán', 'đầu', 'ra', 'và', 'tính', 'toán', 'hàm', 'mất', 'mát', 'dựa', 'trên', 'dự', 'đoán', '1', 'loss', 'f', 'crossentropy', 'outputs', 'labels', '2', 'thực', 'hiện', 'lan', 'truyền', 'ngược', 'để', 'tính', 'gradient', 'của', 'các', 'input', '•cập', 'nhật', 'dữ', 'liệu', 'đối', 'kháng', 'gradient', 'của', 'loss', 'đối', 'với', 'input', 'được', 'sử', 'dụng', 'để', 'điều', 'chỉnh', 'giá', 'trị', 'của', 'dữ', 'liệu', 'đầu', 'vào', 'theo', 'hướng', 'tăng', 'khả', 'năng', 'dự', 'đoán', 'sai', '1', 'advimages', 'images', 'alpha', 'images', 'grad', 'sign', '2', '•dựng', 'lại', 'mẫu', 'đối', 'kháng', 'mẫu', 'mới', 'được', 'giới', 'hạn', 'trong', 'một', 'khoảng', 'epsilon', 'để', 'đảm', 'bảo', 'nó', 'vẫn', 'gần', 'với', 'dữ', 'liệu', 'gốc', '1', 'eta', 'torch', 'clamp', 'advimages', 'originalimages', 'min', 'epsilon', 'max', 'epsilon', '2', 'images', 'torch', 'clamp', 'originalimages', 'eta', 'min', '0', 'max', '1', 'detach', '3', 'ai4sec', 'trang', '7', '13'], ['trường', 'đại', 'học', 'khoa', 'học', 'tự', 'nhiên', 'tphcm', 'khoa', 'công', 'nghệ', 'thông', 'tin', '22', 'tích', 'hợp', 'vào', 'client', 'trong', 'file', 'clientpy', 'pgd', 'attack', 'được', 'sử', 'dụng', 'khi', 'huấn', 'luyện', 'mô', 'hình', 'cục', 'bộ', 'bằng', 'cách', '•tạo', 'ra', 'các', 'mẫu', 'đối', 'kháng', 'advinputs', 'từ', 'dữ', 'liệu', 'gốc', '•kết', 'hợp', 'dữ', 'liệu', 'gốc', 'và', 'dữ', 'liệu', 'đối', 'kháng', 'để', 'tạo', 'tập', 'huấn', 'luyện', 'mở', 'rộng', '1', 'mixedinputs', 'torch', 'cat', 'inputs', 'advinputs', 'dim', '0', '2', 'mixedtargets', 'torch', 'cat', 'targets', 'targets', 'dim', '0', '3', '•mô', 'hình', 'được', 'huấn', 'luyện', 'trên', 'tập', 'dữ', 'liệu', 'này', 'để', 'cải', 'thiện', 'khả', 'năng', 'chịu', 'đựng', 'trước', 'các', 'tấn', 'công', '3', 'xây', 'dựng', 'mô', 'hình', 'phòng', 'thủ', 'tại', 'server', 'adversarial', 'defense', 'là', 'một', 'nhánh', 'quan', 'trọng', 'trong', 'nghiên', 'cứu', 'bảo', 'mật', 'ai', 'nhằm', 'cải', 'thiện', 'khả', 'năng', 'chống', 'chịu', 'của', 'các', 'mô', 'hình', 'đối', 'với', 'các', 'cuộc', 'tấn', 'công', 'dạng', 'này', 'một', 'trong', 'các', 'chiến', 'lược', 'phòng', 'thủ', 'mạnh', 'nhất', 'hiện', 'nay', 'là', 'adversarial', 'training', 'được', 'đề', 'xuất', 'bởi', 'ian', 'goodfellow', 'và', 'cộng', 'sự', 'trong', 'bài', 'báo', 'explaining', 'and', 'harnessing', 'adversarial', 'examples', '2', '31', 'tại', 'sao', 'lựa', 'chọn', 'adversarial', 'training', 'adversarial', 'training', 'là', 'kỹ', 'thuật', 'huấn', 'luyện', 'mô', 'hình', 'không', 'chỉ', 'với', 'các', 'mẫu', 'dữ', 'liệu', 'gốc', 'mà', 'còn', 'với', 'các', 'mẫu', 'đối', 'kháng', 'được', 'tạo', 'ra', 'trong', 'thời', 'gian', 'thực', 'kỹ', 'thuật', 'này', 'giúp', 'mô', 'hình', 'học', 'cách', 'nhận', 'diện', 'và', 'phân', 'loại', 'chính', 'xác', 'ngay', 'cả', 'khi', 'đầu', 'vào', 'bị', 'nhiễu', 'dưới', 'đây', 'là', 'các', 'lý', 'do', 'chính', 'giải', 'thích', 'tại', 'sao', 'phương', 'pháp', 'này', 'hiệu', 'quả', '•trong', 'adversarial', 'training', 'mô', 'hình', 'được', 'tiếp', 'xúc', 'với', 'các', 'mẫu', 'tấn', 'công', 'ngay', 'từ', 'khi', 'huấn', 'luyện', 'giúp', 'nó', 'quen', 'thuộc', 'với', 'các', 'loại', 'nhiễu', 'thường', 'gặp', 'trong', 'thực', 'tế', 'điều', 'này', 'khác', 'với', 'các', 'phương', 'pháp', 'chỉ', 'huấn', 'luyện', 'trên', 'dữ', 'liệu', 'gốc', 'và', 'sau', 'đó', 'sử', 'dụng', 'phòng', 'thủ', 'ở', 'giai', 'đoạn', 'suy', 'luận', '•mặc', 'dù', 'các', 'mẫu', 'đối', 'kháng', 'thường', 'được', 'tạo', 'ra', 'để', 'tấn', 'công', 'một', 'mô', 'hình', 'cụ', 'thể', 'adversarial', 'training', 'có', 'thể', 'giúp', 'cải', 'thiện', 'khả', 'năng', 'tổng', 'quát', 'hóa', 'trên', 'cả', 'dữ', 'liệu', 'gốc', 'và', 'các', 'dạng', 'dữ', 'liệu', 'bị', 'nhiễu', 'khác', 'nhau', 'điều', 'này', 'đặc', 'biệt', 'quan', 'trọng', 'trong', 'các', 'hệ', 'thống', 'học', 'máy', 'áp', 'dụng', 'thực', 'tế', 'nơi', 'mô', 'hình', 'phải', 'đối', 'mặt', 'với', 'nhiều', 'kiểu', 'biến', 'dạng', 'dữ', 'liệu', '•các', 'phương', 'pháp', 'phòng', 'thủ', 'như', 'gradient', 'masking', 'hoặc', 'input', 'preprocessing', 'thường', 'không', 'bền', 'vững', 'trước', 'các', 'kiểu', 'tấn', 'công', 'nâng', 'cao', 'adversarial', 'training', 'trái', 'lại', 'trực', 'tiếp', 'giải', 'quyết', 'vấn', 'đề', 'bằng', 'cách', 'tối', 'ưu', 'hóa', 'mô', 'hình', 'để', 'đối', 'phó', 'với', 'nhiễu', 'ngay', 'trong', 'quá', 'trình', 'học', 'giúp', 'nó', 'bền', 'vững', 'hơn', '1', 'ai4sec', 'trang', '8', '13'], ['trường', 'đại', 'học', 'khoa', 'học', 'tự', 'nhiên', 'tphcm', 'khoa', 'công', 'nghệ', 'thông', 'tin', '32', 'mô', 'hình', 'phòng', 'thủ', 'adversarial', 'defense', 'training', '•kết', 'hợp', 'mẫu', 'gốc', 'và', 'mẫu', 'đối', 'kháng', 'server', 'thực', 'hiện', 'huấn', 'luyện', 'thêm', 'trên', 'mô', 'hình', 'tổng', 'hợp', 'từ', 'các', 'client', 'tương', 'tự', 'như', 'phía', 'client', 'server', 'tạo', 'mẫu', 'đối', 'kháng', 'bằng', 'pgd', 'attack', 'và', 'kết', 'hợp', 'với', 'dữ', 'liệu', 'gốc', '1', 'mixedinputs', 'torch', 'cat', 'inputs', 'advinputs', 'dim', '0', '2', 'mixedtargets', 'torch', 'cat', 'targets', 'targets', 'dim', '0', '3', '•huấn', 'luyện', 'lại', 'mô', 'hình', 'với', 'mẫu', 'hỗn', 'hợp', 'sử', 'dụng', 'tập', 'dữ', 'liệu', 'thử', 'nghiệm', 'testloader', 'từ', 'cifar10', 'server', 'thực', 'hiện', 'quá', 'trình', 'huấn', 'luyện', 'lại', 'mô', 'hình', 'với', 'mẫu', 'đối', 'kháng', 'quá', 'trình', 'huấn', 'luyện', 'diễn', 'ra', 'qua', 'nhiều', 'epoch', 'để', 'đảm', 'bảo', 'mô', 'hình', 'cải', 'thiện', 'khả', 'năng', 'chống', 'chịu', 'tấn', 'công', '•phân', 'tích', 'độ', 'chính', 'xác', 'độ', 'chính', 'xác', 'được', 'đánh', 'giá', 'trên', 'cả', 'tập', 'dữ', 'liệu', 'gốc', 'normal', 'accuracy', 'và', 'độ', 'chính', 'xác', 'đối', 'kháng', 'adversarial', 'accuracy', 'khi', 'mô', 'hình', 'bị', 'tấn', 'công', 'với', 'các', 'mẫu', 'đối', 'kháng', '33', 'tích', 'hợp', 'vào', 'server', 'mô', 'hình', 'phòng', 'thủ', 'được', 'triển', 'khai', 'trong', 'serverpy', 'với', 'quá', 'trình', 'huấn', 'luyện', 'được', 'gọi', 'sau', 'khi', 'mô', 'hình', 'toàn', 'cầu', 'global', 'model', 'được', 'tổng', 'hợp', 'từ', 'các', 'client', '1adversarialdefensetraining', 'model', 'testloader', 'criterion', 'optimizer', 'device', 'device', 'epsilon', '003', 'alpha', '0005', 'numiter', '10', 'epochs', '5', 'ai4sec', 'trang', '9', '13'], ['trường', 'đại', 'học', 'khoa', 'học', 'tự', 'nhiên', 'tphcm', 'khoa', 'công', 'nghệ', 'thông', 'tin', '4', 'quan', 'sát', 'kết', 'quả', '41', 'mô', 'hình', 'trước', 'khi', 'phòng', 'thủ', 'đối', 'với', 'mô', 'hình', 'truyền', 'thống', 'qua', '10vòng', 'học', 'mô', 'hình', 'toàn', 'cục', 'với', 'đặc', 'trưng', 'được', 'trích', 'xuất', 'bằng', 'resnet18', 'có', 'được', 'độ', 'chính', 'xác', 'trên', 'tập', 'test', 'là', '809và', 'cũng', 'là', 'mô', 'hình', 'có', 'độ', 'chính', 'xác', 'tốt', 'nhất', 'trong', '10mô', 'hình', 'của', 'mỗi', 'vòng', 'hình', '11', 'hình', '1', 'độ', 'chính', 'xác', 'của', 'mô', 'hình', 'toàn', 'cục', 'sử', 'dụng', 'resnet18', 'trước', 'khi', 'áp', 'dụng', 'tấn', 'công', '42', 'mô', 'hình', 'sau', 'khi', 'phòng', 'thủ', 'đối', 'với', 'mô', 'hình', 'sau', 'khi', 'đã', 'áp', 'dụng', 'phương', 'pháp', 'tấn', 'công', 'và', 'phòng', 'thủ', 'qua', '10vòng', 'học', 'mô', 'hình', 'toàn', 'cục', 'với', 'đặc', 'trưng', 'được', 'trích', 'xuất', 'bằng', 'resnet18', 'có', 'được', 'độ', 'chính', 'xác', 'trên', 'tập', 'test', 'là', '4596và', 'cũng', 'là', 'mô', 'hình', 'có', 'độ', 'chính', 'xác', 'tốt', 'nhất', 'trong', '10mô', 'hình', 'của', 'mỗi', 'vòng', 'hình', '2', '43', 'nhận', 'xét', 'sự', 'sụt', 'giảm', 'đáng', 'kể', 'về', 'độ', 'chính', 'xác', 'từ', '8090xuống', '44sau', 'khi', 'áp', 'dụng', 'phương', 'pháp', 'phòng', 'thủ', 'chẳng', 'hạn', 'như', 'adversarial', 'training', 'là', 'một', 'hiện', 'tượng', 'phổ', 'biến', 'trong', 'học', 'máy', 'đối', 'kháng', 'và', 'có', 'thể', 'được', 'giải', 'thích', 'qua', 'nhiều', 'khía', 'cạnh', 'như', 'sau', '1số', 'liệu', 'được', 'lấy', 'từ', 'bài', 'báo', 'cáo', 'ở', 'lab', '2', 'ai4sec', 'trang', '10', '13'], ['trường', 'đại', 'học', 'khoa', 'học', 'tự', 'nhiên', 'tphcm', 'khoa', 'công', 'nghệ', 'thông', 'tin', 'hình', '2', 'độ', 'chính', 'xác', 'của', 'mô', 'hình', 'toàn', 'cục', 'sử', 'dụng', 'resnet18', 'sau', 'khi', 'áp', 'dụng', 'tấn', 'công', 'và', 'phòng', 'thủ', 'tại', 'server', '•đầu', 'tiên', 'là', 'do', 'mô', 'hình', 'đã', 'có', 'sự', 'đánh', 'đổi', 'giữa', 'tính', 'tổng', 'quát', 'trên', 'dữ', 'liệu', 'sạch', 'và', 'tính', 'kháng', 'cự', 'trên', 'dữ', 'liệu', 'đối', 'kháng', 'mô', 'hình', 'ban', 'đầu', 'trước', 'khi', 'phòng', 'thủ', '∗được', 'huấn', 'luyện', 'trên', 'dữ', 'liệu', 'gốc', 'sạch', 'tối', 'ưu', 'hóa', 'hoàn', 'toàn', 'để', 'đạt', 'hiệu', 'suất', 'tốt', 'trên', 'dữ', 'liệu', 'này', '∗vì', 'không', 'phải', 'tối', 'ưu', 'thêm', 'cho', 'khả', 'năng', 'kháng', 'cự', 'với', 'tấn', 'công', 'đối', 'kháng', 'mô', 'hình', 'vẫn', 'giữ', 'được', 'độ', 'chính', 'xác', 'cao', 'trên', 'dữ', 'liệu', 'sạch', 'mô', 'hình', 'sau', 'phòng', 'thủ', '∗quá', 'trình', 'adversarial', 'training', 'đưa', 'thêm', 'dữ', 'liệu', 'đối', 'kháng', 'adversarial', 'examples', 'vào', 'quá', 'trình', 'huấn', 'luyện', 'khi', 'đó', 'mô', 'hình', 'phải', 'học', 'cách', 'phân', 'biệt', 'cả', 'dữ', 'liệu', 'sạch', 'lẫn', 'dữ', 'liệu', 'đối', 'kháng', '∗điều', 'này', 'tạo', 'ra', 'một', 'sự', 'đánh', 'đổi', 'tradeoff', 'vì', 'mô', 'hình', 'cần', 'tối', 'ưu', 'thêm', 'cho', 'khả', 'năng', 'chống', 'chịu', 'với', 'các', 'tấn', 'công', 'thay', 'vì', 'chỉ', 'tập', 'trung', 'vào', 'độ', 'chính', 'xác', 'trên', 'dữ', 'liệu', 'sạch', '∗kết', 'quả', 'là', 'mô', 'hình', 'sau', 'phòng', 'thủ', 'có', 'thể', 'mất', 'đi', 'một', 'phần', 'hiệu', 'suất', 'trên', 'dữ', 'liệu', 'gốc', '•sự', 'phân', 'bổ', 'tài', 'nguyên', 'huấn', 'luyện', 'của', 'mô', 'hình', 'mô', 'hình', 'phải', 'phân', 'bổ', 'tài', 'nguyên', 'parameters', 'gradients', 'để', 'học', 'cách', 'kháng', 'cự', 'với', 'dữ', 'liệu', 'đối', 'kháng', 'vì', 'không', 'có', 'tài', 'nguyên', 'dư', 'thừa', 'điều', 'này', 'có', 'thể', 'dẫn', 'đến', 'việc', 'mô', 'hình', 'không', 'còn', 'đủ', 'khả', 'năng', 'để', 'tối', 'ưu', 'hóa', 'trên', 'dữ', 'liệu', 'gốc', '•phụ', 'thuộc', 'vào', 'các', 'siêu', 'tham', 'số', 'trong', 'quá', 'trình', 'huấn', 'luyện', 'phòng', 'thủ', 'ai4sec', 'trang', '11', '13'], ['trường', 'đại', 'học', 'khoa', 'học', 'tự', 'nhiên', 'tphcm', 'khoa', 'công', 'nghệ', 'thông', 'tin', 'epsilon', 'mức', 'độ', 'nhiễu', 'nếu', 'giá', 'trị', 'epsilon', 'quá', 'lớn', 'các', 'mẫu', 'đối', 'kháng', 'được', 'tạo', 'ra', 'có', 'thể', 'rất', 'khác', 'biệt', 'so', 'với', 'dữ', 'liệu', 'sạch', 'dẫn', 'đến', 'khó', 'khăn', 'trong', 'việc', 'cân', 'bằng', 'giữa', 'dữ', 'liệu', 'gốc', 'và', 'đối', 'kháng', 'alpha', 'và', 'số', 'lần', 'lặp', 'của', 'pgd', 'nếu', 'quá', 'trình', 'tạo', 'mẫu', 'đối', 'kháng', 'quá', 'mạnh', 'mô', 'hình', 'sẽ', 'bị', 'quá', 'tải', 'khi', 'phải', 'xử', 'lý', 'chúng', 'dẫn', 'đến', 'mất', 'hiệu', 'suất', 'trên', 'dữ', 'liệu', 'gốc', 'ai4sec', 'trang', '12', '13'], ['trường', 'đại', 'học', 'khoa', 'học', 'tự', 'nhiên', 'tphcm', 'khoa', 'công', 'nghệ', 'thông', 'tin', 'tài', 'liệu', '1nicholas', 'carlini', 'and', 'david', 'wagner', 'adversarial', 'examples', 'are', 'not', 'easily', 'detected', 'bypassing', 'ten', 'detection', 'methods', '2017', 'arxiv', '170507263', 'cslg', 'urlhttpsarxivorgabs1705', '07263', '2ian', 'j', 'goodfellow', 'jonathon', 'shlens', 'and', 'christian', 'szegedy', 'explaining', 'and', 'harnessing', 'adversarial', 'examples', '2015', 'arxiv', '14126572', 'statml', 'urlhttpsarxivorgabs14126572', 'ai4sec', 'trang', '13', '13']]\n"
     ]
    },
    {
     "name": "stderr",
     "output_type": "stream",
     "text": [
      "\n"
     ]
    }
   ],
   "source": [
    "import PyPDF2\n",
    "from tqdm import tqdm\n",
    "from rank_bm25 import BM25Okapi\n",
    "import string\n",
    "import torch\n",
    "\n",
    "# Function to extract text from a PDF file using PyPDF2\n",
    "def extract_text_from_pdf(pdf_path):\n",
    "    corpus = []\n",
    "    with open(pdf_path, \"rb\") as file:\n",
    "        reader = PyPDF2.PdfReader(file)\n",
    "        for page in reader.pages:\n",
    "            text = page.extract_text()\n",
    "            if text:  # Ensure there's text on the page\n",
    "                corpus.append({\"passage\": text.strip()})\n",
    "    return corpus\n",
    "\n",
    "# Function to split text into tokens\n",
    "def split_text(text):\n",
    "    text = text.translate(str.maketrans('', '', string.punctuation))\n",
    "    words = text.lower().split()\n",
    "    words = [word for word in words if len(word.strip()) > 0]\n",
    "    return words\n",
    "\n",
    "# Path to your PDF file\n",
    "pdf_path = \"/home/jupyter-trunglph/Others/RAG/21120157_21120415.pdf\"  # Replace with your PDF path\n",
    "\n",
    "# Extract the corpus from the PDF\n",
    "meta_corpus = extract_text_from_pdf(pdf_path)\n",
    "print(\"Meta corpus:\", meta_corpus)\n",
    "\n",
    "# Initiate BM25 retriever\n",
    "tokenized_corpus = [split_text(doc[\"passage\"]) for doc in tqdm(meta_corpus)]\n",
    "print(\"Tokenized_corpus:\", tokenized_corpus)\n",
    "bm25 = BM25Okapi(tokenized_corpus)"
   ]
  },
  {
   "cell_type": "code",
   "execution_count": 2,
   "metadata": {},
   "outputs": [],
   "source": [
    "def retrieve(question, topk=50):\n",
    "    \"\"\"\n",
    "    Get most relevant chunks to the question using simple BM25 score.\n",
    "    \"\"\"\n",
    "    tokenized_query = split_text(question)\n",
    "    bm25_scores = bm25.get_scores(tokenized_query)\n",
    "    corpus_size = len(meta_corpus)\n",
    "    for i in range(corpus_size):\n",
    "        meta_corpus[i][\"bm25_score\"] = bm25_scores[i]\n",
    "    bm25_passages = sorted(meta_corpus, key=lambda x: x[\"bm25_score\"], reverse=True)\n",
    "    return bm25_passages[:topk]"
   ]
  },
  {
   "cell_type": "code",
   "execution_count": 3,
   "metadata": {},
   "outputs": [
    {
     "data": {
      "text/plain": [
       "[{'passage': 'Trường Đại học Khoa học Tự Nhiên TP.HCM Khoa: Công nghệ Thông tin\\nMục lục\\nI Thông tin chung 4\\nII Nội dung báo cáo 5\\n1 Mô hình gốc ban đầu 5\\n1.1 Tổng quan về Federated Learning . . . . . . . . . . . . . . . . . . . . . . . . . . . . . 5\\n1.2 Cấu trúc mô hình sử dụng ResNet-18 trong FL . . . . . . . . . . . . . . . . . . . . . . 5\\n1.3 Quy trình hoạt động của máy chủ (Server) . . . . . . . . . . . . . . . . . . . . . . . . 5\\n1.4 Quy trình hoạt động của máy khách (Client) . . . . . . . . . . . . . . . . . . . . . . . 6\\n1.5 Tổng hợp mô hình . . . . . . . . . . . . . . . . . . . . . . . . . . . . . . . . . . . . . 6\\nIII Nội dung báo cáo 7\\n2 Xây dựng mô hình tấn công 7\\n2.1 Các bước triển khai PGD Attack . . . . . . . . . . . . . . . . . . . . . . . . . . . . . 7\\n2.2 Tích hợp vào client . . . . . . . . . . . . . . . . . . . . . . . . . . . . . . . . . . . . 8\\n3 Xây dựng mô hình phòng thủ tại Server 8\\n3.1 Tại sao lựa chọn Adversarial Training? . . . . . . . . . . . . . . . . . . . . . . . . . . 8\\n3.2 Mô hình phòng thủ: Adversarial Defense Training . . . . . . . . . . . . . . . . . . . . . 9\\n3.3 Tích hợp vào server . . . . . . . . . . . . . . . . . . . . . . . . . . . . . . . . . . . . 9\\n4 Quan sát kết quả 10\\n4.1 Mô hình trước khi phòng thủ . . . . . . . . . . . . . . . . . . . . . . . . . . . . . . . 10\\n4.2 Mô hình sau khi phòng thủ . . . . . . . . . . . . . . . . . . . . . . . . . . . . . . . . 10\\n4.3 Nhận xét . . . . . . . . . . . . . . . . . . . . . . . . . . . . . . . . . . . . . . . . . . 10\\nAI4Sec Trang: 1 / 13',\n",
       "  'bm25_score': np.float64(10.049774819267077)},\n",
       " {'passage': 'Trường Đại học Khoa học Tự Nhiên TP.HCM Khoa: Công nghệ Thông tin\\nPhần II\\nNội dung báo cáo\\n1 Mô hình gốc ban đầu\\n1.1 Tổng quan về Federated Learning\\nFederated Learning (FL) là một phương pháp học máy phân tán, nơi nhiều thiết bị hoặc nút tính toán\\ncục bộ tham gia vào việc huấn luyện một mô hình chung mà không cần chia sẻ dữ liệu thô. Thay vào đó,\\ncác thiết bị này cập nhật mô hình cục bộ và gửi các tham số (weights) hoặc gradients đã học được về\\ncho máy chủ trung tâm. Máy chủ thực hiện việc tổng hợp các tham số này để tạo ra một mô hình toàn\\ncục được cải tiến, sau đó gửi mô hình cập nhật lại cho các thiết bị để tiếp tục huấn luyện. Phương pháp\\nnày giúp bảo vệ quyền riêng tư dữ liệu, giảm tải băng thông và cải thiện khả năng mở rộng hệ thống.\\n1.2 Cấu trúc mô hình sử dụng ResNet-18 trong FL\\nTrong bài toán này, chúng em sử dụng một biến thể của ResNet-18, một kiến trúc mạng nơ-ron tích\\nchập (CNN) mạnh mẽ, làm trình trích xuất đặc trưng. ResNet-18 có khả năng học được các biểu diễn\\nmạnh mẽ từ dữ liệu hình ảnh, nhờ vào các khối residual kết hợp. Sau tầng trích xuất đặc trưng, một lớp\\nhồi quy logistic được gắn kèm để thực hiện phân loại đầu ra với 10 lớp của tập dữ liệu CIFAR-10. Điều\\nnày tạo nên mô hình LogisticRegressionModelV2, nơi ResNet-18 đóng vai trò nền tảng, kết hợp với lớp\\nlogistic để hoàn thiện quy trình huấn luyện.\\n1.3 Quy trình hoạt động của máy chủ (Server)\\nServer đóng vai trò trung tâm trong việc tổng hợp mô hình và điều phối giao tiếp với các client. Quy\\ntrình hoạt động của server có thể được mô tả qua các bước sau:\\n•Khởi tạo: Server bắt đầu bằng việc tạo một mô hình toàn cục (global model) ở trạng thái khởi\\nđầu và tải dữ liệu kiểm thử (test dataset) để đánh giá hiệu năng của mô hình.\\n•Nhận dữ liệu từ client: Server lắng nghe và nhận các tham số mô hình đã được huấn luyện cục bộ\\ntừ mỗi client. Các tham số này được lưu lại để chuẩn bị cho việc tổng hợp.\\n•Tổng hợp mô hình: Server thực hiện việc tổng hợp mô hình bằng cách tính trung bình các tham số\\ntừ tất cả client. Việc này đảm bảo rằng kiến thức từ các client được hợp nhất mà không cần chia\\nsẻ dữ liệu.\\nAI4Sec Trang: 5 / 13',\n",
       "  'bm25_score': np.float64(9.335141526488691)},\n",
       " {'passage': 'Trường Đại học Khoa học Tự Nhiên TP.HCM Khoa: Công nghệ Thông tin\\n4 Quan sát kết quả\\n4.1 Mô hình trước khi phòng thủ\\nĐối với mô hình truyền thống, qua 10vòng học, mô hình toàn cục với đặc trưng được trích xuất\\nbằng Resnet18 có được độ chính xác trên tập test là 80.9%và cũng là mô hình có độ chính xác tốt nhất\\ntrong 10mô hình của mỗi vòng (Hình 1).1\\nHình 1: Độ chính xác của mô hình toàn cục sử dụng Resnet18 trước khi áp dụng tấn công\\n4.2 Mô hình sau khi phòng thủ\\nĐối với mô hình sau khi đã áp dụng phương pháp tấn công và phòng thủ, qua 10vòng học, mô hình\\ntoàn cục với đặc trưng được trích xuất bằng Resnet18 có được độ chính xác trên tập test là 45.96%và\\ncũng là mô hình có độ chính xác tốt nhất trong 10mô hình của mỗi vòng (Hình 2).\\n4.3 Nhận xét\\nSự sụt giảm đáng kể về độ chính xác từ 80.90%xuống 44%sau khi áp dụng phương pháp phòng thủ,\\nchẳng hạn như Adversarial Training, là một hiện tượng phổ biến trong học máy đối kháng và có thể\\nđược giải thích qua nhiều khía cạnh như sau:\\n1Số liệu được lấy từ bài báo cáo ở lab 2.\\nAI4Sec Trang: 10 / 13',\n",
       "  'bm25_score': np.float64(4.126220076952187)}]"
      ]
     },
     "execution_count": 3,
     "metadata": {},
     "output_type": "execute_result"
    }
   ],
   "source": [
    "question = \"Cấu trúc mô hình sử dụng ResNet-18 trong Federated Learning?\"\n",
    "top_passages = retrieve(question, topk=3)\n",
    "top_passages"
   ]
  },
  {
   "cell_type": "code",
   "execution_count": 4,
   "metadata": {},
   "outputs": [],
   "source": [
    "prompt_template = (\n",
    "    \"### System:\\n\"\n",
    "    \"Below is an instruction that describes a task, paired with an input that provides further context. \"\n",
    "    \"Write a response that appropriately completes the request.\\n\\n\\n\\n\"\n",
    "    \"### Instruction:\\n{instruction}\\n\\n\"\n",
    "    \"### Input:\\n{input}\\n\\n\"\n",
    "    \"### Response:\\n{output}\"\n",
    ")\n",
    "\n",
    "def get_prompt(question, contexts):\n",
    "    context = \"\\n\\n\".join([f\"Context [{i+1}]: {x['passage']}\" for i, x in enumerate(contexts)])\n",
    "    instruction = 'You are an AI assistant. Provide a detailed answer so user don’t need to search outside to understand the answer.'\n",
    "    input = f\"Dựa vào một số ngữ cảnh được cho dưới đây, trả lời câu hỏi ở cuối.\\n\\n{context}\\n\\nQuestion: {question}\\nHãy trả lời chi tiết và đầy đủ.\"\n",
    "    prompt = prompt_template.format(\n",
    "        instruction=instruction,\n",
    "        input=input,\n",
    "        output=''\n",
    "    )\n",
    "    return prompt"
   ]
  },
  {
   "cell_type": "code",
   "execution_count": 5,
   "metadata": {},
   "outputs": [
    {
     "name": "stdout",
     "output_type": "stream",
     "text": [
      "### System:\n",
      "Below is an instruction that describes a task, paired with an input that provides further context. Write a response that appropriately completes the request.\n",
      "\n",
      "\n",
      "\n",
      "### Instruction:\n",
      "You are an AI assistant. Provide a detailed answer so user don’t need to search outside to understand the answer.\n",
      "\n",
      "### Input:\n",
      "Dựa vào một số ngữ cảnh được cho dưới đây, trả lời câu hỏi ở cuối.\n",
      "\n",
      "Context [1]: Trường Đại học Khoa học Tự Nhiên TP.HCM Khoa: Công nghệ Thông tin\n",
      "Mục lục\n",
      "I Thông tin chung 4\n",
      "II Nội dung báo cáo 5\n",
      "1 Mô hình gốc ban đầu 5\n",
      "1.1 Tổng quan về Federated Learning . . . . . . . . . . . . . . . . . . . . . . . . . . . . . 5\n",
      "1.2 Cấu trúc mô hình sử dụng ResNet-18 trong FL . . . . . . . . . . . . . . . . . . . . . . 5\n",
      "1.3 Quy trình hoạt động của máy chủ (Server) . . . . . . . . . . . . . . . . . . . . . . . . 5\n",
      "1.4 Quy trình hoạt động của máy khách (Client) . . . . . . . . . . . . . . . . . . . . . . . 6\n",
      "1.5 Tổng hợp mô hình . . . . . . . . . . . . . . . . . . . . . . . . . . . . . . . . . . . . . 6\n",
      "III Nội dung báo cáo 7\n",
      "2 Xây dựng mô hình tấn công 7\n",
      "2.1 Các bước triển khai PGD Attack . . . . . . . . . . . . . . . . . . . . . . . . . . . . . 7\n",
      "2.2 Tích hợp vào client . . . . . . . . . . . . . . . . . . . . . . . . . . . . . . . . . . . . 8\n",
      "3 Xây dựng mô hình phòng thủ tại Server 8\n",
      "3.1 Tại sao lựa chọn Adversarial Training? . . . . . . . . . . . . . . . . . . . . . . . . . . 8\n",
      "3.2 Mô hình phòng thủ: Adversarial Defense Training . . . . . . . . . . . . . . . . . . . . . 9\n",
      "3.3 Tích hợp vào server . . . . . . . . . . . . . . . . . . . . . . . . . . . . . . . . . . . . 9\n",
      "4 Quan sát kết quả 10\n",
      "4.1 Mô hình trước khi phòng thủ . . . . . . . . . . . . . . . . . . . . . . . . . . . . . . . 10\n",
      "4.2 Mô hình sau khi phòng thủ . . . . . . . . . . . . . . . . . . . . . . . . . . . . . . . . 10\n",
      "4.3 Nhận xét . . . . . . . . . . . . . . . . . . . . . . . . . . . . . . . . . . . . . . . . . . 10\n",
      "AI4Sec Trang: 1 / 13\n",
      "\n",
      "Context [2]: Trường Đại học Khoa học Tự Nhiên TP.HCM Khoa: Công nghệ Thông tin\n",
      "Phần II\n",
      "Nội dung báo cáo\n",
      "1 Mô hình gốc ban đầu\n",
      "1.1 Tổng quan về Federated Learning\n",
      "Federated Learning (FL) là một phương pháp học máy phân tán, nơi nhiều thiết bị hoặc nút tính toán\n",
      "cục bộ tham gia vào việc huấn luyện một mô hình chung mà không cần chia sẻ dữ liệu thô. Thay vào đó,\n",
      "các thiết bị này cập nhật mô hình cục bộ và gửi các tham số (weights) hoặc gradients đã học được về\n",
      "cho máy chủ trung tâm. Máy chủ thực hiện việc tổng hợp các tham số này để tạo ra một mô hình toàn\n",
      "cục được cải tiến, sau đó gửi mô hình cập nhật lại cho các thiết bị để tiếp tục huấn luyện. Phương pháp\n",
      "này giúp bảo vệ quyền riêng tư dữ liệu, giảm tải băng thông và cải thiện khả năng mở rộng hệ thống.\n",
      "1.2 Cấu trúc mô hình sử dụng ResNet-18 trong FL\n",
      "Trong bài toán này, chúng em sử dụng một biến thể của ResNet-18, một kiến trúc mạng nơ-ron tích\n",
      "chập (CNN) mạnh mẽ, làm trình trích xuất đặc trưng. ResNet-18 có khả năng học được các biểu diễn\n",
      "mạnh mẽ từ dữ liệu hình ảnh, nhờ vào các khối residual kết hợp. Sau tầng trích xuất đặc trưng, một lớp\n",
      "hồi quy logistic được gắn kèm để thực hiện phân loại đầu ra với 10 lớp của tập dữ liệu CIFAR-10. Điều\n",
      "này tạo nên mô hình LogisticRegressionModelV2, nơi ResNet-18 đóng vai trò nền tảng, kết hợp với lớp\n",
      "logistic để hoàn thiện quy trình huấn luyện.\n",
      "1.3 Quy trình hoạt động của máy chủ (Server)\n",
      "Server đóng vai trò trung tâm trong việc tổng hợp mô hình và điều phối giao tiếp với các client. Quy\n",
      "trình hoạt động của server có thể được mô tả qua các bước sau:\n",
      "•Khởi tạo: Server bắt đầu bằng việc tạo một mô hình toàn cục (global model) ở trạng thái khởi\n",
      "đầu và tải dữ liệu kiểm thử (test dataset) để đánh giá hiệu năng của mô hình.\n",
      "•Nhận dữ liệu từ client: Server lắng nghe và nhận các tham số mô hình đã được huấn luyện cục bộ\n",
      "từ mỗi client. Các tham số này được lưu lại để chuẩn bị cho việc tổng hợp.\n",
      "•Tổng hợp mô hình: Server thực hiện việc tổng hợp mô hình bằng cách tính trung bình các tham số\n",
      "từ tất cả client. Việc này đảm bảo rằng kiến thức từ các client được hợp nhất mà không cần chia\n",
      "sẻ dữ liệu.\n",
      "AI4Sec Trang: 5 / 13\n",
      "\n",
      "Context [3]: Trường Đại học Khoa học Tự Nhiên TP.HCM Khoa: Công nghệ Thông tin\n",
      "4 Quan sát kết quả\n",
      "4.1 Mô hình trước khi phòng thủ\n",
      "Đối với mô hình truyền thống, qua 10vòng học, mô hình toàn cục với đặc trưng được trích xuất\n",
      "bằng Resnet18 có được độ chính xác trên tập test là 80.9%và cũng là mô hình có độ chính xác tốt nhất\n",
      "trong 10mô hình của mỗi vòng (Hình 1).1\n",
      "Hình 1: Độ chính xác của mô hình toàn cục sử dụng Resnet18 trước khi áp dụng tấn công\n",
      "4.2 Mô hình sau khi phòng thủ\n",
      "Đối với mô hình sau khi đã áp dụng phương pháp tấn công và phòng thủ, qua 10vòng học, mô hình\n",
      "toàn cục với đặc trưng được trích xuất bằng Resnet18 có được độ chính xác trên tập test là 45.96%và\n",
      "cũng là mô hình có độ chính xác tốt nhất trong 10mô hình của mỗi vòng (Hình 2).\n",
      "4.3 Nhận xét\n",
      "Sự sụt giảm đáng kể về độ chính xác từ 80.90%xuống 44%sau khi áp dụng phương pháp phòng thủ,\n",
      "chẳng hạn như Adversarial Training, là một hiện tượng phổ biến trong học máy đối kháng và có thể\n",
      "được giải thích qua nhiều khía cạnh như sau:\n",
      "1Số liệu được lấy từ bài báo cáo ở lab 2.\n",
      "AI4Sec Trang: 10 / 13\n",
      "\n",
      "Question: Cấu trúc mô hình sử dụng ResNet-18 trong Federated Learning?\n",
      "Hãy trả lời chi tiết và đầy đủ.\n",
      "\n",
      "### Response:\n",
      "\n"
     ]
    }
   ],
   "source": [
    "## Let's see how a prompt fed to the LLM looks like\n",
    "contexts = retrieve(question, topk=3)\n",
    "prompt = get_prompt(question, contexts)\n",
    "print(prompt)"
   ]
  },
  {
   "cell_type": "code",
   "execution_count": 6,
   "metadata": {},
   "outputs": [
    {
     "name": "stderr",
     "output_type": "stream",
     "text": [
      "/home/jupyter-trunglph/.conda/envs/RAG/lib/python3.13/site-packages/tqdm/auto.py:21: TqdmWarning: IProgress not found. Please update jupyter and ipywidgets. See https://ipywidgets.readthedocs.io/en/stable/user_install.html\n",
      "  from .autonotebook import tqdm as notebook_tqdm\n",
      "Loading checkpoint shards: 100%|██████████| 2/2 [00:32<00:00, 16.01s/it]\n"
     ]
    }
   ],
   "source": [
    "from transformers import GenerationConfig, TextStreamer\n",
    "from transformers import LlamaForCausalLM, LlamaTokenizer, LlamaConfig\n",
    "import torch\n",
    "\n",
    "# torch_dtype = torch.bfloat16\n",
    "model_id = \"llm4fun/vietrag-7b-v1.0\"\n",
    "device = \"cuda\"\n",
    "\n",
    "tokenizer = LlamaTokenizer.from_pretrained(model_id)\n",
    "# model = LlamaForCausalLM.from_pretrained(\n",
    "#     model_id,\n",
    "#     config=LlamaConfig.from_pretrained(model_id),\n",
    "#     torch_dtype=torch_dtype\n",
    "# )\n",
    "\n",
    "from transformers import BitsAndBytesConfig\n",
    "\n",
    "quantization_config = BitsAndBytesConfig(\n",
    "    load_in_4bit=True  # Use 8-bit precision to reduce memory usage\n",
    ")\n",
    "\n",
    "model = LlamaForCausalLM.from_pretrained(\n",
    "    model_id,\n",
    "    config=LlamaConfig.from_pretrained(model_id),\n",
    "    torch_dtype=torch.bfloat16,\n",
    "    device_map=\"auto\",  # Let Hugging Face automatically allocate the model\n",
    "    quantization_config=quantization_config\n",
    ")\n",
    "\n",
    "\n",
    "model = model.eval().to(device)"
   ]
  },
  {
   "cell_type": "code",
   "execution_count": 7,
   "metadata": {},
   "outputs": [],
   "source": [
    "def generate(prompt, max_new_tokens=1024):\n",
    "    \"\"\"Text completion with a given prompt. In other words, give answer to your question.\n",
    "    Args:\n",
    "        prompt (str): Basically <instruction> + <question> + <retrieved_context>\n",
    "        generation_config (not existed yet): For now, please manually tweak hyperparameters\n",
    "        for generation in the `generation_config` below. Uncomment necessary arguments as you wish.\n",
    "    Returns:\n",
    "        list: an answer to the question within the prompt.\n",
    "    \"\"\"\n",
    "    input_ids = tokenizer(prompt, return_tensors=\"pt\")[\"input_ids\"].to(model.device)\n",
    "    model.eval()\n",
    "    with torch.no_grad():\n",
    "        generation_config = GenerationConfig(\n",
    "            repetition_penalty=1.13,\n",
    "            max_new_tokens=max_new_tokens,\n",
    "            # temperature=0.2,\n",
    "            # top_p=0.95,\n",
    "            # top_k=20,\n",
    "            # bos_token_id=tokenizer.bos_token_id,\n",
    "            # eos_token_id=tokenizer.eos_token_id,\n",
    "            # eos_token_id=0, # for open-end generation.\n",
    "            pad_token_id=tokenizer.pad_token_id,\n",
    "            do_sample=False,\n",
    "            use_cache=True,\n",
    "            return_dict_in_generate=True,\n",
    "            output_attentions=False,\n",
    "            output_hidden_states=False,\n",
    "            output_scores=False,\n",
    "        )\n",
    "        streamer = TextStreamer(tokenizer, skip_prompt=True)\n",
    "        generated = model.generate(\n",
    "            inputs=input_ids,\n",
    "            generation_config=generation_config,\n",
    "            streamer=streamer,\n",
    "        )\n",
    "\n",
    "    gen_tokens = generated[\"sequences\"].cpu()[:, len(input_ids[0]):]\n",
    "    output = tokenizer.batch_decode(gen_tokens)[0]\n",
    "    output = output.split(tokenizer.eos_token)[0]\n",
    "    return output.strip()"
   ]
  },
  {
   "cell_type": "code",
   "execution_count": 8,
   "metadata": {},
   "outputs": [
    {
     "name": "stdout",
     "output_type": "stream",
     "text": [
      "Cấu trúc mô hình sử dụng ResNet-18 trong Federated Learning bao gồm một mô hình toàn cục với đặc trưng được trích xuất bằng ResNet-18. Mô hình này được tạo ra bởi máy chủ (server), sau đó nhận dữ liệu từ các máy khách (client) để huấn luyện. Dữ liệu này sau đó được tổng hợp bởi máy chủ, đảm bảo rằng kiến thức từ các client được hợp nhất mà không cần chia sẻ dữ liệu. Sau đó, mô hình được sử dụng để phân loại dữ liệu kiểm tra.</s>\n"
     ]
    },
    {
     "name": "stderr",
     "output_type": "stream",
     "text": [
      "From v4.47 onwards, when a model cache is to be returned, `generate` will return a `Cache` instance instead by default (as opposed to the legacy tuple of tuples format). If you want to keep returning the legacy format, please set `return_legacy_cache=True`.\n"
     ]
    }
   ],
   "source": [
    "output = generate(prompt)"
   ]
  },
  {
   "cell_type": "code",
   "execution_count": 9,
   "metadata": {},
   "outputs": [],
   "source": [
    "def rag(question, topk=3):\n",
    "    top_passages = retrieve(question, topk=topk)\n",
    "    retrieved_context = \"\\n\\n\".join([f\"Context [{i+1}]: {x['passage']}\" \n",
    "                    for i, x in enumerate(top_passages)])\n",
    "    prompt = get_prompt(question, contexts)\n",
    "    output = generate(prompt)\n",
    "    result = {\n",
    "        \"retrieved_context\": retrieved_context,\n",
    "        \"generated_answer\": output\n",
    "    }\n",
    "    return result"
   ]
  },
  {
   "cell_type": "code",
   "execution_count": 10,
   "metadata": {},
   "outputs": [
    {
     "name": "stdout",
     "output_type": "stream",
     "text": [
      "Câu hỏi: Federated Learning là gì?\n",
      "Federated Learning (FL) là một phương pháp học máy phân tán, nơi nhiều thiết bị hoặc nút tính toán cục bộ tham gia vào việc huấn luyện một mô hình chung mà không cần chia sẻ dữ liệu thô. Thay vào đó, các thiết bị này cập nhật mô hình cục bộ và gửi các tham số (weights) hoặc gradients đã học được về cho máy chủ trung tâm. Máy chủ thực hiện việc tổng hợp các tham số này để tạo ra một mô hình toàn cục được cải tiến, sau đó gửi mô hình cập nhật lại cho các thiết bị để tiếp tục huấn luyện [2].</s>\n",
      "------------------------------------------------------------------------------------------\n",
      "Câu hỏi: Resnet18 là gì?\n",
      "ResNet18 là một kiến trúc mạng nơ-ron tích chập (CNN), được sử dụng trong bài toán này để trích xuất đặc trưng từ dữ liệu hình ảnh. Nó được sử dụng làm trình trích xuất đặc trưng trong mô hình LogisticRegressionModelV2, nơi ResNet-18 đóng vai trò nền tảng, kết hợp với lớp hồi quy logistic để hoàn thiện quy trình huấn luyện.</s>\n",
      "------------------------------------------------------------------------------------------\n",
      "Câu hỏi: Quy định hoạt động của máy chủ (Server)?\n",
      "Quy định hoạt động của máy chủ (Server) trong bối cảnh này là:\n",
      "\n",
      "1. Khởi tạo: Bắt đầu bằng cách tạo một mô hình toàn cục (global model) ở trạng thái khởi đầu và tải dữ liệu kiểm tra (test dataset) để đánh giá hiệu suất của mô hình. 2. Nhận dữ liệu từ client: Lắng nghe và nhận các tham số mô hình đã được huấn luyện cục bộ từ mỗi client. Các tham số này được lưu lại để chuẩn bị cho việc tổng hợp. 3. Tổng hợp mô hình: Server thực hiện việc tổng hợp mô hình bằng cách tính trung bình các tham số từ tất cả các client. Việc này đảm bảo rằng kiến thức từ các client được hợp nhất mà không cần chia sẻ dữ liệu.</s>\n",
      "------------------------------------------------------------------------------------------\n"
     ]
    }
   ],
   "source": [
    "questions = [\n",
    "    \"Federated Learning là gì?\",\n",
    "    \"Resnet18 là gì?\",\n",
    "    \"Quy định hoạt động của máy chủ (Server)?\",\n",
    "]\n",
    "for question in questions:\n",
    "    print(f\"Câu hỏi: {question}\")\n",
    "    output = rag(question)\n",
    "    print(\"---\" * 30)"
   ]
  },
  {
   "cell_type": "code",
   "execution_count": null,
   "metadata": {},
   "outputs": [],
   "source": []
  },
  {
   "cell_type": "code",
   "execution_count": null,
   "metadata": {},
   "outputs": [],
   "source": []
  }
 ],
 "metadata": {
  "kernelspec": {
   "display_name": "RAG",
   "language": "python",
   "name": "python3"
  },
  "language_info": {
   "codemirror_mode": {
    "name": "ipython",
    "version": 3
   },
   "file_extension": ".py",
   "mimetype": "text/x-python",
   "name": "python",
   "nbconvert_exporter": "python",
   "pygments_lexer": "ipython3",
   "version": "3.13.1"
  }
 },
 "nbformat": 4,
 "nbformat_minor": 2
}
